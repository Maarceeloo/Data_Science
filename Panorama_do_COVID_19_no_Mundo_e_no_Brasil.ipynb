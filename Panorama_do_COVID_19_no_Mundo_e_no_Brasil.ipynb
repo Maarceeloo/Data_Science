{
  "nbformat": 4,
  "nbformat_minor": 0,
  "metadata": {
    "colab": {
      "provenance": [],
      "collapsed_sections": [
        "-eFQZydM9O9J",
        "pV1zDBbjmJnN"
      ],
      "include_colab_link": true
    },
    "kernelspec": {
      "name": "python3",
      "display_name": "Python 3"
    }
  },
  "cells": [
    {
      "cell_type": "markdown",
      "metadata": {
        "id": "view-in-github",
        "colab_type": "text"
      },
      "source": [
        "<a href=\"https://colab.research.google.com/github/Maarceeloo/Data_Science/blob/main/Panorama_do_COVID_19_no_Mundo_e_no_Brasil.ipynb\" target=\"_parent\"><img src=\"https://colab.research.google.com/assets/colab-badge.svg\" alt=\"Open In Colab\"/></a>"
      ]
    },
    {
      "cell_type": "markdown",
      "metadata": {
        "id": "-eFQZydM9O9J"
      },
      "source": [
        "<img alt=\"Colaboratory logo\" width=\"15%\" src=\"https://raw.githubusercontent.com/carlosfab/escola-data-science/master/img/novo_logo_bg_claro.png\">\n",
        "\n",
        "#### **Data Science na Prática 3.0**\n",
        "*by [sigmoidal.ai](https://sigmoidal.ai)*  \n",
        "\n",
        "---\n",
        "  "
      ]
    },
    {
      "cell_type": "markdown",
      "metadata": {
        "id": "kLI0gJtzDGuQ"
      },
      "source": [
        "# Panorama do COVID-19 no Mundo e no Brasil\n",
        "\n",
        "O coronavírus é um vírus que pertence a família de vírus que causam infecções respiratórias e conhecida já desde a década de 1960. Normalmente, causam infecções mais leves, mas o SARS-CoV tem um impacto maior em seres humanos, podendo levar a quadros mais graves.\n",
        "\n",
        "Ele se transmite por meio das gotículas expelidas, quando alguém infectado espirra, tosse ou exala, podendo causar a doença – Covid-19. Quem estiver próximo e respirar, por exemplo, pode ser contaminado, assim como se a pessoa tocar em uma superfície contaminada e encostar no rosto em seguida. Normalmente, os sintomas são febre, tosse seca e cansaço. Na maioria dos casos, é possível se recuperar sem tratamentos específicos.\n",
        "\n",
        "<center><img alt=\"Colaboratory logo\" width=\"50%\" src=\"https://img.freepik.com/fotos-gratis/medico-usando-equipamento-de-protecao_23-2148847212.jpg?size=626&ext=jpg&ga=GA1.2.559654321.1669672138&semt=sph\"></center>\n",
        "\n",
        "A epidemia começou na cidade de Wuhan, na China, em dezembro de 2019, mas rapidamente se espalhou para o mundo. As principais teorias levantadas incluíam o contato entre um ser humano e um animal infectado e um acidente em um laboratório na China. \n",
        "\n",
        "No final de março, a OMS divulgou um relatório de 120 páginas, desenvolvido por cientistas da China e de outras partes do mundo, que reforçou a origem natural da epidemia. A tese mais aceita diz que o vírus passou do morcego para um mamífero intermediário, e dele para o ser humano. A transmissão de um morcego diretamente para um humano também foi apontada como uma hipótese possível e provável. \n",
        "\n",
        "O relatório ainda afirmou que a passagem do vírus para humanos por meio de produtos alimentícios é possível, porém uma hipótese remota. Já a possibilidade de o vírus ter escapado acidentalmente do Instituto de Virologia de Wuhan foi classificada como “extremamente improvável”. De acordo com o diretor-geral da OMS, no entanto, o relatório era um começo no caminho de determinar com precisão a origem do vírus, e não um fim. \n",
        "\n",
        "Dependendo do que for descoberto em novos estudos que já estão em andamento, talvez seja possível prevenir o aparecimento de novas pandemias.\n",
        "\n",
        "Fontes: \n",
        "https://blog.sabin.com.br/covid-19/como-surgiu-o-coronavirus/\n",
        "\n",
        "https://butantan.gov.br/covid/butantan-tira-duvida/tira-duvida-noticias/como-surgiu-o-novo-coronavirus-conheca-as-teorias-mais-aceitas-sobre-sua-origem"
      ]
    },
    {
      "cell_type": "markdown",
      "metadata": {
        "id": "0zxQHhIUDF_2"
      },
      "source": [
        "## Obtenção dos Dados\n",
        "\n",
        "*Os dados usados foram obtidos a partir do repositório sobre a covid-19, do  [OWID](https://github.com/owid/covid-19-data/tree/master/public/data) (Our World in Data),* eles monitoram e atualizam os dados a nível global.\n",
        "\n",
        "O dataset utilizado para a análise será um arquivo. `csv`\n",
        "\n",
        "* `owid-covid-data.csv` - Dados sobre o COVID-19 (coronavírus) por Our World in Data\n",
        "\n",
        "Neste dataset da COVID-19, serão apresentados dados sobre casos confirmados, mortes, hospitalizações, testes, vacinas, entre outros.\n",
        "\n",
        "São diversas as dificuldades encontradas para a compilação de todos esses dados, já que é necessário receber as informações do órgãos de saúde responsáveis, tendo cada pais e até mesmo estados uma regra diferente para divulgação, entretanto com essa iniciativa da World in Data, eles possuem um papel fundamental para um melhor acompanhamento da doença.\n",
        "\n",
        "Será apresentado nesse projeto um comparativo a nível mundial, com os países que tiveram maior número de casos confirmados de COVID-19 e de óbitos registrados. Será analisado também os indicadores individualmente do Brasil.\n",
        "\n"
      ]
    },
    {
      "cell_type": "markdown",
      "source": [
        "### Dicionário de Variáveis\n",
        "\n",
        "* `iso_code` - ISO 3166-1 alpha-3 – Código de Países de três letras. Observe que as regiões definidas por OWID (por exemplo, continentes como 'Europa') contêm o prefixo 'OWID_'. (three-letter country codes. Note that OWID-defined regions (e.g. continents like 'Europe') contain prefix 'OWID_'.)\n",
        "\n",
        "* `continent` - Continente (Continent of the geographical location).\n",
        "\n",
        "* `location` - Localização geográfica. A localização 'Internacional' considera regiões especiais (cruzeiros \"Diamond Princess\" e \"MS Zaandam\") (Geographical location. Location 'International' considers special regions (\"Diamond Princess\" and \"MS Zaandam\" cruises))\n",
        "\n",
        "* `date` - Data da Observação (Date of observation).\n",
        "* `total_cases` - Total de casos confirmados de COVID-19. As contagens podem incluir casos prováveis, quando relatados. (Total confirmed cases of COVID-19. Counts can include probable cases, where reported)\n",
        "* `new_cases` - Novos casos confirmados de COVID-19. As contagens podem incluir casos prováveis, quando relatados. Em casos raros em que nossa fonte relata uma alteração diária negativa devido a uma correção de dados, definimos essa métrica como NA. (New confirmed cases of COVID-19. Counts can include probable cases, where reported. In rare cases where our source reports a negative daily change due to a data correction, we set this metric to NA)\n",
        "* `new_cases_smoothed` - Novos casos confirmados de COVID-19 (suavização de 7 dias). As contagens podem incluir casos prováveis, quando relatados. (New confirmed cases of COVID-19 (7-day smoothed). Counts can include probable cases, where reported)\n",
        "* `total_deaths` - Total de mortes atribuídas à COVID-19. As contagens podem incluir mortes prováveis, quando relatadas. (Total deaths attributed to COVID-19. Counts can include probable deaths, where reported)\n",
        "* `new_deaths` - Novas mortes atribuídas à COVID-19. As contagens podem incluir mortes prováveis, quando relatadas. Em casos raros em que nossa fonte relata uma alteração diária negativa devido a uma correção de dados, definimos essa métrica como NA. (New deaths attributed to COVID-19. Counts can include probable deaths, where reported. In rare cases where our source reports a negative daily change due to a data correction, we set this metric to NA)\n",
        "* `new_deaths_smoothed` - Novas mortes atribuídas ao COVID-19 (suavização de 7 dias). As contagens podem incluir mortes prováveis, quando relatadas. (New deaths attributed to COVID-19 (7-day smoothed). Counts can include probable deaths, where reported)\n",
        "* `total_cases_per_million` - Total de casos confirmados de COVID-19 por 1.000.000 de pessoas. As contagens podem incluir casos prováveis, quando relatados. (Total confirmed cases of COVID-19 per 1,000,000 people. Counts can include probable cases, where reported)\n",
        "* `new_cases_per_million` - Novos casos confirmados de COVID-19 por 1.000.000 de pessoas. As contagens podem incluir casos prováveis, quando relatados. (New confirmed cases of COVID-19 per 1,000,000 people. Counts can include probable cases, where reported)\n",
        "* `new_cases_smoothed_per_million` - Novos casos confirmados de COVID-19 (suavização de 7 dias) por 1.000.000 de pessoas. As contagens podem incluir casos prováveis, quando relatados. (New confirmed cases of COVID-19 (7-day smoothed) per 1,000,000 people. Counts can include probable cases, where reported)\n",
        "* `total_deaths_per_million` - Total de mortes atribuídas ao COVID-19 por 1.000.000 de pessoas. As contagens podem incluir mortes prováveis, quando relatadas. (Total deaths attributed to COVID-19 per 1,000,000 people. Counts can include probable deaths, where reported)\n",
        "* `new_deaths_per_million` - Novas mortes atribuídas ao COVID-19 por 1.000.000 de pessoas. As contagens podem incluir mortes prováveis, quando relatadas. (New deaths attributed to COVID-19 per 1,000,000 people. Counts can include probable deaths, where reported)\n",
        "* `new_deaths_smoothed_per_million` - Novas mortes atribuídas ao COVID-19 (suavização de 7 dias) por 1.000.000 de pessoas. As contagens podem incluir mortes prováveis, quando relatadas. (New deaths attributed to COVID-19 (7-day smoothed) per 1,000,000 people. Counts can include probable deaths, where reported)\n",
        "* `reproduction_rate` - Estimativa em tempo real da taxa efetiva de reprodução (R) do COVID-19. Consulte https://github.com/crondonm/TrackingR/tree/main/Estimates-Database (Real-time estimate of the effective reproduction rate (R) of COVID-19. See https://github.com/crondonm/TrackingR/tree/main/Estimates-Database)\n",
        "* `icu_patients` - Número de pacientes com COVID-19 em unidades de terapia intensiva (UTIs) em um determinado dia. (Number of COVID-19 patients in intensive care units (ICUs) on a given day)\n",
        "* `icu_patients_per_million` - Número de pacientes com COVID-19 em unidades de terapia intensiva (UTIs) em um determinado dia por 1.000.000 de pessoas. (Number of COVID-19 patients in intensive care units (ICUs) on a given day per 1,000,000 people)\n",
        "* `hosp_patients` - Número de pacientes com COVID-19 internados em um determinado dia. (Number of COVID-19 patients in hospital on a given day)\n",
        "* `hosp_patients_per_million` - Número de pacientes com COVID-19 hospitalizados em um determinado dia por 1.000.000 de pessoas. (Number of COVID-19 patients in hospital on a given day per 1,000,000 people)\n",
        "* `weekly_icu_admissions` - Número de pacientes com COVID-19 recém-admitidos em unidades de terapia intensiva (UTIs) em uma determinada semana (data do relatório e os 6 dias anteriores). (Number of COVID-19 patients newly admitted to intensive care units (ICUs) in a given week (reporting date and the preceeding 6 days))\n",
        "* `weekly_icu_admissions_per_million` - Número de pacientes com COVID-19 recém-admitidos em unidades de terapia intensiva (UTIs) em uma determinada semana por 1.000.000 de pessoas (data do relatório e os 6 dias anteriores). (Number of COVID-19 patients newly admitted to intensive care units (ICUs) in a given week per 1,000,000 people (reporting date and the preceeding 6 days))\n",
        "* `weekly_hosp_admissions` - Número de pacientes com COVID-19 recém-admitidos em hospitais em uma determinada semana (data do relatório e os 6 dias anteriores). (Number of COVID-19 patients newly admitted to hospitals in a given week (reporting date and the preceeding 6 days))\n",
        "* `weekly_hosp_admissions_per_million` - Número de pacientes com COVID-19 recém-admitidos em hospitais em uma determinada semana por 1.000.000 de pessoas (data do relatório e os 6 dias anteriores). (Number of COVID-19 patients newly admitted to hospitals in a given week per 1,000,000 people (reporting date and the preceeding 6 days))\n",
        "* `total_tests` - Total de testes de COVID-19 realizados. (Total tests for COVID-19)\n",
        "* `new_tests` - Novos testes para COVID-19 (calculados apenas para dias consecutivos). (New tests for COVID-19 (only calculated for consecutive days))\n",
        "* `total_tests_per_thousand` - Total de testes para COVID-19 por 1.000 pessoas. (Total tests for COVID-19 per 1,000 people)\n",
        "* `new_tests_per_thousand` - Novos testes para COVID-19 por 1.000 pessoas. (New tests for COVID-19 per 1,000 people)\n",
        "* `new_tests_smoothed` - Novos testes para COVID-19 (7 dias suavizados). Para os países que não relatam dados de testes diariamente, assumimos que os testes mudaram igualmente diariamente em todos os períodos em que nenhum dado foi relatado. Isso produz uma série completa de números diários, cuja média é calculada em uma janela contínua de 7 dias. (New tests for COVID-19 (7-day smoothed). For countries that don't report testing data on a daily basis, we assume that testing changed equally on a daily basis over any periods in which no data was reported. This produces a complete series of daily figures, which is then averaged over a rolling 7-day window)\n",
        "* `new_tests_smoothed_per_thousand` - Novos testes para COVID-19 (7 dias suavizados) por 1.000 pessoas. (New tests for COVID-19 (7-day smoothed) per 1,000 people)\n",
        "* `positive_rate` - A parcela de testes positivos para COVID-19, dada como uma média contínua de 7 dias (este é o inverso de tests_per_case). (The share of COVID-19 tests that are positive, given as a rolling 7-day average (this is the inverse of tests_per_case))\n",
        "* `tests_per_case` - Testes realizados por novo caso confirmado de COVID-19, dados como uma média contínua de 7 dias (este é o inverso de Positive_rate). (Tests conducted per new confirmed case of COVID-19, given as a rolling 7-day average (this is the inverse of positive_rate))\n",
        "* `tests_units` - Unidades usadas pelo local para relatar seus dados de teste. Um arquivo de país não pode conter unidades mistas. Todas as métricas relativas aos dados de teste usam a unidade de teste especificada. As unidades válidas são 'pessoas testadas' (número de pessoas testadas), 'testes realizados' (número de testes realizados. uma única pessoa pode ser testada mais de uma vez em um determinado dia) e 'amostras testadas' (número de amostras testadas. Em alguns casos, mais de uma amostra pode ser necessária para realizar um determinado teste.). (Units used by the location to report its testing data. A country file can't contain mixed units. All metrics concerning testing data use the specified test unit. Valid units are 'people tested' (number of people tested), 'tests performed' (number of tests performed. a single person can be tested more than once in a given day) and 'samples tested' (number of samples tested. In some cases, more than one sample may be required to perform a given test.))\n",
        "* `total_vaccinations` - Número total de doses de vacinação contra COVID-19 administradas. (Total number of COVID-19 vaccination doses administered)\n",
        "* `people_vaccinated` - Número total de pessoas que receberam pelo menos uma dose de vacina. (Total number of people who received at least one vaccine dose)* `date` - Data da Observação (Date of observation).\n",
        "* `people_fully_vaccinated` - Número total de pessoas que receberam todas as doses prescritas pelo protocolo inicial de vacinação. (Total number of people who received all doses prescribed by the initial vaccination protocol)\n",
        "* `total_boosters` - Número total de doses de reforço da vacinação contra COVID-19 administradas (doses administradas além do número prescrito pelo protocolo de vacinação). (Total number of COVID-19 vaccination booster doses administered (doses administered beyond the number prescribed by the vaccination protocol))\n",
        "* `new_vaccinations` - Novas doses de vacinação COVID-19 administradas (calculadas apenas para dias consecutivos). (New COVID-19 vaccination doses administered (only calculated for consecutive days))\n",
        "* ` new_vaccinations_smoothed ` - Novas doses de vacinação COVID-19 administradas (suavização de 7 dias). Para países que não relatam dados de vacinação diariamente, assumimos que a vacinação mudou igualmente diariamente em todos os períodos em que nenhum dado foi relatado. Isso produz uma série completa de números diários, cuja média é calculada em uma janela contínua de 7 dias. (New COVID-19 vaccination doses administered (7-day smoothed). For countries that don't report vaccination data on a daily basis, we assume that vaccination changed equally on a daily basis over any periods in which no data was reported. This produces a complete series of daily figures, which is then averaged over a rolling 7-day window)\n",
        "* `total_vaccinations_per_hundred` - Número total de doses de vacinação contra COVID-19 administradas por 100 pessoas na população total. (Total number of COVID-19 vaccination doses administered per 100 people in the total population)\n",
        "* `people_vaccinated_per_hundred` - Número total de pessoas que receberam pelo menos uma dose de vacina por 100 pessoas na população total. (Total number of people who received at least one vaccine dose per 100 people in the total population)\n",
        "* `people_fully_vaccinated_per_hundred` - Número total de pessoas que receberam todas as doses prescritas pelo protocolo inicial de vacinação por 100 pessoas na população total. (Total number of people who received all doses prescribed by the initial vaccination protocol per 100 people in the total population)\n",
        "* `total_boosters_per_hundred` - Número total de doses de reforço da vacinação contra COVID-19 administradas por 100 pessoas na população total. (Total number of COVID-19 vaccination booster doses administered per 100 people in the total population)\n",
        "* `new_vaccinations_smoothed_per_million` - Novas doses de vacinação contra COVID-19 administradas (suavizadas em 7 dias) por 1.000.000 de pessoas na população total. (New COVID-19 vaccination doses administered (7-day smoothed) per 1,000,000 people in the total population)\n",
        "* `new_people_vaccinated_smoothed` - Número diário de pessoas que receberam a primeira dose da vacina (7 dias suavizados). (Daily number of people receiving their first vaccine dose (7-day smoothed))\n",
        "* `new_people_vaccinated_smoothed_per_hundred` - Número diário de pessoas que receberam a primeira dose da vacina (suavização de 7 dias) por 100 pessoas na população total. (Daily number of people receiving their first vaccine dose (7-day smoothed) per 100 people in the total population)\n",
        "* `stringency_index` - Índice de Severidade de Resposta do Governo: medida composta com base em 9 indicadores de resposta, incluindo fechamento de escolas, fechamento de locais de trabalho e proibições de viagens, reescalonados para um valor de 0 a 100 (100 = resposta mais rigorosa). (Government Response Stringency Index: composite measure based on 9 response indicators including school closures, workplace closures, and travel bans, rescaled to a value from 0 to 100 (100 = strictest response))\n",
        "* `population` - População (últimos valores disponíveis). Consulte https://github.com/owid/covid-19-data/blob/master/scripts/input/un/population_latest.csv para obter a lista completa de fontes. (Population (latest available values). See https://github.com/owid/covid-19-data/blob/master/scripts/input/un/population_latest.csv for full list of sources)\n",
        "* `population_density` - Número de pessoas dividido por área de terra, medida em quilômetros quadrados, ano mais recente disponível. (Number of people divided by land area, measured in square kilometers, most recent year available)\n",
        "* `median_age` - Idade média da população, projeção da ONU para 2020. (Median age of the population, UN projection for 2020)\n",
        "* `aged_65_older` - Parcela da população com 65 anos ou mais, ano mais recente disponível. (Share of the population that is 65 years and older, most recent year available)\n",
        "* `aged_70_older` - Proporção da população com 70 anos ou mais em 2015. (Share of the population that is 70 years and older in 2015)\n",
        "* `gdp_per_capita` - Produto interno bruto em paridade de poder de compra (dólares internacionais constantes de 2011), ano mais recente disponível. (Gross domestic product at purchasing power parity (constant 2011 international dollars), most recent year available)\n",
        "* `extreme_poverty` - Parcela da população que vive em extrema pobreza, ano mais recente disponível desde 2010. (Share of the population living in extreme poverty, most recent year available since 2010)\n",
        "* `cardiovasc_death_rate` - Taxa de mortalidade por doenças cardiovasculares em 2017 (número anual de mortes por 100.000 pessoas). (Death rate from cardiovascular disease in 2017 (annual number of deaths per 100,000 people))\n",
        "* `diabetes_prevalence` - Prevalência de diabetes (% da população de 20 a 79 anos) em 2017. (Diabetes prevalence (% of population aged 20 to 79) in 2017)\n",
        "* `female_smokers` - Proporção de mulheres que fumam, ano mais recente disponível. (Share of women who smoke, most recent year available)\n",
        "* `male_smokers` - Parcela de homens que fumam, ano mais recente disponível. (Share of men who smoke, most recent year available)\n",
        "* `handwashing_facilities` - Parcela da população com instalações básicas de lavagem das mãos nas instalações, ano mais recente disponível. (Share of the population with basic handwashing facilities on premises, most recent year available)\n",
        "* `hospital_beds_per_thousand` - Camas hospitalares por 1.000 pessoas, ano mais recente disponível desde 2010. (Hospital beds per 1,000 people, most recent year available since 2010)\n",
        "* `life_expectancy` - Expectativa de vida ao nascer em 2019. (Life expectancy at birth in 2019)\n",
        "* `human_development_index` - Um índice composto que mede o desempenho médio em três dimensões básicas do desenvolvimento humano – uma vida longa e saudável, conhecimento e um padrão de vida decente. Valores para 2019, importados de http://hdr.undp.org/en/indicators/137506. (A composite index measuring average achievement in three basic dimensions of human development—a long and healthy life, knowledge and a decent standard of living. Values for 2019, imported from http://hdr.undp.org/en/indicators/137506)\n",
        "* `excess_mortality` - Diferença percentual entre o número relatado de mortes semanais ou mensais em 2020–2021 e o número projetado de mortes para o mesmo período com base nos anos anteriores. Para obter mais informações, consulte https://github.com/owid/covid-19-data/tree/master/public/data/excess_mortality. (Percentage difference between the reported number of weekly or monthly deaths in 2020–2021 and the projected number of deaths for the same period based on previous years. For more information, see https://github.com/owid/covid-19-data/tree/master/public/data/excess_mortality)\n",
        "* `excess_mortality_cumulative` - Diferença percentual entre o número acumulado de mortes desde 1º de janeiro de 2020 e as mortes projetadas cumulativas para o mesmo período com base nos anos anteriores. Para obter mais informações, consulte https://github.com/owid/covid-19-data/tree/master/public/data/excess_mortality. (Percentage difference between the cumulative number of deaths since 1 January 2020 and the cumulative projected deaths for the same period based on previous years. For more information, see https://github.com/owid/covid-19-data/tree/master/public/data/excess_mortality)\n",
        "* `excess_mortality_cumulative_absolute` - Diferença cumulativa entre o número relatado de mortes desde 1º de janeiro de 2020 e o número projetado de mortes para o mesmo período com base nos anos anteriores. Para obter mais informações, consulte https://github.com/owid/covid-19-data/tree/master/public/data/excess_mortality. (Cumulative difference between the reported number of deaths since 1 January 2020 and the projected number of deaths for the same period based on previous years. For more information, see https://github.com/owid/covid-19-data/tree/master/public/data/excess_mortality)*\n",
        "* `excess_mortality_cumulative_per_million` - Diferença cumulativa entre o número relatado de mortes desde 1º de janeiro de 2020 e o número projetado de mortes para o mesmo período com base nos anos anteriores, por milhão de pessoas. Para obter mais informações, consulte https://github.com/owid/covid-19-data/tree/master/public/data/excess_mortality. (Cumulative difference between the reported number of deaths since 1 January 2020 and the projected number of deaths for the same period based on previous years, per million people. For more information, see https://github.com/owid/covid-19-data/tree/master/public/data/excess_mortality)\n",
        "\n",
        "\n"
      ],
      "metadata": {
        "id": "pV1zDBbjmJnN"
      }
    },
    {
      "cell_type": "markdown",
      "source": [
        "### Importando os dados do COVID-19\n",
        "\n"
      ],
      "metadata": {
        "id": "aa6jOy7k9gYL"
      }
    },
    {
      "cell_type": "markdown",
      "source": [
        "Para iniciarmos a análise, vamos importar os pacotes necessários."
      ],
      "metadata": {
        "id": "5WP2MydvwC8L"
      }
    },
    {
      "cell_type": "code",
      "metadata": {
        "id": "lOtEJxe0DMEb"
      },
      "source": [
        "# importar as bibliotecas necessárias\n",
        "import pandas as pd\n",
        "import matplotlib.pyplot as plt\n",
        "import seaborn as sns\n",
        "\n",
        "sns.set_style()\n",
        "%matplotlib inline\n",
        "\n",
        "import warnings\n",
        "warnings.filterwarnings('ignore')\n",
        "\n",
        "# importar o dataset COVID-19 para um DataFrame\n",
        "df = pd.read_csv(\"https://raw.githubusercontent.com/owid/covid-19-data/master/public/data/owid-covid-data.csv\")"
      ],
      "execution_count": null,
      "outputs": []
    },
    {
      "cell_type": "markdown",
      "metadata": {
        "id": "qb5By2nIMS6m"
      },
      "source": [
        "## Análise Exploratória dos Dados\n",
        "\n",
        "Com o método `df.shape`, vamos verificar a distribuição do nosso DataFrame, ele apresentou um total de 241975 entradas e 67 variáveis.\n"
      ]
    },
    {
      "cell_type": "code",
      "source": [
        "# identificar o volume de dados do DataFrame\n",
        "print(\"Entradas:\\t {}\".format(df.shape[0]))\n",
        "print(\"Variáveis:\\t {}\\n\".format(df.shape[1]))\n"
      ],
      "metadata": {
        "colab": {
          "base_uri": "https://localhost:8080/"
        },
        "id": "FU3AYcgX-hSp",
        "outputId": "4fb3f7b1-e721-41a7-d31e-c6a8c8a6e464"
      },
      "execution_count": null,
      "outputs": [
        {
          "output_type": "stream",
          "name": "stdout",
          "text": [
            "Entradas:\t 242447\n",
            "Variáveis:\t 67\n",
            "\n"
          ]
        }
      ]
    },
    {
      "cell_type": "markdown",
      "source": [
        "### Análise Exploratória Inicial\n",
        "\n",
        "Agora vamos aprofundar um pouco mais nossa análise, apresentando as 5 primeiras entradas e sua variáveis."
      ],
      "metadata": {
        "id": "rBP54nzA_rsD"
      }
    },
    {
      "cell_type": "code",
      "metadata": {
        "id": "gO1fv3D1PS4k",
        "colab": {
          "base_uri": "https://localhost:8080/",
          "height": 386
        },
        "outputId": "1cfcc6cc-8b86-4d23-a8e1-5e1e77126574"
      },
      "source": [
        "# mostrar as 5 primeiras entradas\n",
        "df.head()"
      ],
      "execution_count": null,
      "outputs": [
        {
          "output_type": "execute_result",
          "data": {
            "text/plain": [
              "  iso_code continent     location        date  total_cases  new_cases  \\\n",
              "0      AFG      Asia  Afghanistan  2020-02-24          5.0        5.0   \n",
              "1      AFG      Asia  Afghanistan  2020-02-25          5.0        0.0   \n",
              "2      AFG      Asia  Afghanistan  2020-02-26          5.0        0.0   \n",
              "3      AFG      Asia  Afghanistan  2020-02-27          5.0        0.0   \n",
              "4      AFG      Asia  Afghanistan  2020-02-28          5.0        0.0   \n",
              "\n",
              "   new_cases_smoothed  total_deaths  new_deaths  new_deaths_smoothed  ...  \\\n",
              "0                 NaN           NaN         NaN                  NaN  ...   \n",
              "1                 NaN           NaN         NaN                  NaN  ...   \n",
              "2                 NaN           NaN         NaN                  NaN  ...   \n",
              "3                 NaN           NaN         NaN                  NaN  ...   \n",
              "4                 NaN           NaN         NaN                  NaN  ...   \n",
              "\n",
              "   male_smokers  handwashing_facilities  hospital_beds_per_thousand  \\\n",
              "0           NaN                  37.746                         0.5   \n",
              "1           NaN                  37.746                         0.5   \n",
              "2           NaN                  37.746                         0.5   \n",
              "3           NaN                  37.746                         0.5   \n",
              "4           NaN                  37.746                         0.5   \n",
              "\n",
              "   life_expectancy  human_development_index  population  \\\n",
              "0            64.83                    0.511  41128772.0   \n",
              "1            64.83                    0.511  41128772.0   \n",
              "2            64.83                    0.511  41128772.0   \n",
              "3            64.83                    0.511  41128772.0   \n",
              "4            64.83                    0.511  41128772.0   \n",
              "\n",
              "   excess_mortality_cumulative_absolute  excess_mortality_cumulative  \\\n",
              "0                                   NaN                          NaN   \n",
              "1                                   NaN                          NaN   \n",
              "2                                   NaN                          NaN   \n",
              "3                                   NaN                          NaN   \n",
              "4                                   NaN                          NaN   \n",
              "\n",
              "   excess_mortality  excess_mortality_cumulative_per_million  \n",
              "0               NaN                                      NaN  \n",
              "1               NaN                                      NaN  \n",
              "2               NaN                                      NaN  \n",
              "3               NaN                                      NaN  \n",
              "4               NaN                                      NaN  \n",
              "\n",
              "[5 rows x 67 columns]"
            ],
            "text/html": [
              "\n",
              "  <div id=\"df-ea6ddf5a-d549-4cc5-990a-2aec8568fa7b\">\n",
              "    <div class=\"colab-df-container\">\n",
              "      <div>\n",
              "<style scoped>\n",
              "    .dataframe tbody tr th:only-of-type {\n",
              "        vertical-align: middle;\n",
              "    }\n",
              "\n",
              "    .dataframe tbody tr th {\n",
              "        vertical-align: top;\n",
              "    }\n",
              "\n",
              "    .dataframe thead th {\n",
              "        text-align: right;\n",
              "    }\n",
              "</style>\n",
              "<table border=\"1\" class=\"dataframe\">\n",
              "  <thead>\n",
              "    <tr style=\"text-align: right;\">\n",
              "      <th></th>\n",
              "      <th>iso_code</th>\n",
              "      <th>continent</th>\n",
              "      <th>location</th>\n",
              "      <th>date</th>\n",
              "      <th>total_cases</th>\n",
              "      <th>new_cases</th>\n",
              "      <th>new_cases_smoothed</th>\n",
              "      <th>total_deaths</th>\n",
              "      <th>new_deaths</th>\n",
              "      <th>new_deaths_smoothed</th>\n",
              "      <th>...</th>\n",
              "      <th>male_smokers</th>\n",
              "      <th>handwashing_facilities</th>\n",
              "      <th>hospital_beds_per_thousand</th>\n",
              "      <th>life_expectancy</th>\n",
              "      <th>human_development_index</th>\n",
              "      <th>population</th>\n",
              "      <th>excess_mortality_cumulative_absolute</th>\n",
              "      <th>excess_mortality_cumulative</th>\n",
              "      <th>excess_mortality</th>\n",
              "      <th>excess_mortality_cumulative_per_million</th>\n",
              "    </tr>\n",
              "  </thead>\n",
              "  <tbody>\n",
              "    <tr>\n",
              "      <th>0</th>\n",
              "      <td>AFG</td>\n",
              "      <td>Asia</td>\n",
              "      <td>Afghanistan</td>\n",
              "      <td>2020-02-24</td>\n",
              "      <td>5.0</td>\n",
              "      <td>5.0</td>\n",
              "      <td>NaN</td>\n",
              "      <td>NaN</td>\n",
              "      <td>NaN</td>\n",
              "      <td>NaN</td>\n",
              "      <td>...</td>\n",
              "      <td>NaN</td>\n",
              "      <td>37.746</td>\n",
              "      <td>0.5</td>\n",
              "      <td>64.83</td>\n",
              "      <td>0.511</td>\n",
              "      <td>41128772.0</td>\n",
              "      <td>NaN</td>\n",
              "      <td>NaN</td>\n",
              "      <td>NaN</td>\n",
              "      <td>NaN</td>\n",
              "    </tr>\n",
              "    <tr>\n",
              "      <th>1</th>\n",
              "      <td>AFG</td>\n",
              "      <td>Asia</td>\n",
              "      <td>Afghanistan</td>\n",
              "      <td>2020-02-25</td>\n",
              "      <td>5.0</td>\n",
              "      <td>0.0</td>\n",
              "      <td>NaN</td>\n",
              "      <td>NaN</td>\n",
              "      <td>NaN</td>\n",
              "      <td>NaN</td>\n",
              "      <td>...</td>\n",
              "      <td>NaN</td>\n",
              "      <td>37.746</td>\n",
              "      <td>0.5</td>\n",
              "      <td>64.83</td>\n",
              "      <td>0.511</td>\n",
              "      <td>41128772.0</td>\n",
              "      <td>NaN</td>\n",
              "      <td>NaN</td>\n",
              "      <td>NaN</td>\n",
              "      <td>NaN</td>\n",
              "    </tr>\n",
              "    <tr>\n",
              "      <th>2</th>\n",
              "      <td>AFG</td>\n",
              "      <td>Asia</td>\n",
              "      <td>Afghanistan</td>\n",
              "      <td>2020-02-26</td>\n",
              "      <td>5.0</td>\n",
              "      <td>0.0</td>\n",
              "      <td>NaN</td>\n",
              "      <td>NaN</td>\n",
              "      <td>NaN</td>\n",
              "      <td>NaN</td>\n",
              "      <td>...</td>\n",
              "      <td>NaN</td>\n",
              "      <td>37.746</td>\n",
              "      <td>0.5</td>\n",
              "      <td>64.83</td>\n",
              "      <td>0.511</td>\n",
              "      <td>41128772.0</td>\n",
              "      <td>NaN</td>\n",
              "      <td>NaN</td>\n",
              "      <td>NaN</td>\n",
              "      <td>NaN</td>\n",
              "    </tr>\n",
              "    <tr>\n",
              "      <th>3</th>\n",
              "      <td>AFG</td>\n",
              "      <td>Asia</td>\n",
              "      <td>Afghanistan</td>\n",
              "      <td>2020-02-27</td>\n",
              "      <td>5.0</td>\n",
              "      <td>0.0</td>\n",
              "      <td>NaN</td>\n",
              "      <td>NaN</td>\n",
              "      <td>NaN</td>\n",
              "      <td>NaN</td>\n",
              "      <td>...</td>\n",
              "      <td>NaN</td>\n",
              "      <td>37.746</td>\n",
              "      <td>0.5</td>\n",
              "      <td>64.83</td>\n",
              "      <td>0.511</td>\n",
              "      <td>41128772.0</td>\n",
              "      <td>NaN</td>\n",
              "      <td>NaN</td>\n",
              "      <td>NaN</td>\n",
              "      <td>NaN</td>\n",
              "    </tr>\n",
              "    <tr>\n",
              "      <th>4</th>\n",
              "      <td>AFG</td>\n",
              "      <td>Asia</td>\n",
              "      <td>Afghanistan</td>\n",
              "      <td>2020-02-28</td>\n",
              "      <td>5.0</td>\n",
              "      <td>0.0</td>\n",
              "      <td>NaN</td>\n",
              "      <td>NaN</td>\n",
              "      <td>NaN</td>\n",
              "      <td>NaN</td>\n",
              "      <td>...</td>\n",
              "      <td>NaN</td>\n",
              "      <td>37.746</td>\n",
              "      <td>0.5</td>\n",
              "      <td>64.83</td>\n",
              "      <td>0.511</td>\n",
              "      <td>41128772.0</td>\n",
              "      <td>NaN</td>\n",
              "      <td>NaN</td>\n",
              "      <td>NaN</td>\n",
              "      <td>NaN</td>\n",
              "    </tr>\n",
              "  </tbody>\n",
              "</table>\n",
              "<p>5 rows × 67 columns</p>\n",
              "</div>\n",
              "      <button class=\"colab-df-convert\" onclick=\"convertToInteractive('df-ea6ddf5a-d549-4cc5-990a-2aec8568fa7b')\"\n",
              "              title=\"Convert this dataframe to an interactive table.\"\n",
              "              style=\"display:none;\">\n",
              "        \n",
              "  <svg xmlns=\"http://www.w3.org/2000/svg\" height=\"24px\"viewBox=\"0 0 24 24\"\n",
              "       width=\"24px\">\n",
              "    <path d=\"M0 0h24v24H0V0z\" fill=\"none\"/>\n",
              "    <path d=\"M18.56 5.44l.94 2.06.94-2.06 2.06-.94-2.06-.94-.94-2.06-.94 2.06-2.06.94zm-11 1L8.5 8.5l.94-2.06 2.06-.94-2.06-.94L8.5 2.5l-.94 2.06-2.06.94zm10 10l.94 2.06.94-2.06 2.06-.94-2.06-.94-.94-2.06-.94 2.06-2.06.94z\"/><path d=\"M17.41 7.96l-1.37-1.37c-.4-.4-.92-.59-1.43-.59-.52 0-1.04.2-1.43.59L10.3 9.45l-7.72 7.72c-.78.78-.78 2.05 0 2.83L4 21.41c.39.39.9.59 1.41.59.51 0 1.02-.2 1.41-.59l7.78-7.78 2.81-2.81c.8-.78.8-2.07 0-2.86zM5.41 20L4 18.59l7.72-7.72 1.47 1.35L5.41 20z\"/>\n",
              "  </svg>\n",
              "      </button>\n",
              "      \n",
              "  <style>\n",
              "    .colab-df-container {\n",
              "      display:flex;\n",
              "      flex-wrap:wrap;\n",
              "      gap: 12px;\n",
              "    }\n",
              "\n",
              "    .colab-df-convert {\n",
              "      background-color: #E8F0FE;\n",
              "      border: none;\n",
              "      border-radius: 50%;\n",
              "      cursor: pointer;\n",
              "      display: none;\n",
              "      fill: #1967D2;\n",
              "      height: 32px;\n",
              "      padding: 0 0 0 0;\n",
              "      width: 32px;\n",
              "    }\n",
              "\n",
              "    .colab-df-convert:hover {\n",
              "      background-color: #E2EBFA;\n",
              "      box-shadow: 0px 1px 2px rgba(60, 64, 67, 0.3), 0px 1px 3px 1px rgba(60, 64, 67, 0.15);\n",
              "      fill: #174EA6;\n",
              "    }\n",
              "\n",
              "    [theme=dark] .colab-df-convert {\n",
              "      background-color: #3B4455;\n",
              "      fill: #D2E3FC;\n",
              "    }\n",
              "\n",
              "    [theme=dark] .colab-df-convert:hover {\n",
              "      background-color: #434B5C;\n",
              "      box-shadow: 0px 1px 3px 1px rgba(0, 0, 0, 0.15);\n",
              "      filter: drop-shadow(0px 1px 2px rgba(0, 0, 0, 0.3));\n",
              "      fill: #FFFFFF;\n",
              "    }\n",
              "  </style>\n",
              "\n",
              "      <script>\n",
              "        const buttonEl =\n",
              "          document.querySelector('#df-ea6ddf5a-d549-4cc5-990a-2aec8568fa7b button.colab-df-convert');\n",
              "        buttonEl.style.display =\n",
              "          google.colab.kernel.accessAllowed ? 'block' : 'none';\n",
              "\n",
              "        async function convertToInteractive(key) {\n",
              "          const element = document.querySelector('#df-ea6ddf5a-d549-4cc5-990a-2aec8568fa7b');\n",
              "          const dataTable =\n",
              "            await google.colab.kernel.invokeFunction('convertToInteractive',\n",
              "                                                     [key], {});\n",
              "          if (!dataTable) return;\n",
              "\n",
              "          const docLinkHtml = 'Like what you see? Visit the ' +\n",
              "            '<a target=\"_blank\" href=https://colab.research.google.com/notebooks/data_table.ipynb>data table notebook</a>'\n",
              "            + ' to learn more about interactive tables.';\n",
              "          element.innerHTML = '';\n",
              "          dataTable['output_type'] = 'display_data';\n",
              "          await google.colab.output.renderOutput(dataTable, element);\n",
              "          const docLink = document.createElement('div');\n",
              "          docLink.innerHTML = docLinkHtml;\n",
              "          element.appendChild(docLink);\n",
              "        }\n",
              "      </script>\n",
              "    </div>\n",
              "  </div>\n",
              "  "
            ]
          },
          "metadata": {},
          "execution_count": 3
        }
      ]
    },
    {
      "cell_type": "markdown",
      "source": [
        "Analisando melhor nosso DataFrame, notamos que na coluna `location` é apresentada informações por país e também por continente. O objetivo principal do nosso estudo é apresentar um comparativo entre os países com os casos confirmados e com o número de mortes. Sendo assim dividimos o Data Frame em duas partes, uma para continente e a outra para país. \n",
        "\n",
        "No somatório final do DataFrame continente e pais permanecemos com as 241975 entradas e 67 variáveis."
      ],
      "metadata": {
        "id": "H-TWlwOE0Ga8"
      }
    },
    {
      "cell_type": "code",
      "source": [
        "# separando o dataframe entre entradas com e sem OWID\n",
        "continente = df[df.iso_code.str.startswith('OWID_')]\n",
        "pais = pd.concat([df, continente, continente]).drop_duplicates(keep=False)"
      ],
      "metadata": {
        "id": "jEZFY-rFsZUq"
      },
      "execution_count": null,
      "outputs": []
    },
    {
      "cell_type": "code",
      "source": [
        "# identificar o volume de dados do DataFrame\n",
        "print('Dimensões do Dataset - continente')\n",
        "print(\"Entradas:\\t {}\".format(continente.shape[0]))\n",
        "print(\"Variáveis:\\t {}\\n\".format(continente.shape[1]))\n",
        "\n",
        "print('Dimensões do Dataset - país')\n",
        "print(\"Entradas:\\t {}\".format(pais.shape[0]))\n",
        "print(\"Variáveis:\\t {}\\n\".format(pais.shape[1]))"
      ],
      "metadata": {
        "colab": {
          "base_uri": "https://localhost:8080/"
        },
        "id": "cjqhXP5hwHMY",
        "outputId": "aa881ffd-4110-4666-e449-4973a81a8d5c"
      },
      "execution_count": null,
      "outputs": [
        {
          "output_type": "stream",
          "name": "stdout",
          "text": [
            "Dimensões do Dataset - continente\n",
            "Entradas:\t 19337\n",
            "Variáveis:\t 67\n",
            "\n",
            "Dimensões do Dataset - país\n",
            "Entradas:\t 223110\n",
            "Variáveis:\t 67\n",
            "\n"
          ]
        }
      ]
    },
    {
      "cell_type": "markdown",
      "source": [
        "**Colunas**\n",
        "\n",
        "O arquivo possui uma grande quantidade de colunas, são 67 no total, todas estão descritas abaixo:"
      ],
      "metadata": {
        "id": "ROqO7H64AQIK"
      }
    },
    {
      "cell_type": "code",
      "source": [
        "# extrair e imprimir o número das colunas\n",
        "df.columns"
      ],
      "metadata": {
        "colab": {
          "base_uri": "https://localhost:8080/"
        },
        "id": "A-R-k7wy_3ZC",
        "outputId": "39336635-11df-4f4e-bde3-53c849f96254"
      },
      "execution_count": null,
      "outputs": [
        {
          "output_type": "execute_result",
          "data": {
            "text/plain": [
              "Index(['iso_code', 'continent', 'location', 'date', 'total_cases', 'new_cases',\n",
              "       'new_cases_smoothed', 'total_deaths', 'new_deaths',\n",
              "       'new_deaths_smoothed', 'total_cases_per_million',\n",
              "       'new_cases_per_million', 'new_cases_smoothed_per_million',\n",
              "       'total_deaths_per_million', 'new_deaths_per_million',\n",
              "       'new_deaths_smoothed_per_million', 'reproduction_rate', 'icu_patients',\n",
              "       'icu_patients_per_million', 'hosp_patients',\n",
              "       'hosp_patients_per_million', 'weekly_icu_admissions',\n",
              "       'weekly_icu_admissions_per_million', 'weekly_hosp_admissions',\n",
              "       'weekly_hosp_admissions_per_million', 'total_tests', 'new_tests',\n",
              "       'total_tests_per_thousand', 'new_tests_per_thousand',\n",
              "       'new_tests_smoothed', 'new_tests_smoothed_per_thousand',\n",
              "       'positive_rate', 'tests_per_case', 'tests_units', 'total_vaccinations',\n",
              "       'people_vaccinated', 'people_fully_vaccinated', 'total_boosters',\n",
              "       'new_vaccinations', 'new_vaccinations_smoothed',\n",
              "       'total_vaccinations_per_hundred', 'people_vaccinated_per_hundred',\n",
              "       'people_fully_vaccinated_per_hundred', 'total_boosters_per_hundred',\n",
              "       'new_vaccinations_smoothed_per_million',\n",
              "       'new_people_vaccinated_smoothed',\n",
              "       'new_people_vaccinated_smoothed_per_hundred', 'stringency_index',\n",
              "       'population_density', 'median_age', 'aged_65_older', 'aged_70_older',\n",
              "       'gdp_per_capita', 'extreme_poverty', 'cardiovasc_death_rate',\n",
              "       'diabetes_prevalence', 'female_smokers', 'male_smokers',\n",
              "       'handwashing_facilities', 'hospital_beds_per_thousand',\n",
              "       'life_expectancy', 'human_development_index', 'population',\n",
              "       'excess_mortality_cumulative_absolute', 'excess_mortality_cumulative',\n",
              "       'excess_mortality', 'excess_mortality_cumulative_per_million'],\n",
              "      dtype='object')"
            ]
          },
          "metadata": {},
          "execution_count": 6
        }
      ]
    },
    {
      "cell_type": "markdown",
      "source": [
        "**Tipo de Dados**\n",
        "\n",
        "Abaixo identificamos os tipos de variáveis com o comando `dtype`, a maioria são do tipo float com apenas cinco do tipo object."
      ],
      "metadata": {
        "id": "G_v72uCHAxgr"
      }
    },
    {
      "cell_type": "code",
      "source": [
        "# visualizar todas as linhas do df\n",
        "pd.set_option('display.max_rows', None)\n",
        "\n",
        "# tipos de variáveis\n",
        "display(df.dtypes)"
      ],
      "metadata": {
        "colab": {
          "base_uri": "https://localhost:8080/",
          "height": 1000
        },
        "id": "nZdf4XHVGOqT",
        "outputId": "278b8313-695a-45a8-d126-7fce00ae05c5"
      },
      "execution_count": null,
      "outputs": [
        {
          "output_type": "display_data",
          "data": {
            "text/plain": [
              "iso_code                                       object\n",
              "continent                                      object\n",
              "location                                       object\n",
              "date                                           object\n",
              "total_cases                                   float64\n",
              "new_cases                                     float64\n",
              "new_cases_smoothed                            float64\n",
              "total_deaths                                  float64\n",
              "new_deaths                                    float64\n",
              "new_deaths_smoothed                           float64\n",
              "total_cases_per_million                       float64\n",
              "new_cases_per_million                         float64\n",
              "new_cases_smoothed_per_million                float64\n",
              "total_deaths_per_million                      float64\n",
              "new_deaths_per_million                        float64\n",
              "new_deaths_smoothed_per_million               float64\n",
              "reproduction_rate                             float64\n",
              "icu_patients                                  float64\n",
              "icu_patients_per_million                      float64\n",
              "hosp_patients                                 float64\n",
              "hosp_patients_per_million                     float64\n",
              "weekly_icu_admissions                         float64\n",
              "weekly_icu_admissions_per_million             float64\n",
              "weekly_hosp_admissions                        float64\n",
              "weekly_hosp_admissions_per_million            float64\n",
              "total_tests                                   float64\n",
              "new_tests                                     float64\n",
              "total_tests_per_thousand                      float64\n",
              "new_tests_per_thousand                        float64\n",
              "new_tests_smoothed                            float64\n",
              "new_tests_smoothed_per_thousand               float64\n",
              "positive_rate                                 float64\n",
              "tests_per_case                                float64\n",
              "tests_units                                    object\n",
              "total_vaccinations                            float64\n",
              "people_vaccinated                             float64\n",
              "people_fully_vaccinated                       float64\n",
              "total_boosters                                float64\n",
              "new_vaccinations                              float64\n",
              "new_vaccinations_smoothed                     float64\n",
              "total_vaccinations_per_hundred                float64\n",
              "people_vaccinated_per_hundred                 float64\n",
              "people_fully_vaccinated_per_hundred           float64\n",
              "total_boosters_per_hundred                    float64\n",
              "new_vaccinations_smoothed_per_million         float64\n",
              "new_people_vaccinated_smoothed                float64\n",
              "new_people_vaccinated_smoothed_per_hundred    float64\n",
              "stringency_index                              float64\n",
              "population_density                            float64\n",
              "median_age                                    float64\n",
              "aged_65_older                                 float64\n",
              "aged_70_older                                 float64\n",
              "gdp_per_capita                                float64\n",
              "extreme_poverty                               float64\n",
              "cardiovasc_death_rate                         float64\n",
              "diabetes_prevalence                           float64\n",
              "female_smokers                                float64\n",
              "male_smokers                                  float64\n",
              "handwashing_facilities                        float64\n",
              "hospital_beds_per_thousand                    float64\n",
              "life_expectancy                               float64\n",
              "human_development_index                       float64\n",
              "population                                    float64\n",
              "excess_mortality_cumulative_absolute          float64\n",
              "excess_mortality_cumulative                   float64\n",
              "excess_mortality                              float64\n",
              "excess_mortality_cumulative_per_million       float64\n",
              "dtype: object"
            ]
          },
          "metadata": {}
        }
      ]
    },
    {
      "cell_type": "markdown",
      "source": [
        "**Valores Ausentes**\n",
        "\n",
        "É possível notar um grande percentual de valores ausentes, esse passo é importante pois quando não temos informações suficientes para análise, o mais indicado é remover essa variáveis. Nesse estudo iremos comparar novos casos confirmados e o número total de mortes, essas possuem respectivamente 13,82% e 5,92% de dados ausentes, sendo um número adequado perante a quantidade de informações que possuimos."
      ],
      "metadata": {
        "id": "QvSl9ZWsBCX6"
      }
    },
    {
      "cell_type": "code",
      "source": [
        "# ordenar em ordem decrescente as variáveis por seus valores ausentes, em porcentagem\n",
        "(df.isnull().sum()/df.shape[0]).sort_values(ascending=False)"
      ],
      "metadata": {
        "colab": {
          "base_uri": "https://localhost:8080/"
        },
        "id": "3azK12rWHLPP",
        "outputId": "bcea43de-a9c9-4ed6-a05f-ffe392c8d511"
      },
      "execution_count": null,
      "outputs": [
        {
          "output_type": "execute_result",
          "data": {
            "text/plain": [
              "excess_mortality_cumulative_per_million       0.966644\n",
              "excess_mortality_cumulative                   0.966644\n",
              "excess_mortality_cumulative_absolute          0.966644\n",
              "excess_mortality                              0.966525\n",
              "weekly_icu_admissions                         0.966459\n",
              "weekly_icu_admissions_per_million             0.966459\n",
              "weekly_hosp_admissions                        0.919764\n",
              "weekly_hosp_admissions_per_million            0.919764\n",
              "icu_patients                                  0.864808\n",
              "icu_patients_per_million                      0.864808\n",
              "hosp_patients_per_million                     0.852533\n",
              "hosp_patients                                 0.852533\n",
              "total_boosters                                0.842877\n",
              "total_boosters_per_hundred                    0.842877\n",
              "new_vaccinations                              0.764464\n",
              "people_fully_vaccinated                       0.739304\n",
              "people_fully_vaccinated_per_hundred           0.739304\n",
              "people_vaccinated_per_hundred                 0.728332\n",
              "people_vaccinated                             0.728332\n",
              "total_vaccinations_per_hundred                0.715851\n",
              "total_vaccinations                            0.715851\n",
              "new_tests_per_thousand                        0.688992\n",
              "new_tests                                     0.688992\n",
              "total_tests_per_thousand                      0.672559\n",
              "total_tests                                   0.672559\n",
              "tests_per_case                                0.610851\n",
              "positive_rate                                 0.604338\n",
              "handwashing_facilities                        0.604062\n",
              "new_tests_smoothed_per_thousand               0.571185\n",
              "new_tests_smoothed                            0.571185\n",
              "tests_units                                   0.559541\n",
              "extreme_poverty                               0.476248\n",
              "new_people_vaccinated_smoothed_per_hundred    0.406683\n",
              "new_people_vaccinated_smoothed                0.406683\n",
              "new_vaccinations_smoothed                     0.405511\n",
              "new_vaccinations_smoothed_per_million         0.405511\n",
              "male_smokers                                  0.399246\n",
              "female_smokers                                0.390910\n",
              "hospital_beds_per_thousand                    0.284107\n",
              "reproduction_rate                             0.263439\n",
              "stringency_index                              0.257541\n",
              "human_development_index                       0.215251\n",
              "aged_65_older                                 0.202642\n",
              "aged_70_older                                 0.198357\n",
              "cardiovasc_death_rate                         0.196422\n",
              "gdp_per_capita                                0.196051\n",
              "median_age                                    0.194141\n",
              "diabetes_prevalence                           0.154611\n",
              "new_deaths_smoothed_per_million               0.147174\n",
              "new_deaths_smoothed                           0.142955\n",
              "new_deaths_per_million                        0.142307\n",
              "total_deaths_per_million                      0.141907\n",
              "new_deaths                                    0.138067\n",
              "total_deaths                                  0.137667\n",
              "population_density                            0.128808\n",
              "life_expectancy                               0.082661\n",
              "new_cases_smoothed_per_million                0.068023\n",
              "new_cases_smoothed                            0.063750\n",
              "new_cases_per_million                         0.063098\n",
              "total_cases_per_million                       0.061939\n",
              "new_cases                                     0.058805\n",
              "total_cases                                   0.057646\n",
              "continent                                     0.056239\n",
              "population                                    0.004294\n",
              "date                                          0.000000\n",
              "location                                      0.000000\n",
              "iso_code                                      0.000000\n",
              "dtype: float64"
            ]
          },
          "metadata": {},
          "execution_count": 8
        }
      ]
    },
    {
      "cell_type": "markdown",
      "source": [
        "### Visualizando Dados\n",
        "\n",
        "<center><img alt=\"Colaboratory logo\" width=\"50%\" src=\"https://images.unsplash.com/photo-1584931423298-c576fda54bd2?ixlib=rb-4.0.3&ixid=MnwxMjA3fDB8MHxzZWFyY2h8OHx8Y292aWQlMjAxOXxlbnwwfHwwfHw%3D&auto=format&fit=crop&w=500&q=60\"></center>\n",
        "\n",
        "Essa parte do projeto é destinada a visualização dos dados, seja por meio de gráficos ou por meio do próprio DataFrame.\n",
        "\n",
        "Vamos iniciar a análise comparativa entre os países, utilizando como base o data frame `pais.copy()`.\n",
        "\n",
        "A coluna *date* está no formato *object*, é necessário tranforma-la para formatato *datetime* para uma melhor análise."
      ],
      "metadata": {
        "id": "bp9grWvKD6Jl"
      }
    },
    {
      "cell_type": "code",
      "source": [
        "# criando um checkpoint do dataset\n",
        "df_clean = pais.copy()\n",
        "\n",
        "# transforme a coluna date no formato datetime\n",
        "df.date = pd.to_datetime(df.date)"
      ],
      "metadata": {
        "id": "Pk7C77EIICpl"
      },
      "execution_count": null,
      "outputs": []
    },
    {
      "cell_type": "markdown",
      "source": [
        "Com o método `df.date` é possível verificar a última atualização do arquivo, que foi em 2022-12-12, iremos usar essa data para as análises a seguir."
      ],
      "metadata": {
        "id": "HsIhw6ucEFZl"
      }
    },
    {
      "cell_type": "code",
      "source": [
        "df.date.max()"
      ],
      "metadata": {
        "colab": {
          "base_uri": "https://localhost:8080/"
        },
        "id": "dIFyKsiWE4dV",
        "outputId": "07d24c63-b97d-4640-8511-f200e8fd3329"
      },
      "execution_count": null,
      "outputs": [
        {
          "output_type": "execute_result",
          "data": {
            "text/plain": [
              "Timestamp('2022-12-12 00:00:00')"
            ]
          },
          "metadata": {},
          "execution_count": 43
        }
      ]
    },
    {
      "cell_type": "markdown",
      "source": [
        "**Países com mais casos**\n",
        "\n",
        "Com data base de atualização em 2022-12-12, verificamos abaixo os 10 países com mais casos:\n",
        "\n",
        "1.   Estados Unidos - 99.470.198 casos confirmados;\n",
        "2.   Índia - 44.676.318 casos confirmados;\n",
        "3.   França - 38.556.303 casos confirmados;\n",
        "4.   Alemanha - 36.812.671 casos confirmados;\n",
        "5.   Brasil - 35.643.770 casos confirmados;\n",
        "6.   Coreia do Sul - 27.841.001 casos confirmados;\n",
        "7.   Japão - 26.154.301 casos confirmados;\n",
        "8.   Itália - 24.709.404 casos confirmados;\n",
        "9.   Reino Unido - 24.053.576 casos confirmados;\n",
        "10.  Rússia - 21.364.571 casos confirmados;\n",
        "\n",
        "\n",
        "\n"
      ],
      "metadata": {
        "id": "ML3oBMQTB4MJ"
      }
    },
    {
      "cell_type": "code",
      "source": [
        "# países com mais casos para a data mais recente (2022-12-12)\n",
        "top10_casos = df_clean.loc[df_clean.date == '2022-12-12'].sort_values(by=\"total_cases\", ascending=False)[0:10]\n",
        "top10_casos = top10_casos[['iso_code', 'location', 'date', 'total_cases', 'total_deaths']]\n",
        "top10_casos"
      ],
      "metadata": {
        "colab": {
          "base_uri": "https://localhost:8080/",
          "height": 363
        },
        "id": "DWAZ8Wca43mc",
        "outputId": "5d8dbe08-e0bb-4fed-b7eb-43f4d263741e"
      },
      "execution_count": null,
      "outputs": [
        {
          "output_type": "execute_result",
          "data": {
            "text/plain": [
              "       iso_code        location        date  total_cases  total_deaths\n",
              "228911      USA   United States  2022-12-12   99470198.0     1084651.0\n",
              "99712       IND           India  2022-12-12   44676318.0      530658.0\n",
              "76822       FRA          France  2022-12-12   38556303.0      159941.0\n",
              "81909       DEU         Germany  2022-12-12   36812671.0      159177.0\n",
              "30531       BRA          Brazil  2022-12-12   35643770.0      691015.0\n",
              "203166      KOR     South Korea  2022-12-12   27841001.0       31128.0\n",
              "109982      JPN           Japan  2022-12-12   26154301.0       51837.0\n",
              "107917      ITA           Italy  2022-12-12   24709404.0      182419.0\n",
              "227854      GBR  United Kingdom  2022-12-12   24053576.0      212766.0\n",
              "179952      RUS          Russia  2022-12-12   21364571.0      384749.0"
            ],
            "text/html": [
              "\n",
              "  <div id=\"df-e3b63930-d7cd-413f-83b3-d9589fb9f8e0\">\n",
              "    <div class=\"colab-df-container\">\n",
              "      <div>\n",
              "<style scoped>\n",
              "    .dataframe tbody tr th:only-of-type {\n",
              "        vertical-align: middle;\n",
              "    }\n",
              "\n",
              "    .dataframe tbody tr th {\n",
              "        vertical-align: top;\n",
              "    }\n",
              "\n",
              "    .dataframe thead th {\n",
              "        text-align: right;\n",
              "    }\n",
              "</style>\n",
              "<table border=\"1\" class=\"dataframe\">\n",
              "  <thead>\n",
              "    <tr style=\"text-align: right;\">\n",
              "      <th></th>\n",
              "      <th>iso_code</th>\n",
              "      <th>location</th>\n",
              "      <th>date</th>\n",
              "      <th>total_cases</th>\n",
              "      <th>total_deaths</th>\n",
              "    </tr>\n",
              "  </thead>\n",
              "  <tbody>\n",
              "    <tr>\n",
              "      <th>228911</th>\n",
              "      <td>USA</td>\n",
              "      <td>United States</td>\n",
              "      <td>2022-12-12</td>\n",
              "      <td>99470198.0</td>\n",
              "      <td>1084651.0</td>\n",
              "    </tr>\n",
              "    <tr>\n",
              "      <th>99712</th>\n",
              "      <td>IND</td>\n",
              "      <td>India</td>\n",
              "      <td>2022-12-12</td>\n",
              "      <td>44676318.0</td>\n",
              "      <td>530658.0</td>\n",
              "    </tr>\n",
              "    <tr>\n",
              "      <th>76822</th>\n",
              "      <td>FRA</td>\n",
              "      <td>France</td>\n",
              "      <td>2022-12-12</td>\n",
              "      <td>38556303.0</td>\n",
              "      <td>159941.0</td>\n",
              "    </tr>\n",
              "    <tr>\n",
              "      <th>81909</th>\n",
              "      <td>DEU</td>\n",
              "      <td>Germany</td>\n",
              "      <td>2022-12-12</td>\n",
              "      <td>36812671.0</td>\n",
              "      <td>159177.0</td>\n",
              "    </tr>\n",
              "    <tr>\n",
              "      <th>30531</th>\n",
              "      <td>BRA</td>\n",
              "      <td>Brazil</td>\n",
              "      <td>2022-12-12</td>\n",
              "      <td>35643770.0</td>\n",
              "      <td>691015.0</td>\n",
              "    </tr>\n",
              "    <tr>\n",
              "      <th>203166</th>\n",
              "      <td>KOR</td>\n",
              "      <td>South Korea</td>\n",
              "      <td>2022-12-12</td>\n",
              "      <td>27841001.0</td>\n",
              "      <td>31128.0</td>\n",
              "    </tr>\n",
              "    <tr>\n",
              "      <th>109982</th>\n",
              "      <td>JPN</td>\n",
              "      <td>Japan</td>\n",
              "      <td>2022-12-12</td>\n",
              "      <td>26154301.0</td>\n",
              "      <td>51837.0</td>\n",
              "    </tr>\n",
              "    <tr>\n",
              "      <th>107917</th>\n",
              "      <td>ITA</td>\n",
              "      <td>Italy</td>\n",
              "      <td>2022-12-12</td>\n",
              "      <td>24709404.0</td>\n",
              "      <td>182419.0</td>\n",
              "    </tr>\n",
              "    <tr>\n",
              "      <th>227854</th>\n",
              "      <td>GBR</td>\n",
              "      <td>United Kingdom</td>\n",
              "      <td>2022-12-12</td>\n",
              "      <td>24053576.0</td>\n",
              "      <td>212766.0</td>\n",
              "    </tr>\n",
              "    <tr>\n",
              "      <th>179952</th>\n",
              "      <td>RUS</td>\n",
              "      <td>Russia</td>\n",
              "      <td>2022-12-12</td>\n",
              "      <td>21364571.0</td>\n",
              "      <td>384749.0</td>\n",
              "    </tr>\n",
              "  </tbody>\n",
              "</table>\n",
              "</div>\n",
              "      <button class=\"colab-df-convert\" onclick=\"convertToInteractive('df-e3b63930-d7cd-413f-83b3-d9589fb9f8e0')\"\n",
              "              title=\"Convert this dataframe to an interactive table.\"\n",
              "              style=\"display:none;\">\n",
              "        \n",
              "  <svg xmlns=\"http://www.w3.org/2000/svg\" height=\"24px\"viewBox=\"0 0 24 24\"\n",
              "       width=\"24px\">\n",
              "    <path d=\"M0 0h24v24H0V0z\" fill=\"none\"/>\n",
              "    <path d=\"M18.56 5.44l.94 2.06.94-2.06 2.06-.94-2.06-.94-.94-2.06-.94 2.06-2.06.94zm-11 1L8.5 8.5l.94-2.06 2.06-.94-2.06-.94L8.5 2.5l-.94 2.06-2.06.94zm10 10l.94 2.06.94-2.06 2.06-.94-2.06-.94-.94-2.06-.94 2.06-2.06.94z\"/><path d=\"M17.41 7.96l-1.37-1.37c-.4-.4-.92-.59-1.43-.59-.52 0-1.04.2-1.43.59L10.3 9.45l-7.72 7.72c-.78.78-.78 2.05 0 2.83L4 21.41c.39.39.9.59 1.41.59.51 0 1.02-.2 1.41-.59l7.78-7.78 2.81-2.81c.8-.78.8-2.07 0-2.86zM5.41 20L4 18.59l7.72-7.72 1.47 1.35L5.41 20z\"/>\n",
              "  </svg>\n",
              "      </button>\n",
              "      \n",
              "  <style>\n",
              "    .colab-df-container {\n",
              "      display:flex;\n",
              "      flex-wrap:wrap;\n",
              "      gap: 12px;\n",
              "    }\n",
              "\n",
              "    .colab-df-convert {\n",
              "      background-color: #E8F0FE;\n",
              "      border: none;\n",
              "      border-radius: 50%;\n",
              "      cursor: pointer;\n",
              "      display: none;\n",
              "      fill: #1967D2;\n",
              "      height: 32px;\n",
              "      padding: 0 0 0 0;\n",
              "      width: 32px;\n",
              "    }\n",
              "\n",
              "    .colab-df-convert:hover {\n",
              "      background-color: #E2EBFA;\n",
              "      box-shadow: 0px 1px 2px rgba(60, 64, 67, 0.3), 0px 1px 3px 1px rgba(60, 64, 67, 0.15);\n",
              "      fill: #174EA6;\n",
              "    }\n",
              "\n",
              "    [theme=dark] .colab-df-convert {\n",
              "      background-color: #3B4455;\n",
              "      fill: #D2E3FC;\n",
              "    }\n",
              "\n",
              "    [theme=dark] .colab-df-convert:hover {\n",
              "      background-color: #434B5C;\n",
              "      box-shadow: 0px 1px 3px 1px rgba(0, 0, 0, 0.15);\n",
              "      filter: drop-shadow(0px 1px 2px rgba(0, 0, 0, 0.3));\n",
              "      fill: #FFFFFF;\n",
              "    }\n",
              "  </style>\n",
              "\n",
              "      <script>\n",
              "        const buttonEl =\n",
              "          document.querySelector('#df-e3b63930-d7cd-413f-83b3-d9589fb9f8e0 button.colab-df-convert');\n",
              "        buttonEl.style.display =\n",
              "          google.colab.kernel.accessAllowed ? 'block' : 'none';\n",
              "\n",
              "        async function convertToInteractive(key) {\n",
              "          const element = document.querySelector('#df-e3b63930-d7cd-413f-83b3-d9589fb9f8e0');\n",
              "          const dataTable =\n",
              "            await google.colab.kernel.invokeFunction('convertToInteractive',\n",
              "                                                     [key], {});\n",
              "          if (!dataTable) return;\n",
              "\n",
              "          const docLinkHtml = 'Like what you see? Visit the ' +\n",
              "            '<a target=\"_blank\" href=https://colab.research.google.com/notebooks/data_table.ipynb>data table notebook</a>'\n",
              "            + ' to learn more about interactive tables.';\n",
              "          element.innerHTML = '';\n",
              "          dataTable['output_type'] = 'display_data';\n",
              "          await google.colab.output.renderOutput(dataTable, element);\n",
              "          const docLink = document.createElement('div');\n",
              "          docLink.innerHTML = docLinkHtml;\n",
              "          element.appendChild(docLink);\n",
              "        }\n",
              "      </script>\n",
              "    </div>\n",
              "  </div>\n",
              "  "
            ]
          },
          "metadata": {},
          "execution_count": 44
        }
      ]
    },
    {
      "cell_type": "markdown",
      "source": [
        "**Gráfico  dos países com mais casos**\n",
        "\n",
        "Para uma melhor visualização, conforme números apresentados, plotamos um gráfico de barras com os 10 países com mais casos confirmados."
      ],
      "metadata": {
        "id": "ZnVqDTbX7B0X"
      }
    },
    {
      "cell_type": "code",
      "source": [
        "# gráfico de barras para total de casos\n",
        "fig, ax = plt.subplots(figsize=(13,7),dpi=75)\n",
        "n_plots=10\n",
        "palette_cases = sns.color_palette(\"pastel6\", n_colors=n_plots)\n",
        "palette_cases.reverse()\n",
        "with palette_cases:\n",
        "  ax = sns.barplot(y='location' ,x='total_cases', data= top10_casos,ax=ax)\n",
        "\n",
        "# removendo spines dos gráficos\n",
        "  ax.spines['right'].set_visible(False)\n",
        "  ax.spines['left'].set_visible(False)  \n",
        "  ax.spines['top'].set_visible(False)\n",
        "  ax.spines['bottom'].set_visible(False)  \n",
        "\n",
        "#remover titulos\n",
        "  ax.set_ylabel('')    \n",
        "  ax.set_xlabel('')\n",
        "\n",
        "# remover xticks e xticklabels\n",
        "  ax.set_xticklabels(labels=[], visible=False)\n",
        "  ax.set_xticks(ticks=[])\n",
        "\n",
        "#adicionar labels\n",
        "  initialx=0\n",
        "  for p in ax.patches:\n",
        "    ax.text(p.get_width(),initialx+p.get_height()/8,'{:1.0f}'.format(p.get_width()))\n",
        "    initialx+=1\n",
        " \n",
        "# plotar título\n",
        "  plt.text(-2, -1.2, 'Países com Maior Número de Casos de COVID-19 no mundo',\n",
        "          fontsize=18, \n",
        "          color=\"#141314\",\n",
        "          weight='bold')\n",
        "   \n",
        "\n",
        "  plt.show()"
      ],
      "metadata": {
        "colab": {
          "base_uri": "https://localhost:8080/",
          "height": 471
        },
        "id": "XHfLZys-Nkcu",
        "outputId": "78f51c77-1d3e-451b-ac8c-2cff3afcef48"
      },
      "execution_count": null,
      "outputs": [
        {
          "output_type": "display_data",
          "data": {
            "text/plain": [
              "<Figure size 975x525 with 1 Axes>"
            ],
            "image/png": "[encoded data removed]"
          },
          "metadata": {
            "needs_background": "light"
          }
        }
      ]
    },
    {
      "cell_type": "markdown",
      "source": [
        "**Países com mais mortes**\n",
        "\n",
        "Com a mesma data base, verificamos abaixo os 10 países com mais mortes registradas:\n",
        "\n",
        "1.   Estados Unidos - 1.084.651 mortes;\n",
        "2.   Brasil - 691.015 mortes;\n",
        "3.   Índia - 530.658 mortes;\n",
        "4.   Rússia - 384.749 mortes;\n",
        "5.   México - 330.701 mortes;\n",
        "6.   Peru - 217.679 mortes;\n",
        "7.   Reino Unido - 212.766 mortes;\n",
        "8.   Itália - 182.419 mortes;\n",
        "9.   Indonésia - 160.255 mortes;\n",
        "10.  França - 159.941 mortes;\n"
      ],
      "metadata": {
        "id": "8xWp4nDOFxhX"
      }
    },
    {
      "cell_type": "code",
      "source": [
        "# países com mais mortes para a data mais recente (2022-12-12)\n",
        "top10_mortes = df_clean.loc[df_clean.date == '2022-12-12'].sort_values(by=\"total_deaths\", ascending=False)[0:10]\n",
        "top10_mortes = top10_mortes[['iso_code', 'location', 'date', 'total_cases', 'total_deaths']]\n",
        "top10_mortes"
      ],
      "metadata": {
        "colab": {
          "base_uri": "https://localhost:8080/",
          "height": 363
        },
        "id": "Dz9lvI1b6Jsm",
        "outputId": "b560474e-4496-4dea-85b3-af77609b511f"
      },
      "execution_count": null,
      "outputs": [
        {
          "output_type": "execute_result",
          "data": {
            "text/plain": [
              "       iso_code        location        date  total_cases  total_deaths\n",
              "228911      USA   United States  2022-12-12   99470198.0     1084651.0\n",
              "30531       BRA          Brazil  2022-12-12   35643770.0      691015.0\n",
              "99712       IND           India  2022-12-12   44676318.0      530658.0\n",
              "179952      RUS          Russia  2022-12-12   21364571.0      384749.0\n",
              "139536      MEX          Mexico  2022-12-12    7164392.0      330701.0\n",
              "172500      PER            Peru  2022-12-12    4362281.0      217679.0\n",
              "227854      GBR  United Kingdom  2022-12-12   24053576.0      212766.0\n",
              "107917      ITA           Italy  2022-12-12   24709404.0      182419.0\n",
              "100729      IDN       Indonesia  2022-12-12    6700015.0      160255.0\n",
              "76822       FRA          France  2022-12-12   38556303.0      159941.0"
            ],
            "text/html": [
              "\n",
              "  <div id=\"df-45d42310-5219-4018-81b2-4da07735d7d7\">\n",
              "    <div class=\"colab-df-container\">\n",
              "      <div>\n",
              "<style scoped>\n",
              "    .dataframe tbody tr th:only-of-type {\n",
              "        vertical-align: middle;\n",
              "    }\n",
              "\n",
              "    .dataframe tbody tr th {\n",
              "        vertical-align: top;\n",
              "    }\n",
              "\n",
              "    .dataframe thead th {\n",
              "        text-align: right;\n",
              "    }\n",
              "</style>\n",
              "<table border=\"1\" class=\"dataframe\">\n",
              "  <thead>\n",
              "    <tr style=\"text-align: right;\">\n",
              "      <th></th>\n",
              "      <th>iso_code</th>\n",
              "      <th>location</th>\n",
              "      <th>date</th>\n",
              "      <th>total_cases</th>\n",
              "      <th>total_deaths</th>\n",
              "    </tr>\n",
              "  </thead>\n",
              "  <tbody>\n",
              "    <tr>\n",
              "      <th>228911</th>\n",
              "      <td>USA</td>\n",
              "      <td>United States</td>\n",
              "      <td>2022-12-12</td>\n",
              "      <td>99470198.0</td>\n",
              "      <td>1084651.0</td>\n",
              "    </tr>\n",
              "    <tr>\n",
              "      <th>30531</th>\n",
              "      <td>BRA</td>\n",
              "      <td>Brazil</td>\n",
              "      <td>2022-12-12</td>\n",
              "      <td>35643770.0</td>\n",
              "      <td>691015.0</td>\n",
              "    </tr>\n",
              "    <tr>\n",
              "      <th>99712</th>\n",
              "      <td>IND</td>\n",
              "      <td>India</td>\n",
              "      <td>2022-12-12</td>\n",
              "      <td>44676318.0</td>\n",
              "      <td>530658.0</td>\n",
              "    </tr>\n",
              "    <tr>\n",
              "      <th>179952</th>\n",
              "      <td>RUS</td>\n",
              "      <td>Russia</td>\n",
              "      <td>2022-12-12</td>\n",
              "      <td>21364571.0</td>\n",
              "      <td>384749.0</td>\n",
              "    </tr>\n",
              "    <tr>\n",
              "      <th>139536</th>\n",
              "      <td>MEX</td>\n",
              "      <td>Mexico</td>\n",
              "      <td>2022-12-12</td>\n",
              "      <td>7164392.0</td>\n",
              "      <td>330701.0</td>\n",
              "    </tr>\n",
              "    <tr>\n",
              "      <th>172500</th>\n",
              "      <td>PER</td>\n",
              "      <td>Peru</td>\n",
              "      <td>2022-12-12</td>\n",
              "      <td>4362281.0</td>\n",
              "      <td>217679.0</td>\n",
              "    </tr>\n",
              "    <tr>\n",
              "      <th>227854</th>\n",
              "      <td>GBR</td>\n",
              "      <td>United Kingdom</td>\n",
              "      <td>2022-12-12</td>\n",
              "      <td>24053576.0</td>\n",
              "      <td>212766.0</td>\n",
              "    </tr>\n",
              "    <tr>\n",
              "      <th>107917</th>\n",
              "      <td>ITA</td>\n",
              "      <td>Italy</td>\n",
              "      <td>2022-12-12</td>\n",
              "      <td>24709404.0</td>\n",
              "      <td>182419.0</td>\n",
              "    </tr>\n",
              "    <tr>\n",
              "      <th>100729</th>\n",
              "      <td>IDN</td>\n",
              "      <td>Indonesia</td>\n",
              "      <td>2022-12-12</td>\n",
              "      <td>6700015.0</td>\n",
              "      <td>160255.0</td>\n",
              "    </tr>\n",
              "    <tr>\n",
              "      <th>76822</th>\n",
              "      <td>FRA</td>\n",
              "      <td>France</td>\n",
              "      <td>2022-12-12</td>\n",
              "      <td>38556303.0</td>\n",
              "      <td>159941.0</td>\n",
              "    </tr>\n",
              "  </tbody>\n",
              "</table>\n",
              "</div>\n",
              "      <button class=\"colab-df-convert\" onclick=\"convertToInteractive('df-45d42310-5219-4018-81b2-4da07735d7d7')\"\n",
              "              title=\"Convert this dataframe to an interactive table.\"\n",
              "              style=\"display:none;\">\n",
              "        \n",
              "  <svg xmlns=\"http://www.w3.org/2000/svg\" height=\"24px\"viewBox=\"0 0 24 24\"\n",
              "       width=\"24px\">\n",
              "    <path d=\"M0 0h24v24H0V0z\" fill=\"none\"/>\n",
              "    <path d=\"M18.56 5.44l.94 2.06.94-2.06 2.06-.94-2.06-.94-.94-2.06-.94 2.06-2.06.94zm-11 1L8.5 8.5l.94-2.06 2.06-.94-2.06-.94L8.5 2.5l-.94 2.06-2.06.94zm10 10l.94 2.06.94-2.06 2.06-.94-2.06-.94-.94-2.06-.94 2.06-2.06.94z\"/><path d=\"M17.41 7.96l-1.37-1.37c-.4-.4-.92-.59-1.43-.59-.52 0-1.04.2-1.43.59L10.3 9.45l-7.72 7.72c-.78.78-.78 2.05 0 2.83L4 21.41c.39.39.9.59 1.41.59.51 0 1.02-.2 1.41-.59l7.78-7.78 2.81-2.81c.8-.78.8-2.07 0-2.86zM5.41 20L4 18.59l7.72-7.72 1.47 1.35L5.41 20z\"/>\n",
              "  </svg>\n",
              "      </button>\n",
              "      \n",
              "  <style>\n",
              "    .colab-df-container {\n",
              "      display:flex;\n",
              "      flex-wrap:wrap;\n",
              "      gap: 12px;\n",
              "    }\n",
              "\n",
              "    .colab-df-convert {\n",
              "      background-color: #E8F0FE;\n",
              "      border: none;\n",
              "      border-radius: 50%;\n",
              "      cursor: pointer;\n",
              "      display: none;\n",
              "      fill: #1967D2;\n",
              "      height: 32px;\n",
              "      padding: 0 0 0 0;\n",
              "      width: 32px;\n",
              "    }\n",
              "\n",
              "    .colab-df-convert:hover {\n",
              "      background-color: #E2EBFA;\n",
              "      box-shadow: 0px 1px 2px rgba(60, 64, 67, 0.3), 0px 1px 3px 1px rgba(60, 64, 67, 0.15);\n",
              "      fill: #174EA6;\n",
              "    }\n",
              "\n",
              "    [theme=dark] .colab-df-convert {\n",
              "      background-color: #3B4455;\n",
              "      fill: #D2E3FC;\n",
              "    }\n",
              "\n",
              "    [theme=dark] .colab-df-convert:hover {\n",
              "      background-color: #434B5C;\n",
              "      box-shadow: 0px 1px 3px 1px rgba(0, 0, 0, 0.15);\n",
              "      filter: drop-shadow(0px 1px 2px rgba(0, 0, 0, 0.3));\n",
              "      fill: #FFFFFF;\n",
              "    }\n",
              "  </style>\n",
              "\n",
              "      <script>\n",
              "        const buttonEl =\n",
              "          document.querySelector('#df-45d42310-5219-4018-81b2-4da07735d7d7 button.colab-df-convert');\n",
              "        buttonEl.style.display =\n",
              "          google.colab.kernel.accessAllowed ? 'block' : 'none';\n",
              "\n",
              "        async function convertToInteractive(key) {\n",
              "          const element = document.querySelector('#df-45d42310-5219-4018-81b2-4da07735d7d7');\n",
              "          const dataTable =\n",
              "            await google.colab.kernel.invokeFunction('convertToInteractive',\n",
              "                                                     [key], {});\n",
              "          if (!dataTable) return;\n",
              "\n",
              "          const docLinkHtml = 'Like what you see? Visit the ' +\n",
              "            '<a target=\"_blank\" href=https://colab.research.google.com/notebooks/data_table.ipynb>data table notebook</a>'\n",
              "            + ' to learn more about interactive tables.';\n",
              "          element.innerHTML = '';\n",
              "          dataTable['output_type'] = 'display_data';\n",
              "          await google.colab.output.renderOutput(dataTable, element);\n",
              "          const docLink = document.createElement('div');\n",
              "          docLink.innerHTML = docLinkHtml;\n",
              "          element.appendChild(docLink);\n",
              "        }\n",
              "      </script>\n",
              "    </div>\n",
              "  </div>\n",
              "  "
            ]
          },
          "metadata": {},
          "execution_count": 71
        }
      ]
    },
    {
      "cell_type": "markdown",
      "source": [
        "Nessa análise percebemos que Estados Unidos, Brasil, Índia, França, Itália, Reino Unido e Rússia estão entre os 10 países com mais casos e mais mortes no mundo. Já a Alemanha, Coreia do Sul e Japão, não estão nos 10 primeiros colocados com maior número de mortes, esse lugares são ocupados por México, Peru e Indonésia."
      ],
      "metadata": {
        "id": "tODoXoQ5I8GE"
      }
    },
    {
      "cell_type": "markdown",
      "source": [
        "**Gráfico de barras dos países com mais mortes**\n",
        "\n",
        "Para uma melhor visualização, conforme números apresentados, plotamos um gráfico de barras com os 10 países com mais mortes registradas."
      ],
      "metadata": {
        "id": "V44tAgP6GUca"
      }
    },
    {
      "cell_type": "code",
      "source": [
        "# gráfico de barras para total de mortes\n",
        "top10_total_deaths = df_clean.loc[df_clean.date == '2022-12-12', ['location', 'total_deaths']].sort_values(by=\"total_deaths\", ascending=False)[0:10]\n",
        "\n",
        "fig, ax = plt.subplots(figsize=(15,10))\n",
        "\n",
        "ax.bar('location', 'total_deaths', data=top10_total_deaths)\n",
        "\n",
        "plt.tight_layout()"
      ],
      "metadata": {
        "colab": {
          "base_uri": "https://localhost:8080/",
          "height": 729
        },
        "id": "LiVVqRVWNHTF",
        "outputId": "3f7336d3-b931-4755-f1ab-3c34fe019443"
      },
      "execution_count": null,
      "outputs": [
        {
          "output_type": "display_data",
          "data": {
            "text/plain": [
              "<Figure size 1080x720 with 1 Axes>"
            ],
            "image/png": "[encoded data removed]"
          },
          "metadata": {
            "needs_background": "light"
          }
        }
      ]
    },
    {
      "cell_type": "markdown",
      "source": [
        "### Como o vírus está progredindo?\n",
        "\n",
        "Uma das maiores preocupações das organizações de saúde é a progressão do número de casos e mortes no mundo.\n",
        "\n",
        "Uma das melhores formas de visualizarmos a evolução ao longo do tempo, é o gráfico de linhas. Por isso, vamos plotar um gráfico de linha para demonstrar e evolução de mortes no mundo."
      ],
      "metadata": {
        "id": "XPoIuXeBPPQO"
      }
    },
    {
      "cell_type": "code",
      "source": [
        "# plotar um gráfico de linhas para ver evolução do total de casos do COVID-19 \n",
        "df.loc[df.location == \"World\", \"total_deaths\"].reset_index(drop=True).plot(figsize=(10,8))"
      ],
      "metadata": {
        "colab": {
          "base_uri": "https://localhost:8080/",
          "height": 511
        },
        "id": "5-UU_BQWN9hh",
        "outputId": "bdf070f5-0f1d-4994-c422-1e477323ab43"
      },
      "execution_count": null,
      "outputs": [
        {
          "output_type": "execute_result",
          "data": {
            "text/plain": [
              "<matplotlib.axes._subplots.AxesSubplot at 0x7feb97c4f5b0>"
            ]
          },
          "metadata": {},
          "execution_count": 25
        },
        {
          "output_type": "display_data",
          "data": {
            "text/plain": [
              "<Figure size 720x576 with 1 Axes>"
            ],
            "image/png": "[encoded data removed]"
          },
          "metadata": {
            "needs_background": "light"
          }
        }
      ]
    },
    {
      "cell_type": "markdown",
      "source": [
        "**Gráfico de dispesão do número de mortos por renda per capita**\n",
        "\n",
        "Foi plotado um gráfico de dispersão considerando *gdp_per_capita* (ou seja, o PIB dos países) pelo número total de mortos. \n",
        "\n",
        "O PIB per capita é o PIB do país, estado ou município dividido pela quantidade de habitantes, que gera uma estimativa o quanto de riqueza cada pessoa produziu no ano, desconsiderando a desigualdade social. \n",
        "\n",
        "Notamos que nessa análise tivemos países com PIB per capita maior como Estados Unidos, que possui o maior número de mortes, na contra mão a Indonésia que apresenta um PIB per capita menor e também ficou no top 10, com base nesses dados não conseguimos justificar a relação do PIB per capita com número de mortes, já que elas ocorreram com diversos grupos diferentes."
      ],
      "metadata": {
        "id": "VxtdeLAiGevz"
      }
    },
    {
      "cell_type": "code",
      "source": [
        "# plotando disperão do número de mortos por renda per capita\n",
        "plt.figure(figsize = (16, 8))\n",
        "sns.scatterplot(data=df_clean, x='gdp_per_capita', y='total_deaths')\n",
        "plt.xlabel(\"PIB per Capita\", size = 14)\n",
        "plt.ylabel(\"Total de mortes\", size = 14)\n",
        "plt.show()"
      ],
      "metadata": {
        "colab": {
          "base_uri": "https://localhost:8080/",
          "height": 512
        },
        "id": "8spPtd3nW8_d",
        "outputId": "a16dd127-59f5-4ad3-f470-57d2423c809c"
      },
      "execution_count": null,
      "outputs": [
        {
          "output_type": "display_data",
          "data": {
            "text/plain": [
              "<Figure size 1152x576 with 1 Axes>"
            ],
            "image/png": "[encoded data removed]"
          },
          "metadata": {
            "needs_background": "light"
          }
        }
      ]
    },
    {
      "cell_type": "markdown",
      "metadata": {
        "id": "SViA5VZ7DYLA"
      },
      "source": [
        "### Análise Exploratória para o Brasil\n",
        "\n",
        "Nessa segunda etapa da anáilise, vamos aprofundar um pouco sobre os dados da COVID-19 no Brasil.\n",
        "\n",
        "\n",
        "\n",
        "*   Identificar quando foi registrada a primeira morte no Brasil\n",
        "*   Identificar quantos dias demorou para registrarmos a primeira morte, considerando o primeiro caso de COVID-19 registrado.\n",
        "*   Plotar gráficos de linha em escalas linear e logarítmica para os casos totais e mortes totais.\n",
        "\n",
        "No DataFrame será exibido apenas as 5 primeiras entradas que possuem Brasil na localização.\n",
        "\n",
        "\n",
        "\n",
        "\n",
        "\n"
      ]
    },
    {
      "cell_type": "code",
      "metadata": {
        "id": "UDQA502_hAwI",
        "colab": {
          "base_uri": "https://localhost:8080/",
          "height": 386
        },
        "outputId": "3e111a5c-b29c-4201-8a4b-3f40bc8a3af8"
      },
      "source": [
        "# DataFrame com dados do Brasil\n",
        "df_brasil = df.loc[df.location == \"Brazil\"].copy()\n",
        "\n",
        "df_brasil.head()"
      ],
      "execution_count": null,
      "outputs": [
        {
          "output_type": "execute_result",
          "data": {
            "text/plain": [
              "      iso_code      continent location       date  total_cases  new_cases  \\\n",
              "29511      BRA  South America   Brazil 2020-02-26          1.0        1.0   \n",
              "29512      BRA  South America   Brazil 2020-02-27          1.0        0.0   \n",
              "29513      BRA  South America   Brazil 2020-02-28          1.0        0.0   \n",
              "29514      BRA  South America   Brazil 2020-02-29          2.0        1.0   \n",
              "29515      BRA  South America   Brazil 2020-03-01          2.0        0.0   \n",
              "\n",
              "       new_cases_smoothed  total_deaths  new_deaths  new_deaths_smoothed  ...  \\\n",
              "29511                 NaN           NaN         NaN                  NaN  ...   \n",
              "29512                 NaN           NaN         NaN                  NaN  ...   \n",
              "29513                 NaN           NaN         NaN                  NaN  ...   \n",
              "29514                 NaN           NaN         NaN                  NaN  ...   \n",
              "29515                 NaN           NaN         NaN                  NaN  ...   \n",
              "\n",
              "       male_smokers  handwashing_facilities  hospital_beds_per_thousand  \\\n",
              "29511          17.9                     NaN                         2.2   \n",
              "29512          17.9                     NaN                         2.2   \n",
              "29513          17.9                     NaN                         2.2   \n",
              "29514          17.9                     NaN                         2.2   \n",
              "29515          17.9                     NaN                         2.2   \n",
              "\n",
              "       life_expectancy  human_development_index   population  \\\n",
              "29511            75.88                    0.765  215313504.0   \n",
              "29512            75.88                    0.765  215313504.0   \n",
              "29513            75.88                    0.765  215313504.0   \n",
              "29514            75.88                    0.765  215313504.0   \n",
              "29515            75.88                    0.765  215313504.0   \n",
              "\n",
              "       excess_mortality_cumulative_absolute  excess_mortality_cumulative  \\\n",
              "29511                                   NaN                          NaN   \n",
              "29512                                   NaN                          NaN   \n",
              "29513                                   NaN                          NaN   \n",
              "29514                                2427.8                         1.14   \n",
              "29515                                   NaN                          NaN   \n",
              "\n",
              "       excess_mortality  excess_mortality_cumulative_per_million  \n",
              "29511               NaN                                      NaN  \n",
              "29512               NaN                                      NaN  \n",
              "29513               NaN                                      NaN  \n",
              "29514              3.12                                11.275651  \n",
              "29515               NaN                                      NaN  \n",
              "\n",
              "[5 rows x 67 columns]"
            ],
            "text/html": [
              "\n",
              "  <div id=\"df-c6b1d4e0-eea3-43a0-aa7e-306721cf8818\">\n",
              "    <div class=\"colab-df-container\">\n",
              "      <div>\n",
              "<style scoped>\n",
              "    .dataframe tbody tr th:only-of-type {\n",
              "        vertical-align: middle;\n",
              "    }\n",
              "\n",
              "    .dataframe tbody tr th {\n",
              "        vertical-align: top;\n",
              "    }\n",
              "\n",
              "    .dataframe thead th {\n",
              "        text-align: right;\n",
              "    }\n",
              "</style>\n",
              "<table border=\"1\" class=\"dataframe\">\n",
              "  <thead>\n",
              "    <tr style=\"text-align: right;\">\n",
              "      <th></th>\n",
              "      <th>iso_code</th>\n",
              "      <th>continent</th>\n",
              "      <th>location</th>\n",
              "      <th>date</th>\n",
              "      <th>total_cases</th>\n",
              "      <th>new_cases</th>\n",
              "      <th>new_cases_smoothed</th>\n",
              "      <th>total_deaths</th>\n",
              "      <th>new_deaths</th>\n",
              "      <th>new_deaths_smoothed</th>\n",
              "      <th>...</th>\n",
              "      <th>male_smokers</th>\n",
              "      <th>handwashing_facilities</th>\n",
              "      <th>hospital_beds_per_thousand</th>\n",
              "      <th>life_expectancy</th>\n",
              "      <th>human_development_index</th>\n",
              "      <th>population</th>\n",
              "      <th>excess_mortality_cumulative_absolute</th>\n",
              "      <th>excess_mortality_cumulative</th>\n",
              "      <th>excess_mortality</th>\n",
              "      <th>excess_mortality_cumulative_per_million</th>\n",
              "    </tr>\n",
              "  </thead>\n",
              "  <tbody>\n",
              "    <tr>\n",
              "      <th>29511</th>\n",
              "      <td>BRA</td>\n",
              "      <td>South America</td>\n",
              "      <td>Brazil</td>\n",
              "      <td>2020-02-26</td>\n",
              "      <td>1.0</td>\n",
              "      <td>1.0</td>\n",
              "      <td>NaN</td>\n",
              "      <td>NaN</td>\n",
              "      <td>NaN</td>\n",
              "      <td>NaN</td>\n",
              "      <td>...</td>\n",
              "      <td>17.9</td>\n",
              "      <td>NaN</td>\n",
              "      <td>2.2</td>\n",
              "      <td>75.88</td>\n",
              "      <td>0.765</td>\n",
              "      <td>215313504.0</td>\n",
              "      <td>NaN</td>\n",
              "      <td>NaN</td>\n",
              "      <td>NaN</td>\n",
              "      <td>NaN</td>\n",
              "    </tr>\n",
              "    <tr>\n",
              "      <th>29512</th>\n",
              "      <td>BRA</td>\n",
              "      <td>South America</td>\n",
              "      <td>Brazil</td>\n",
              "      <td>2020-02-27</td>\n",
              "      <td>1.0</td>\n",
              "      <td>0.0</td>\n",
              "      <td>NaN</td>\n",
              "      <td>NaN</td>\n",
              "      <td>NaN</td>\n",
              "      <td>NaN</td>\n",
              "      <td>...</td>\n",
              "      <td>17.9</td>\n",
              "      <td>NaN</td>\n",
              "      <td>2.2</td>\n",
              "      <td>75.88</td>\n",
              "      <td>0.765</td>\n",
              "      <td>215313504.0</td>\n",
              "      <td>NaN</td>\n",
              "      <td>NaN</td>\n",
              "      <td>NaN</td>\n",
              "      <td>NaN</td>\n",
              "    </tr>\n",
              "    <tr>\n",
              "      <th>29513</th>\n",
              "      <td>BRA</td>\n",
              "      <td>South America</td>\n",
              "      <td>Brazil</td>\n",
              "      <td>2020-02-28</td>\n",
              "      <td>1.0</td>\n",
              "      <td>0.0</td>\n",
              "      <td>NaN</td>\n",
              "      <td>NaN</td>\n",
              "      <td>NaN</td>\n",
              "      <td>NaN</td>\n",
              "      <td>...</td>\n",
              "      <td>17.9</td>\n",
              "      <td>NaN</td>\n",
              "      <td>2.2</td>\n",
              "      <td>75.88</td>\n",
              "      <td>0.765</td>\n",
              "      <td>215313504.0</td>\n",
              "      <td>NaN</td>\n",
              "      <td>NaN</td>\n",
              "      <td>NaN</td>\n",
              "      <td>NaN</td>\n",
              "    </tr>\n",
              "    <tr>\n",
              "      <th>29514</th>\n",
              "      <td>BRA</td>\n",
              "      <td>South America</td>\n",
              "      <td>Brazil</td>\n",
              "      <td>2020-02-29</td>\n",
              "      <td>2.0</td>\n",
              "      <td>1.0</td>\n",
              "      <td>NaN</td>\n",
              "      <td>NaN</td>\n",
              "      <td>NaN</td>\n",
              "      <td>NaN</td>\n",
              "      <td>...</td>\n",
              "      <td>17.9</td>\n",
              "      <td>NaN</td>\n",
              "      <td>2.2</td>\n",
              "      <td>75.88</td>\n",
              "      <td>0.765</td>\n",
              "      <td>215313504.0</td>\n",
              "      <td>2427.8</td>\n",
              "      <td>1.14</td>\n",
              "      <td>3.12</td>\n",
              "      <td>11.275651</td>\n",
              "    </tr>\n",
              "    <tr>\n",
              "      <th>29515</th>\n",
              "      <td>BRA</td>\n",
              "      <td>South America</td>\n",
              "      <td>Brazil</td>\n",
              "      <td>2020-03-01</td>\n",
              "      <td>2.0</td>\n",
              "      <td>0.0</td>\n",
              "      <td>NaN</td>\n",
              "      <td>NaN</td>\n",
              "      <td>NaN</td>\n",
              "      <td>NaN</td>\n",
              "      <td>...</td>\n",
              "      <td>17.9</td>\n",
              "      <td>NaN</td>\n",
              "      <td>2.2</td>\n",
              "      <td>75.88</td>\n",
              "      <td>0.765</td>\n",
              "      <td>215313504.0</td>\n",
              "      <td>NaN</td>\n",
              "      <td>NaN</td>\n",
              "      <td>NaN</td>\n",
              "      <td>NaN</td>\n",
              "    </tr>\n",
              "  </tbody>\n",
              "</table>\n",
              "<p>5 rows × 67 columns</p>\n",
              "</div>\n",
              "      <button class=\"colab-df-convert\" onclick=\"convertToInteractive('df-c6b1d4e0-eea3-43a0-aa7e-306721cf8818')\"\n",
              "              title=\"Convert this dataframe to an interactive table.\"\n",
              "              style=\"display:none;\">\n",
              "        \n",
              "  <svg xmlns=\"http://www.w3.org/2000/svg\" height=\"24px\"viewBox=\"0 0 24 24\"\n",
              "       width=\"24px\">\n",
              "    <path d=\"M0 0h24v24H0V0z\" fill=\"none\"/>\n",
              "    <path d=\"M18.56 5.44l.94 2.06.94-2.06 2.06-.94-2.06-.94-.94-2.06-.94 2.06-2.06.94zm-11 1L8.5 8.5l.94-2.06 2.06-.94-2.06-.94L8.5 2.5l-.94 2.06-2.06.94zm10 10l.94 2.06.94-2.06 2.06-.94-2.06-.94-.94-2.06-.94 2.06-2.06.94z\"/><path d=\"M17.41 7.96l-1.37-1.37c-.4-.4-.92-.59-1.43-.59-.52 0-1.04.2-1.43.59L10.3 9.45l-7.72 7.72c-.78.78-.78 2.05 0 2.83L4 21.41c.39.39.9.59 1.41.59.51 0 1.02-.2 1.41-.59l7.78-7.78 2.81-2.81c.8-.78.8-2.07 0-2.86zM5.41 20L4 18.59l7.72-7.72 1.47 1.35L5.41 20z\"/>\n",
              "  </svg>\n",
              "      </button>\n",
              "      \n",
              "  <style>\n",
              "    .colab-df-container {\n",
              "      display:flex;\n",
              "      flex-wrap:wrap;\n",
              "      gap: 12px;\n",
              "    }\n",
              "\n",
              "    .colab-df-convert {\n",
              "      background-color: #E8F0FE;\n",
              "      border: none;\n",
              "      border-radius: 50%;\n",
              "      cursor: pointer;\n",
              "      display: none;\n",
              "      fill: #1967D2;\n",
              "      height: 32px;\n",
              "      padding: 0 0 0 0;\n",
              "      width: 32px;\n",
              "    }\n",
              "\n",
              "    .colab-df-convert:hover {\n",
              "      background-color: #E2EBFA;\n",
              "      box-shadow: 0px 1px 2px rgba(60, 64, 67, 0.3), 0px 1px 3px 1px rgba(60, 64, 67, 0.15);\n",
              "      fill: #174EA6;\n",
              "    }\n",
              "\n",
              "    [theme=dark] .colab-df-convert {\n",
              "      background-color: #3B4455;\n",
              "      fill: #D2E3FC;\n",
              "    }\n",
              "\n",
              "    [theme=dark] .colab-df-convert:hover {\n",
              "      background-color: #434B5C;\n",
              "      box-shadow: 0px 1px 3px 1px rgba(0, 0, 0, 0.15);\n",
              "      filter: drop-shadow(0px 1px 2px rgba(0, 0, 0, 0.3));\n",
              "      fill: #FFFFFF;\n",
              "    }\n",
              "  </style>\n",
              "\n",
              "      <script>\n",
              "        const buttonEl =\n",
              "          document.querySelector('#df-c6b1d4e0-eea3-43a0-aa7e-306721cf8818 button.colab-df-convert');\n",
              "        buttonEl.style.display =\n",
              "          google.colab.kernel.accessAllowed ? 'block' : 'none';\n",
              "\n",
              "        async function convertToInteractive(key) {\n",
              "          const element = document.querySelector('#df-c6b1d4e0-eea3-43a0-aa7e-306721cf8818');\n",
              "          const dataTable =\n",
              "            await google.colab.kernel.invokeFunction('convertToInteractive',\n",
              "                                                     [key], {});\n",
              "          if (!dataTable) return;\n",
              "\n",
              "          const docLinkHtml = 'Like what you see? Visit the ' +\n",
              "            '<a target=\"_blank\" href=https://colab.research.google.com/notebooks/data_table.ipynb>data table notebook</a>'\n",
              "            + ' to learn more about interactive tables.';\n",
              "          element.innerHTML = '';\n",
              "          dataTable['output_type'] = 'display_data';\n",
              "          await google.colab.output.renderOutput(dataTable, element);\n",
              "          const docLink = document.createElement('div');\n",
              "          docLink.innerHTML = docLinkHtml;\n",
              "          element.appendChild(docLink);\n",
              "        }\n",
              "      </script>\n",
              "    </div>\n",
              "  </div>\n",
              "  "
            ]
          },
          "metadata": {},
          "execution_count": 27
        }
      ]
    },
    {
      "cell_type": "markdown",
      "source": [
        "Para termos uma dimensão do nosso Data Frame, executamos o método `shape`, no total do arquivo existem 1021 entradas e 67 variáveis."
      ],
      "metadata": {
        "id": "NvX7OI1SdCWB"
      }
    },
    {
      "cell_type": "code",
      "source": [
        "# Shape do DataFrame do Brasil\n",
        "df_brasil.shape"
      ],
      "metadata": {
        "colab": {
          "base_uri": "https://localhost:8080/"
        },
        "id": "ZM4CiTiirs4X",
        "outputId": "ccba5b57-2b2e-43aa-deca-4746c1af0784"
      },
      "execution_count": null,
      "outputs": [
        {
          "output_type": "execute_result",
          "data": {
            "text/plain": [
              "(1022, 67)"
            ]
          },
          "metadata": {},
          "execution_count": 28
        }
      ]
    },
    {
      "cell_type": "markdown",
      "source": [
        "A data de atualização se mantém a mesma no dia 12 de dezembro de 2022."
      ],
      "metadata": {
        "id": "Q2JeHY4ed3Im"
      }
    },
    {
      "cell_type": "code",
      "source": [
        "df_brasil.date.max()"
      ],
      "metadata": {
        "colab": {
          "base_uri": "https://localhost:8080/"
        },
        "id": "ZmybeeY3iWmK",
        "outputId": "ee7996d1-f8be-4ca1-b982-3231699adb95"
      },
      "execution_count": null,
      "outputs": [
        {
          "output_type": "execute_result",
          "data": {
            "text/plain": [
              "Timestamp('2022-12-12 00:00:00')"
            ]
          },
          "metadata": {},
          "execution_count": 51
        }
      ]
    },
    {
      "cell_type": "markdown",
      "source": [
        "**Primeiro caso no Brasil**\n",
        "\n",
        "O primeiro caso confirmado de COVID-19 no Brasil foi no dia **26 de fevereiro de 2020.**\n"
      ],
      "metadata": {
        "id": "1UTrHUdHeE8j"
      }
    },
    {
      "cell_type": "code",
      "source": [
        "# primeiro caso registrado no Brasil\n",
        "df_brasil.loc[df_brasil['new_cases'] == 1].head(1)"
      ],
      "metadata": {
        "colab": {
          "base_uri": "https://localhost:8080/",
          "height": 191
        },
        "id": "H0LmyXq37ciz",
        "outputId": "bcfb4d4a-0701-43e0-985e-aee00ed5349d"
      },
      "execution_count": null,
      "outputs": [
        {
          "output_type": "execute_result",
          "data": {
            "text/plain": [
              "      iso_code      continent location       date  total_cases  new_cases  \\\n",
              "29511      BRA  South America   Brazil 2020-02-26          1.0        1.0   \n",
              "\n",
              "       new_cases_smoothed  total_deaths  new_deaths  new_deaths_smoothed  ...  \\\n",
              "29511                 NaN           NaN         NaN                  NaN  ...   \n",
              "\n",
              "       male_smokers  handwashing_facilities  hospital_beds_per_thousand  \\\n",
              "29511          17.9                     NaN                         2.2   \n",
              "\n",
              "       life_expectancy  human_development_index   population  \\\n",
              "29511            75.88                    0.765  215313504.0   \n",
              "\n",
              "       excess_mortality_cumulative_absolute  excess_mortality_cumulative  \\\n",
              "29511                                   NaN                          NaN   \n",
              "\n",
              "       excess_mortality  excess_mortality_cumulative_per_million  \n",
              "29511               NaN                                      NaN  \n",
              "\n",
              "[1 rows x 67 columns]"
            ],
            "text/html": [
              "\n",
              "  <div id=\"df-2cfa09b8-6809-4de9-bfeb-49f821a83682\">\n",
              "    <div class=\"colab-df-container\">\n",
              "      <div>\n",
              "<style scoped>\n",
              "    .dataframe tbody tr th:only-of-type {\n",
              "        vertical-align: middle;\n",
              "    }\n",
              "\n",
              "    .dataframe tbody tr th {\n",
              "        vertical-align: top;\n",
              "    }\n",
              "\n",
              "    .dataframe thead th {\n",
              "        text-align: right;\n",
              "    }\n",
              "</style>\n",
              "<table border=\"1\" class=\"dataframe\">\n",
              "  <thead>\n",
              "    <tr style=\"text-align: right;\">\n",
              "      <th></th>\n",
              "      <th>iso_code</th>\n",
              "      <th>continent</th>\n",
              "      <th>location</th>\n",
              "      <th>date</th>\n",
              "      <th>total_cases</th>\n",
              "      <th>new_cases</th>\n",
              "      <th>new_cases_smoothed</th>\n",
              "      <th>total_deaths</th>\n",
              "      <th>new_deaths</th>\n",
              "      <th>new_deaths_smoothed</th>\n",
              "      <th>...</th>\n",
              "      <th>male_smokers</th>\n",
              "      <th>handwashing_facilities</th>\n",
              "      <th>hospital_beds_per_thousand</th>\n",
              "      <th>life_expectancy</th>\n",
              "      <th>human_development_index</th>\n",
              "      <th>population</th>\n",
              "      <th>excess_mortality_cumulative_absolute</th>\n",
              "      <th>excess_mortality_cumulative</th>\n",
              "      <th>excess_mortality</th>\n",
              "      <th>excess_mortality_cumulative_per_million</th>\n",
              "    </tr>\n",
              "  </thead>\n",
              "  <tbody>\n",
              "    <tr>\n",
              "      <th>29511</th>\n",
              "      <td>BRA</td>\n",
              "      <td>South America</td>\n",
              "      <td>Brazil</td>\n",
              "      <td>2020-02-26</td>\n",
              "      <td>1.0</td>\n",
              "      <td>1.0</td>\n",
              "      <td>NaN</td>\n",
              "      <td>NaN</td>\n",
              "      <td>NaN</td>\n",
              "      <td>NaN</td>\n",
              "      <td>...</td>\n",
              "      <td>17.9</td>\n",
              "      <td>NaN</td>\n",
              "      <td>2.2</td>\n",
              "      <td>75.88</td>\n",
              "      <td>0.765</td>\n",
              "      <td>215313504.0</td>\n",
              "      <td>NaN</td>\n",
              "      <td>NaN</td>\n",
              "      <td>NaN</td>\n",
              "      <td>NaN</td>\n",
              "    </tr>\n",
              "  </tbody>\n",
              "</table>\n",
              "<p>1 rows × 67 columns</p>\n",
              "</div>\n",
              "      <button class=\"colab-df-convert\" onclick=\"convertToInteractive('df-2cfa09b8-6809-4de9-bfeb-49f821a83682')\"\n",
              "              title=\"Convert this dataframe to an interactive table.\"\n",
              "              style=\"display:none;\">\n",
              "        \n",
              "  <svg xmlns=\"http://www.w3.org/2000/svg\" height=\"24px\"viewBox=\"0 0 24 24\"\n",
              "       width=\"24px\">\n",
              "    <path d=\"M0 0h24v24H0V0z\" fill=\"none\"/>\n",
              "    <path d=\"M18.56 5.44l.94 2.06.94-2.06 2.06-.94-2.06-.94-.94-2.06-.94 2.06-2.06.94zm-11 1L8.5 8.5l.94-2.06 2.06-.94-2.06-.94L8.5 2.5l-.94 2.06-2.06.94zm10 10l.94 2.06.94-2.06 2.06-.94-2.06-.94-.94-2.06-.94 2.06-2.06.94z\"/><path d=\"M17.41 7.96l-1.37-1.37c-.4-.4-.92-.59-1.43-.59-.52 0-1.04.2-1.43.59L10.3 9.45l-7.72 7.72c-.78.78-.78 2.05 0 2.83L4 21.41c.39.39.9.59 1.41.59.51 0 1.02-.2 1.41-.59l7.78-7.78 2.81-2.81c.8-.78.8-2.07 0-2.86zM5.41 20L4 18.59l7.72-7.72 1.47 1.35L5.41 20z\"/>\n",
              "  </svg>\n",
              "      </button>\n",
              "      \n",
              "  <style>\n",
              "    .colab-df-container {\n",
              "      display:flex;\n",
              "      flex-wrap:wrap;\n",
              "      gap: 12px;\n",
              "    }\n",
              "\n",
              "    .colab-df-convert {\n",
              "      background-color: #E8F0FE;\n",
              "      border: none;\n",
              "      border-radius: 50%;\n",
              "      cursor: pointer;\n",
              "      display: none;\n",
              "      fill: #1967D2;\n",
              "      height: 32px;\n",
              "      padding: 0 0 0 0;\n",
              "      width: 32px;\n",
              "    }\n",
              "\n",
              "    .colab-df-convert:hover {\n",
              "      background-color: #E2EBFA;\n",
              "      box-shadow: 0px 1px 2px rgba(60, 64, 67, 0.3), 0px 1px 3px 1px rgba(60, 64, 67, 0.15);\n",
              "      fill: #174EA6;\n",
              "    }\n",
              "\n",
              "    [theme=dark] .colab-df-convert {\n",
              "      background-color: #3B4455;\n",
              "      fill: #D2E3FC;\n",
              "    }\n",
              "\n",
              "    [theme=dark] .colab-df-convert:hover {\n",
              "      background-color: #434B5C;\n",
              "      box-shadow: 0px 1px 3px 1px rgba(0, 0, 0, 0.15);\n",
              "      filter: drop-shadow(0px 1px 2px rgba(0, 0, 0, 0.3));\n",
              "      fill: #FFFFFF;\n",
              "    }\n",
              "  </style>\n",
              "\n",
              "      <script>\n",
              "        const buttonEl =\n",
              "          document.querySelector('#df-2cfa09b8-6809-4de9-bfeb-49f821a83682 button.colab-df-convert');\n",
              "        buttonEl.style.display =\n",
              "          google.colab.kernel.accessAllowed ? 'block' : 'none';\n",
              "\n",
              "        async function convertToInteractive(key) {\n",
              "          const element = document.querySelector('#df-2cfa09b8-6809-4de9-bfeb-49f821a83682');\n",
              "          const dataTable =\n",
              "            await google.colab.kernel.invokeFunction('convertToInteractive',\n",
              "                                                     [key], {});\n",
              "          if (!dataTable) return;\n",
              "\n",
              "          const docLinkHtml = 'Like what you see? Visit the ' +\n",
              "            '<a target=\"_blank\" href=https://colab.research.google.com/notebooks/data_table.ipynb>data table notebook</a>'\n",
              "            + ' to learn more about interactive tables.';\n",
              "          element.innerHTML = '';\n",
              "          dataTable['output_type'] = 'display_data';\n",
              "          await google.colab.output.renderOutput(dataTable, element);\n",
              "          const docLink = document.createElement('div');\n",
              "          docLink.innerHTML = docLinkHtml;\n",
              "          element.appendChild(docLink);\n",
              "        }\n",
              "      </script>\n",
              "    </div>\n",
              "  </div>\n",
              "  "
            ]
          },
          "metadata": {},
          "execution_count": 29
        }
      ]
    },
    {
      "cell_type": "markdown",
      "source": [
        "**Primeira morte no Brasil**\n",
        "\n",
        "A primeira morte por COVID-19 no Brasil foi no dia **17 de março de 2020,** nessa data já exisitiam 321 casos confirmados.\n"
      ],
      "metadata": {
        "id": "LjGivbbVGlAo"
      }
    },
    {
      "cell_type": "code",
      "source": [
        "# primeira morte registrada no Brasil\n",
        "df_brasil.loc[df_brasil['new_deaths'] == 1].head(1)\n"
      ],
      "metadata": {
        "colab": {
          "base_uri": "https://localhost:8080/",
          "height": 191
        },
        "id": "pFFuTp-9j8mt",
        "outputId": "f9ea5cde-6930-41e9-9493-88ab64c1875b"
      },
      "execution_count": null,
      "outputs": [
        {
          "output_type": "execute_result",
          "data": {
            "text/plain": [
              "      iso_code      continent location       date  total_cases  new_cases  \\\n",
              "29531      BRA  South America   Brazil 2020-03-17        321.0      121.0   \n",
              "\n",
              "       new_cases_smoothed  total_deaths  new_deaths  new_deaths_smoothed  ...  \\\n",
              "29531              41.429           1.0         1.0                  NaN  ...   \n",
              "\n",
              "       male_smokers  handwashing_facilities  hospital_beds_per_thousand  \\\n",
              "29531          17.9                     NaN                         2.2   \n",
              "\n",
              "       life_expectancy  human_development_index   population  \\\n",
              "29531            75.88                    0.765  215313504.0   \n",
              "\n",
              "       excess_mortality_cumulative_absolute  excess_mortality_cumulative  \\\n",
              "29531                                   NaN                          NaN   \n",
              "\n",
              "       excess_mortality  excess_mortality_cumulative_per_million  \n",
              "29531               NaN                                      NaN  \n",
              "\n",
              "[1 rows x 67 columns]"
            ],
            "text/html": [
              "\n",
              "  <div id=\"df-c8ae0f28-185a-491f-9906-33aa28420ee9\">\n",
              "    <div class=\"colab-df-container\">\n",
              "      <div>\n",
              "<style scoped>\n",
              "    .dataframe tbody tr th:only-of-type {\n",
              "        vertical-align: middle;\n",
              "    }\n",
              "\n",
              "    .dataframe tbody tr th {\n",
              "        vertical-align: top;\n",
              "    }\n",
              "\n",
              "    .dataframe thead th {\n",
              "        text-align: right;\n",
              "    }\n",
              "</style>\n",
              "<table border=\"1\" class=\"dataframe\">\n",
              "  <thead>\n",
              "    <tr style=\"text-align: right;\">\n",
              "      <th></th>\n",
              "      <th>iso_code</th>\n",
              "      <th>continent</th>\n",
              "      <th>location</th>\n",
              "      <th>date</th>\n",
              "      <th>total_cases</th>\n",
              "      <th>new_cases</th>\n",
              "      <th>new_cases_smoothed</th>\n",
              "      <th>total_deaths</th>\n",
              "      <th>new_deaths</th>\n",
              "      <th>new_deaths_smoothed</th>\n",
              "      <th>...</th>\n",
              "      <th>male_smokers</th>\n",
              "      <th>handwashing_facilities</th>\n",
              "      <th>hospital_beds_per_thousand</th>\n",
              "      <th>life_expectancy</th>\n",
              "      <th>human_development_index</th>\n",
              "      <th>population</th>\n",
              "      <th>excess_mortality_cumulative_absolute</th>\n",
              "      <th>excess_mortality_cumulative</th>\n",
              "      <th>excess_mortality</th>\n",
              "      <th>excess_mortality_cumulative_per_million</th>\n",
              "    </tr>\n",
              "  </thead>\n",
              "  <tbody>\n",
              "    <tr>\n",
              "      <th>29531</th>\n",
              "      <td>BRA</td>\n",
              "      <td>South America</td>\n",
              "      <td>Brazil</td>\n",
              "      <td>2020-03-17</td>\n",
              "      <td>321.0</td>\n",
              "      <td>121.0</td>\n",
              "      <td>41.429</td>\n",
              "      <td>1.0</td>\n",
              "      <td>1.0</td>\n",
              "      <td>NaN</td>\n",
              "      <td>...</td>\n",
              "      <td>17.9</td>\n",
              "      <td>NaN</td>\n",
              "      <td>2.2</td>\n",
              "      <td>75.88</td>\n",
              "      <td>0.765</td>\n",
              "      <td>215313504.0</td>\n",
              "      <td>NaN</td>\n",
              "      <td>NaN</td>\n",
              "      <td>NaN</td>\n",
              "      <td>NaN</td>\n",
              "    </tr>\n",
              "  </tbody>\n",
              "</table>\n",
              "<p>1 rows × 67 columns</p>\n",
              "</div>\n",
              "      <button class=\"colab-df-convert\" onclick=\"convertToInteractive('df-c8ae0f28-185a-491f-9906-33aa28420ee9')\"\n",
              "              title=\"Convert this dataframe to an interactive table.\"\n",
              "              style=\"display:none;\">\n",
              "        \n",
              "  <svg xmlns=\"http://www.w3.org/2000/svg\" height=\"24px\"viewBox=\"0 0 24 24\"\n",
              "       width=\"24px\">\n",
              "    <path d=\"M0 0h24v24H0V0z\" fill=\"none\"/>\n",
              "    <path d=\"M18.56 5.44l.94 2.06.94-2.06 2.06-.94-2.06-.94-.94-2.06-.94 2.06-2.06.94zm-11 1L8.5 8.5l.94-2.06 2.06-.94-2.06-.94L8.5 2.5l-.94 2.06-2.06.94zm10 10l.94 2.06.94-2.06 2.06-.94-2.06-.94-.94-2.06-.94 2.06-2.06.94z\"/><path d=\"M17.41 7.96l-1.37-1.37c-.4-.4-.92-.59-1.43-.59-.52 0-1.04.2-1.43.59L10.3 9.45l-7.72 7.72c-.78.78-.78 2.05 0 2.83L4 21.41c.39.39.9.59 1.41.59.51 0 1.02-.2 1.41-.59l7.78-7.78 2.81-2.81c.8-.78.8-2.07 0-2.86zM5.41 20L4 18.59l7.72-7.72 1.47 1.35L5.41 20z\"/>\n",
              "  </svg>\n",
              "      </button>\n",
              "      \n",
              "  <style>\n",
              "    .colab-df-container {\n",
              "      display:flex;\n",
              "      flex-wrap:wrap;\n",
              "      gap: 12px;\n",
              "    }\n",
              "\n",
              "    .colab-df-convert {\n",
              "      background-color: #E8F0FE;\n",
              "      border: none;\n",
              "      border-radius: 50%;\n",
              "      cursor: pointer;\n",
              "      display: none;\n",
              "      fill: #1967D2;\n",
              "      height: 32px;\n",
              "      padding: 0 0 0 0;\n",
              "      width: 32px;\n",
              "    }\n",
              "\n",
              "    .colab-df-convert:hover {\n",
              "      background-color: #E2EBFA;\n",
              "      box-shadow: 0px 1px 2px rgba(60, 64, 67, 0.3), 0px 1px 3px 1px rgba(60, 64, 67, 0.15);\n",
              "      fill: #174EA6;\n",
              "    }\n",
              "\n",
              "    [theme=dark] .colab-df-convert {\n",
              "      background-color: #3B4455;\n",
              "      fill: #D2E3FC;\n",
              "    }\n",
              "\n",
              "    [theme=dark] .colab-df-convert:hover {\n",
              "      background-color: #434B5C;\n",
              "      box-shadow: 0px 1px 3px 1px rgba(0, 0, 0, 0.15);\n",
              "      filter: drop-shadow(0px 1px 2px rgba(0, 0, 0, 0.3));\n",
              "      fill: #FFFFFF;\n",
              "    }\n",
              "  </style>\n",
              "\n",
              "      <script>\n",
              "        const buttonEl =\n",
              "          document.querySelector('#df-c8ae0f28-185a-491f-9906-33aa28420ee9 button.colab-df-convert');\n",
              "        buttonEl.style.display =\n",
              "          google.colab.kernel.accessAllowed ? 'block' : 'none';\n",
              "\n",
              "        async function convertToInteractive(key) {\n",
              "          const element = document.querySelector('#df-c8ae0f28-185a-491f-9906-33aa28420ee9');\n",
              "          const dataTable =\n",
              "            await google.colab.kernel.invokeFunction('convertToInteractive',\n",
              "                                                     [key], {});\n",
              "          if (!dataTable) return;\n",
              "\n",
              "          const docLinkHtml = 'Like what you see? Visit the ' +\n",
              "            '<a target=\"_blank\" href=https://colab.research.google.com/notebooks/data_table.ipynb>data table notebook</a>'\n",
              "            + ' to learn more about interactive tables.';\n",
              "          element.innerHTML = '';\n",
              "          dataTable['output_type'] = 'display_data';\n",
              "          await google.colab.output.renderOutput(dataTable, element);\n",
              "          const docLink = document.createElement('div');\n",
              "          docLink.innerHTML = docLinkHtml;\n",
              "          element.appendChild(docLink);\n",
              "        }\n",
              "      </script>\n",
              "    </div>\n",
              "  </div>\n",
              "  "
            ]
          },
          "metadata": {},
          "execution_count": 30
        }
      ]
    },
    {
      "cell_type": "markdown",
      "source": [
        "**Comparação do primeiro caso com a primeira morte**\n",
        "\n",
        "Após o primeiro caso confirmado de COVID-19, se passaram 20 dias para ocorrer a primeira morte."
      ],
      "metadata": {
        "id": "BumyMfNQGzYl"
      }
    },
    {
      "cell_type": "code",
      "source": [
        "# calculando tempo desde o primeiro caso até a primeira morte\n",
        "from datetime import date\n",
        "delta = df_brasil.date.loc[29511] - df_brasil.date.loc[29531]\n",
        "print('Se passaram {} dias entre o primeiro caso e a primeira morte no Brasil.'.format(delta.days))"
      ],
      "metadata": {
        "colab": {
          "base_uri": "https://localhost:8080/"
        },
        "id": "EZx06fM5kww_",
        "outputId": "3846a1d9-8718-4b9f-ccdd-21f9975a6c87"
      },
      "execution_count": null,
      "outputs": [
        {
          "output_type": "stream",
          "name": "stdout",
          "text": [
            "Se passaram -20 dias entre o primeiro caso e a primeira morte no Brasil.\n"
          ]
        }
      ]
    },
    {
      "cell_type": "markdown",
      "source": [
        "**Gráfico com evolução de casos e mortes no Brasil**\n",
        "\n",
        "Com a plotagem do gráfico de linhas de casos e mortes no Brasil, identificamos que eles continuam subindo, em menor escala comparado com início da pandêmia e nos ápices da doença."
      ],
      "metadata": {
        "id": "s_JDxKjhgyqR"
      }
    },
    {
      "cell_type": "code",
      "source": [
        "# Plotar gráficos de linha em escalas linear e logarítmica para os casos totais e mortes totais.\n",
        "x = list(range(1022))\n",
        "z = df_brasil['total_cases']\n",
        "z2 = df_brasil['total_deaths']\n",
        "\n",
        "fig, ((ax1, ax2), (ax3, ax4)) = plt.subplots(nrows=2, ncols=2, figsize=(9, 7))\n",
        "ax1.set_title('Casos no Brasil')\n",
        "ax1.set_xlabel('Dias')\n",
        "ax1.set_ylabel('Casos')\n",
        "ax1.plot(x, z)\n",
        "\n",
        "ax2.set_title('Casos no Brasil (Escala logarítmica)')\n",
        "ax2.set_xlabel('Dias')\n",
        "ax2.set_ylabel('Casos')\n",
        "ax2.set_yscale('log')\n",
        "ax2.plot(x, z)\n",
        "\n",
        "ax3.set_title('Mortes no Brasil')\n",
        "ax3.set_xlabel('Dias')\n",
        "ax3.set_ylabel('Mortes')\n",
        "ax3.plot(x, z2)\n",
        "\n",
        "ax4.set_title('Mortes no Brasil (Escala logarítmica)')\n",
        "ax4.set_xlabel('Dias')\n",
        "ax4.set_ylabel('Mortes')\n",
        "ax4.set_yscale('log')\n",
        "ax4.plot(x, z2)\n",
        "plt.tight_layout()\n"
      ],
      "metadata": {
        "colab": {
          "base_uri": "https://localhost:8080/",
          "height": 513
        },
        "id": "w_b4XA4XlOpG",
        "outputId": "23a96dae-8702-40aa-d1a6-6dd123eae206"
      },
      "execution_count": null,
      "outputs": [
        {
          "output_type": "display_data",
          "data": {
            "text/plain": [
              "<Figure size 648x504 with 4 Axes>"
            ],
            "image/png": "[encoded data removed]"
          },
          "metadata": {
            "needs_background": "light"
          }
        }
      ]
    },
    {
      "cell_type": "markdown",
      "source": [
        "**Total de mortes no mundo**\n",
        "\n",
        "Abaixo exibimos o total de óbitos ocorridos por COVID-19 no mundo, até o dia 2022-12-12 foram contabilizadas 6.654.361 mortes."
      ],
      "metadata": {
        "id": "3gfy_GfFpvuV"
      }
    },
    {
      "cell_type": "code",
      "source": [
        "# total de mortes no mundo\n",
        "df.loc[df.date == '2022-12-12'].sort_values(by=\"total_deaths\", ascending=False)[0:1]"
      ],
      "metadata": {
        "colab": {
          "base_uri": "https://localhost:8080/",
          "height": 191
        },
        "id": "FSqiUfaseqm8",
        "outputId": "d0996085-6888-4a83-c8bf-8d2ba45d32ff"
      },
      "execution_count": null,
      "outputs": [
        {
          "output_type": "execute_result",
          "data": {
            "text/plain": [
              "        iso_code continent location       date  total_cases  new_cases  \\\n",
              "239467  OWID_WRL       NaN    World 2022-12-12  649605347.0   602857.0   \n",
              "\n",
              "        new_cases_smoothed  total_deaths  new_deaths  new_deaths_smoothed  \\\n",
              "239467          555501.857     6654361.0      1675.0             1635.714   \n",
              "\n",
              "        ...  male_smokers  handwashing_facilities  hospital_beds_per_thousand  \\\n",
              "239467  ...        34.635                   60.13                       2.705   \n",
              "\n",
              "        life_expectancy  human_development_index    population  \\\n",
              "239467            72.58                    0.737  7.975105e+09   \n",
              "\n",
              "        excess_mortality_cumulative_absolute  excess_mortality_cumulative  \\\n",
              "239467                                   NaN                          NaN   \n",
              "\n",
              "        excess_mortality  excess_mortality_cumulative_per_million  \n",
              "239467               NaN                                      NaN  \n",
              "\n",
              "[1 rows x 67 columns]"
            ],
            "text/html": [
              "\n",
              "  <div id=\"df-cd5b3165-342a-4aa9-8f3a-e88597316005\">\n",
              "    <div class=\"colab-df-container\">\n",
              "      <div>\n",
              "<style scoped>\n",
              "    .dataframe tbody tr th:only-of-type {\n",
              "        vertical-align: middle;\n",
              "    }\n",
              "\n",
              "    .dataframe tbody tr th {\n",
              "        vertical-align: top;\n",
              "    }\n",
              "\n",
              "    .dataframe thead th {\n",
              "        text-align: right;\n",
              "    }\n",
              "</style>\n",
              "<table border=\"1\" class=\"dataframe\">\n",
              "  <thead>\n",
              "    <tr style=\"text-align: right;\">\n",
              "      <th></th>\n",
              "      <th>iso_code</th>\n",
              "      <th>continent</th>\n",
              "      <th>location</th>\n",
              "      <th>date</th>\n",
              "      <th>total_cases</th>\n",
              "      <th>new_cases</th>\n",
              "      <th>new_cases_smoothed</th>\n",
              "      <th>total_deaths</th>\n",
              "      <th>new_deaths</th>\n",
              "      <th>new_deaths_smoothed</th>\n",
              "      <th>...</th>\n",
              "      <th>male_smokers</th>\n",
              "      <th>handwashing_facilities</th>\n",
              "      <th>hospital_beds_per_thousand</th>\n",
              "      <th>life_expectancy</th>\n",
              "      <th>human_development_index</th>\n",
              "      <th>population</th>\n",
              "      <th>excess_mortality_cumulative_absolute</th>\n",
              "      <th>excess_mortality_cumulative</th>\n",
              "      <th>excess_mortality</th>\n",
              "      <th>excess_mortality_cumulative_per_million</th>\n",
              "    </tr>\n",
              "  </thead>\n",
              "  <tbody>\n",
              "    <tr>\n",
              "      <th>239467</th>\n",
              "      <td>OWID_WRL</td>\n",
              "      <td>NaN</td>\n",
              "      <td>World</td>\n",
              "      <td>2022-12-12</td>\n",
              "      <td>649605347.0</td>\n",
              "      <td>602857.0</td>\n",
              "      <td>555501.857</td>\n",
              "      <td>6654361.0</td>\n",
              "      <td>1675.0</td>\n",
              "      <td>1635.714</td>\n",
              "      <td>...</td>\n",
              "      <td>34.635</td>\n",
              "      <td>60.13</td>\n",
              "      <td>2.705</td>\n",
              "      <td>72.58</td>\n",
              "      <td>0.737</td>\n",
              "      <td>7.975105e+09</td>\n",
              "      <td>NaN</td>\n",
              "      <td>NaN</td>\n",
              "      <td>NaN</td>\n",
              "      <td>NaN</td>\n",
              "    </tr>\n",
              "  </tbody>\n",
              "</table>\n",
              "<p>1 rows × 67 columns</p>\n",
              "</div>\n",
              "      <button class=\"colab-df-convert\" onclick=\"convertToInteractive('df-cd5b3165-342a-4aa9-8f3a-e88597316005')\"\n",
              "              title=\"Convert this dataframe to an interactive table.\"\n",
              "              style=\"display:none;\">\n",
              "        \n",
              "  <svg xmlns=\"http://www.w3.org/2000/svg\" height=\"24px\"viewBox=\"0 0 24 24\"\n",
              "       width=\"24px\">\n",
              "    <path d=\"M0 0h24v24H0V0z\" fill=\"none\"/>\n",
              "    <path d=\"M18.56 5.44l.94 2.06.94-2.06 2.06-.94-2.06-.94-.94-2.06-.94 2.06-2.06.94zm-11 1L8.5 8.5l.94-2.06 2.06-.94-2.06-.94L8.5 2.5l-.94 2.06-2.06.94zm10 10l.94 2.06.94-2.06 2.06-.94-2.06-.94-.94-2.06-.94 2.06-2.06.94z\"/><path d=\"M17.41 7.96l-1.37-1.37c-.4-.4-.92-.59-1.43-.59-.52 0-1.04.2-1.43.59L10.3 9.45l-7.72 7.72c-.78.78-.78 2.05 0 2.83L4 21.41c.39.39.9.59 1.41.59.51 0 1.02-.2 1.41-.59l7.78-7.78 2.81-2.81c.8-.78.8-2.07 0-2.86zM5.41 20L4 18.59l7.72-7.72 1.47 1.35L5.41 20z\"/>\n",
              "  </svg>\n",
              "      </button>\n",
              "      \n",
              "  <style>\n",
              "    .colab-df-container {\n",
              "      display:flex;\n",
              "      flex-wrap:wrap;\n",
              "      gap: 12px;\n",
              "    }\n",
              "\n",
              "    .colab-df-convert {\n",
              "      background-color: #E8F0FE;\n",
              "      border: none;\n",
              "      border-radius: 50%;\n",
              "      cursor: pointer;\n",
              "      display: none;\n",
              "      fill: #1967D2;\n",
              "      height: 32px;\n",
              "      padding: 0 0 0 0;\n",
              "      width: 32px;\n",
              "    }\n",
              "\n",
              "    .colab-df-convert:hover {\n",
              "      background-color: #E2EBFA;\n",
              "      box-shadow: 0px 1px 2px rgba(60, 64, 67, 0.3), 0px 1px 3px 1px rgba(60, 64, 67, 0.15);\n",
              "      fill: #174EA6;\n",
              "    }\n",
              "\n",
              "    [theme=dark] .colab-df-convert {\n",
              "      background-color: #3B4455;\n",
              "      fill: #D2E3FC;\n",
              "    }\n",
              "\n",
              "    [theme=dark] .colab-df-convert:hover {\n",
              "      background-color: #434B5C;\n",
              "      box-shadow: 0px 1px 3px 1px rgba(0, 0, 0, 0.15);\n",
              "      filter: drop-shadow(0px 1px 2px rgba(0, 0, 0, 0.3));\n",
              "      fill: #FFFFFF;\n",
              "    }\n",
              "  </style>\n",
              "\n",
              "      <script>\n",
              "        const buttonEl =\n",
              "          document.querySelector('#df-cd5b3165-342a-4aa9-8f3a-e88597316005 button.colab-df-convert');\n",
              "        buttonEl.style.display =\n",
              "          google.colab.kernel.accessAllowed ? 'block' : 'none';\n",
              "\n",
              "        async function convertToInteractive(key) {\n",
              "          const element = document.querySelector('#df-cd5b3165-342a-4aa9-8f3a-e88597316005');\n",
              "          const dataTable =\n",
              "            await google.colab.kernel.invokeFunction('convertToInteractive',\n",
              "                                                     [key], {});\n",
              "          if (!dataTable) return;\n",
              "\n",
              "          const docLinkHtml = 'Like what you see? Visit the ' +\n",
              "            '<a target=\"_blank\" href=https://colab.research.google.com/notebooks/data_table.ipynb>data table notebook</a>'\n",
              "            + ' to learn more about interactive tables.';\n",
              "          element.innerHTML = '';\n",
              "          dataTable['output_type'] = 'display_data';\n",
              "          await google.colab.output.renderOutput(dataTable, element);\n",
              "          const docLink = document.createElement('div');\n",
              "          docLink.innerHTML = docLinkHtml;\n",
              "          element.appendChild(docLink);\n",
              "        }\n",
              "      </script>\n",
              "    </div>\n",
              "  </div>\n",
              "  "
            ]
          },
          "metadata": {},
          "execution_count": 77
        }
      ]
    },
    {
      "cell_type": "markdown",
      "source": [
        "**Gráfico Waffle comparando mortes no Brasil com mortes no mundo**\n",
        "\n",
        "Para finalizarmos nossa análise vamos plotar um gráfico waffle, os gráficos de waffle não vêm junto com a biblioteca `matplotlib`. Nesse caso instalamos o pacote `pywaffle`, uma vez que ele se integra perfeitamente ao `matplotlib`."
      ],
      "metadata": {
        "id": "UrZVKNuwrWlH"
      }
    },
    {
      "cell_type": "code",
      "source": [
        "# instalar o pywaffle\n",
        "!pip install pywaffle -q"
      ],
      "metadata": {
        "colab": {
          "base_uri": "https://localhost:8080/"
        },
        "id": "QUO0c7867feF",
        "outputId": "c0861127-f8a1-408a-ba49-38f214c01755"
      },
      "execution_count": null,
      "outputs": [
        {
          "output_type": "stream",
          "name": "stdout",
          "text": [
            "\u001b[K     |████████████████████████████████| 25.1 MB 1.7 MB/s \n",
            "\u001b[?25h"
          ]
        }
      ]
    },
    {
      "cell_type": "code",
      "source": [
        "# importar as bibliotecas necessárias\n",
        "import matplotlib.pyplot as plt\n",
        "from pywaffle import Waffle"
      ],
      "metadata": {
        "id": "g7WzCgoH_VaU"
      },
      "execution_count": null,
      "outputs": []
    },
    {
      "cell_type": "markdown",
      "source": [
        "Com o gráfico plotado, é possível ter uma ideia melhor da quantidade de mortes ocorridas no Brasil, em comparação com as mortes totais no mundo, as mortes ocorridas no Brasil representam 10,38% das mortes ocorridas no mundo."
      ],
      "metadata": {
        "id": "Gk2oFQCut1eC"
      }
    },
    {
      "cell_type": "code",
      "source": [
        "# Plotar gráfico waffle\n",
        "covid_hoje = df.loc[df['date'] == df['date'].max(),['location', 'total_deaths','total_cases']].sort_values(by='total_deaths', ascending=False)[:1]\n",
        "total_mortes = int(covid_hoje.loc[covid_hoje.index[-1],'total_deaths'])\n",
        "covid_brasil_mortes = int(df_brasil['total_deaths'].max())\n",
        "data = {'Mortes no Mundo':total_mortes, 'Casos no Brasil':covid_brasil_mortes}\n",
        "\n",
        "fig = plt.figure(\n",
        "    FigureClass=Waffle, \n",
        "    rows=4, \n",
        "    columns = 10,\n",
        "    title={'label':'Mortes no Mundo X Mortes no Brasil'},\n",
        "    values={'Mortes no Mundo (menos Brasil': 5963346,                        \n",
        "                        'Mortes no Brasil': 691015}, \n",
        "    colors=(\"#232066\", \"#983D3D\"),\n",
        "    legend={'loc': 'upper left', 'bbox_to_anchor': (1.5, 1.1)},\n",
        "    icon_size=20, \n",
        "    icon_legend=True\n",
        "    )\n",
        "\n",
        "fig.set_tight_layout(False)\n",
        "plt.show();\n",
        "\n",
        "porcentagem_casos = round((covid_brasil_mortes * 100) / total_mortes, 2)\n",
        "\n",
        "display(\"As mortes por COVID-19 no Brasil representam \"  + \n",
        "             str(porcentagem_casos) + '% de todas as mortes ocorridas no Mundo.'\"\")"
      ],
      "metadata": {
        "colab": {
          "base_uri": "https://localhost:8080/",
          "height": 195
        },
        "id": "kfbee8sojltA",
        "outputId": "a3eb50af-63cf-4731-c51f-cc921c38cb2b"
      },
      "execution_count": null,
      "outputs": [
        {
          "output_type": "display_data",
          "data": {
            "text/plain": [
              "<Waffle size 432x288 with 1 Axes>"
            ],
            "image/png": "[encoded data removed]"
          },
          "metadata": {
            "needs_background": "light"
          }
        },
        {
          "output_type": "display_data",
          "data": {
            "text/plain": [
              "'As mortes por COVID-19 no Brasil representam 10.38% de todas as mortes ocorridas no Mundo.'"
            ],
            "application/vnd.google.colaboratory.intrinsic+json": {
              "type": "string"
            }
          },
          "metadata": {}
        }
      ]
    },
    {
      "cell_type": "markdown",
      "metadata": {
        "id": "LCsiXvM3BcsO"
      },
      "source": [
        "## Conclusão\n",
        "\n",
        "<center><img alt=\"Colaboratory logo\" width=\"50%\" src=\"https://images.unsplash.com/photo-1605289982774-9a6fef564df8?ixlib=rb-4.0.3&ixid=MnwxMjA3fDB8MHxzZWFyY2h8NHx8Y292aWQlMjAxOXxlbnwwfHwwfHw%3D&auto=format&fit=crop&w=500&q=60\"></center>\n",
        "\n",
        "Um detalhe extremamente importante a ser destacado é que esses dados são medidos diariamente, e esse conjunto de dados ficará desatualizado \"rapidamente\".\n",
        "\n",
        "Entretanto, levando em consideração o contexto dos dados analisados, vale a pena destacar que:\n",
        "\n",
        "*   Os Estados Unidos é o país com maior número de casos e mortes, tendo uma grande diferença com os próximos colocados;\n",
        "*   A Alemanha, Coreia do Sul e Japão estão entre os países com mais casos, entretanto na entram na lista dos que possuem mais mortes, indicando que fazem um bom trabalho no tratamento dos contaminados;\n",
        "*   Já o Brasil é o quinto país com mais casos confirmados, mas sobe para segunda posição no número de mortes;\n",
        "*   Notamos que os casos de morte no mundo continuam crescendo, entretanto de forma mais moderada, comparado ao início e ao ápice da pandemia;\n",
        "*   O maior número de mortes por renda per capita, fica em aproximadamente US$ 55.000,00, devido a grande concentração de óbitos nos Estados Unidos;\n",
        "*   No Brasil a primeira morte ocorreu no dia 17 de março de 2020, após aproximadamente 2 anos e 10 meses esse número aumentou para 691.015 mortes;\n",
        "*   Com data base (2022-12-12) do projeto analisamos um crescimento de casos e mortes no Brasil, segundo a Organização Mundial da Saúde, com os resultados divulgados em 30/11/2022, apontam um crescimento de 113% nos óbitos nos últimos sete dias do mês de novembro.\n",
        "*   As mortes por COVID-19 no Brasil representam 10.38% de todas as mortes ocorridas no mundo\n",
        "\n",
        "A análise dos dados é uma ótima alternativa para podermos entender o cenário atual da pandemia, já que ela nos apresenta de forma clara as informações atualizadas. Essa foi uma análise para verificarmos número de casos e mortes, podendo ser mais aprofundada de acordo com o objetivo da pequisa.\n",
        "\n",
        "\n"
      ]
    }
  ]
}
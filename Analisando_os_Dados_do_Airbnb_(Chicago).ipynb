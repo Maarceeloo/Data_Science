{
  "nbformat": 4,
  "nbformat_minor": 0,
  "metadata": {
    "colab": {
      "provenance": [],
      "include_colab_link": true
    },
    "kernelspec": {
      "name": "python3",
      "display_name": "Python 3"
    }
  },
  "cells": [
    {
      "cell_type": "markdown",
      "metadata": {
        "id": "view-in-github",
        "colab_type": "text"
      },
      "source": [
        "<a href=\"https://colab.research.google.com/github/Maarceeloo/Data_Science/blob/main/Analisando_os_Dados_do_Airbnb_(Chicago).ipynb\" target=\"_parent\"><img src=\"https://colab.research.google.com/assets/colab-badge.svg\" alt=\"Open In Colab\"/></a>"
      ]
    },
    {
      "cell_type": "markdown",
      "metadata": {
        "id": "kLI0gJtzDGuQ"
      },
      "source": [
        "<img alt=\"Colaboratory logo\" width=\"15%\" src=\"https://raw.githubusercontent.com/carlosfab/escola-data-science/master/img/novo_logo_bg_claro.png\">\n",
        "\n",
        "#### **Data Science na Prática 3.0**\n",
        "*by [sigmoidal.ai](https://sigmoidal.ai)*\n",
        "\n",
        "---\n",
        "\n",
        "# Análise dos Dados do Airbnb - *Chicago*\n",
        "\n",
        "O [Airbnb](https://www.airbnb.com.br/) já é considerado como sendo a **maior empresa hoteleira da atualidade**. Ah, o detalhe é que ele **não possui nenhum hotel**!\n",
        "\n",
        "Conectando pessoas que querem viajar (e se hospedar) com anfitriões que querem alugar seus imóveis de maneira prática, o Airbnb fornece uma plataforma inovadora para tornar essa hospedagem alternativa.\n",
        "\n",
        "No final de 2018, a Startup fundada 10 anos atrás, já havia **hospedado mais de 300 milhões** de pessoas ao redor de todo o mundo, desafiando as redes hoteleiras tradicionais.\n",
        "\n",
        "Uma das iniciativas do Airbnb é disponibilizar dados do site, para algumas das principais cidades do mundo. Por meio do portal [Inside Airbnb](http://insideairbnb.com/get-the-data.html), é possível baixar uma grande quantidade de dados para desenvolver projetos e soluções de *Data Science*.\n",
        "\n",
        "<center><img alt=\"Analisando Airbnb\" width=\"10%\" src=\"https://www.area360.com.au/wp-content/uploads/2017/09/airbnb-logo.jpg\"></center>\n",
        "\n",
        "**Neste *notebook*, iremos analisar os dados referentes à cidade de Chicago, e ver quais insights podem ser extraídos a partir de dados brutos.**"
      ]
    },
    {
      "cell_type": "markdown",
      "source": [
        "# Por que escolhi Chicago?\n",
        "\n",
        "<p align=\"center\"><img src=\"https://img.freepik.com/fotos-gratis/panorama-da-noite-de-chicago_649448-3345.jpg?size=626&ext=jpg&ga=GA1.2.559654321.1669672138&semt=sph\n",
        "\"></p>\n",
        "\n",
        "Fiz um intercâmbio de inglês durante 30 dias em Nova York, e nessa viagem conheci outras cidades nos EUA, como East Hamptons, South Hamptons, Montauk, Boston, Washington D.C., Philadelphia e Chicago. Passamos 4 dias em Chicago, e no geral as hospedagens ficam mais caras quanto mais perto da região central, decidimos economizar e ficamos na região de West Town, no bairro East Village, que possuía acesso fácil e rápido pelo metro.\n",
        "\n",
        "Chicago é a maior cidade do estado de Illinois nos Estados Unidos, e a terceira cidade mais populosa do país com 2 milhões e 716 mil pessoas, ela fica à beira do lago Michigan.\n",
        "\n",
        "De 8 a 10 de outubro de 1871, Chicago teve um grande incêndio que matou aproximadamente 300 pessoas e destruiu cerca de 9 km² da cidade, devido a todos prédios, ruas e calçadas serem construídos com madeira. A cidade foi reconstruída rapidamente, com estratégias de segurança e planejamento urbano, com um estilo de construção que utiliza ferro na estrutura, que acelera as construções, os ferros são bases do arranha-céus de Chicago. Hoje Chicago é conhecida mundialmente pelos seus estilos arquitetônicos, é considerada a cidade berço dos arranha-céus.\n"
      ],
      "metadata": {
        "id": "44qK5J6krfDu"
      }
    },
    {
      "cell_type": "markdown",
      "metadata": {
        "id": "0zxQHhIUDF_2"
      },
      "source": [
        "## Obtenção dos Dados\n",
        "\n",
        "Todos os dados usados aqui foram obtidos a partir do site [Inside Airbnb](http://insideairbnb.com/get-the-data.html).\n",
        "\n",
        "Para esta análise exploratória inicial, será baixado apenas o seguinte arquivo:\n",
        "\n",
        "* `listings.csv` - *Summary information and metrics for listings in Chicago (good for visualisations).*\n"
      ]
    },
    {
      "cell_type": "code",
      "metadata": {
        "id": "Vhp2wMPgJ6zX"
      },
      "source": [
        "# importar os pacotes necessarios\n",
        "import pandas as pd\n",
        "import matplotlib.pyplot as plt\n",
        "import seaborn as sns\n",
        "\n",
        "%matplotlib inline"
      ],
      "execution_count": null,
      "outputs": []
    },
    {
      "cell_type": "code",
      "metadata": {
        "id": "tUmoAT8DLQ5T"
      },
      "source": [
        "# importar o arquivo listings.csv para um DataFrame\n",
        "df = pd.read_csv(\"http://data.insideairbnb.com/united-states/il/chicago/2022-09-14/visualisations/listings.csv\")"
      ],
      "execution_count": null,
      "outputs": []
    },
    {
      "cell_type": "markdown",
      "metadata": {
        "id": "qb5By2nIMS6m"
      },
      "source": [
        "## Análise dos Dados\n",
        "Aqui você encontra a descrição de cada coluna, para um melhor entendimento."
      ]
    },
    {
      "cell_type": "markdown",
      "metadata": {
        "id": "RYgvuebKNg8-"
      },
      "source": [
        "**Dicionário das variáveis**\n",
        "\n",
        "* `id` - número de id gerado para identificar o imóvel\n",
        "* `name` - nome da propriedade anunciada\n",
        "* `host_id` - número de id do proprietário (anfitrião) da propriedade\n",
        "* `host_name` - Nome do anfitrião\n",
        "* `neighbourhood_group` - esta coluna não contém nenhum valor válido\n",
        "* `neighbourhood` - nome do bairro\n",
        "* `latitude` - coordenada da latitude da propriedade\n",
        "* `longitude` - coordenada da longitude da propriedade\n",
        "* `room_type` - informa o tipo de quarto que é oferecido\n",
        "* `price` - preço para alugar o imóvel\n",
        "* `minimum_nights` - quantidade mínima de noites para reservar\n",
        "* `number_of_reviews` - número de avaliações que a propriedade possui\n",
        "* `last_review` - data da última avaliação\n",
        "* `reviews_per_month` - quantidade de avaliações por mês\n",
        "* `calculated_host_listings_count` - quantidade de imóveis do mesmo anfitrião\n",
        "* `availability_365` - número de dias de disponibilidade dentro de 365 dias\n",
        "* `number_of_reviews_ltm` - quantidade de avaliações nos últimos 12 meses\n",
        "* `license` - código de registro na prefeitura\n",
        "\n",
        "\n",
        "Antes de iniciar qualquer análise, vamos verificar a cara do nosso *dataset*, ele é um arquivo que pode conter centenas ou até milhares de dados, relacionando a algum assunto, os formatos em que eles são gerados geralmente são em uma planilha do Excel (XLS), CSV, TXT, JSOSN ou XML. Analisando as 5 primeiras entradas, já é possível ter o primeiro contato com esses dados e entender como eles foram distribuídos, com o comando *df.head()* verificamos as 5 primeiras entradas, precisando avaliar mais entradas, basta incluir a quantidade desejada dentro dos parênteses."
      ]
    },
    {
      "cell_type": "code",
      "metadata": {
        "id": "2iS_dae7YQtO",
        "colab": {
          "base_uri": "https://localhost:8080/",
          "height": 447
        },
        "outputId": "a09d1e08-bc57-47d2-8216-f587aa4d9ef3"
      },
      "source": [
        "# mostrar as 5 primeiras entradas\n",
        "df.head()"
      ],
      "execution_count": null,
      "outputs": [
        {
          "output_type": "execute_result",
          "data": {
            "text/plain": [
              "      id                                               name  host_id  \\\n",
              "0   2384                       Hyde Park - Walk to UChicago     2613   \n",
              "1   7126                Tiny Studio Apartment 94 Walk Score    17928   \n",
              "2  10945                              The Biddle House (#1)    33004   \n",
              "3  12140                           Lincoln Park Guest House    46734   \n",
              "4  24833  Prime LincolnPark 1 Block Fullerton Express L ...   101521   \n",
              "\n",
              "           host_name  neighbourhood_group neighbourhood   latitude  longitude  \\\n",
              "0            Rebecca                  NaN     Hyde Park  41.787900 -87.587800   \n",
              "1              Sarah                  NaN     West Town  41.901660 -87.680210   \n",
              "2        At Home Inn                  NaN  Lincoln Park  41.911960 -87.639810   \n",
              "3  Sharon And Robert                  NaN  Lincoln Park  41.923570 -87.649470   \n",
              "4                Red                  NaN  Lincoln Park  41.925961 -87.656364   \n",
              "\n",
              "         room_type  price  minimum_nights  number_of_reviews last_review  \\\n",
              "0     Private room    110               3                207  2022-09-09   \n",
              "1  Entire home/apt     91               2                459  2022-08-28   \n",
              "2  Entire home/apt    157               4                 56  2022-08-23   \n",
              "3     Private room    329               2                 13  2022-09-12   \n",
              "4  Entire home/apt     86              32                 40  2022-04-23   \n",
              "\n",
              "   reviews_per_month  calculated_host_listings_count  availability_365  \\\n",
              "0               2.21                               1               320   \n",
              "1               2.86                               1               320   \n",
              "2               0.55                               9               137   \n",
              "3               0.15                               1               165   \n",
              "4               0.27                               3               306   \n",
              "\n",
              "   number_of_reviews_ltm                    license  \n",
              "0                     19               R17000015609  \n",
              "1                     51               R21000075737  \n",
              "2                     23                    2209984  \n",
              "3                      6               R20000055258  \n",
              "4                      2  City registration pending  "
            ],
            "text/html": [
              "\n",
              "  <div id=\"df-189b6394-335a-40f1-aa76-bdea25f5be1a\">\n",
              "    <div class=\"colab-df-container\">\n",
              "      <div>\n",
              "<style scoped>\n",
              "    .dataframe tbody tr th:only-of-type {\n",
              "        vertical-align: middle;\n",
              "    }\n",
              "\n",
              "    .dataframe tbody tr th {\n",
              "        vertical-align: top;\n",
              "    }\n",
              "\n",
              "    .dataframe thead th {\n",
              "        text-align: right;\n",
              "    }\n",
              "</style>\n",
              "<table border=\"1\" class=\"dataframe\">\n",
              "  <thead>\n",
              "    <tr style=\"text-align: right;\">\n",
              "      <th></th>\n",
              "      <th>id</th>\n",
              "      <th>name</th>\n",
              "      <th>host_id</th>\n",
              "      <th>host_name</th>\n",
              "      <th>neighbourhood_group</th>\n",
              "      <th>neighbourhood</th>\n",
              "      <th>latitude</th>\n",
              "      <th>longitude</th>\n",
              "      <th>room_type</th>\n",
              "      <th>price</th>\n",
              "      <th>minimum_nights</th>\n",
              "      <th>number_of_reviews</th>\n",
              "      <th>last_review</th>\n",
              "      <th>reviews_per_month</th>\n",
              "      <th>calculated_host_listings_count</th>\n",
              "      <th>availability_365</th>\n",
              "      <th>number_of_reviews_ltm</th>\n",
              "      <th>license</th>\n",
              "    </tr>\n",
              "  </thead>\n",
              "  <tbody>\n",
              "    <tr>\n",
              "      <th>0</th>\n",
              "      <td>2384</td>\n",
              "      <td>Hyde Park - Walk to UChicago</td>\n",
              "      <td>2613</td>\n",
              "      <td>Rebecca</td>\n",
              "      <td>NaN</td>\n",
              "      <td>Hyde Park</td>\n",
              "      <td>41.787900</td>\n",
              "      <td>-87.587800</td>\n",
              "      <td>Private room</td>\n",
              "      <td>110</td>\n",
              "      <td>3</td>\n",
              "      <td>207</td>\n",
              "      <td>2022-09-09</td>\n",
              "      <td>2.21</td>\n",
              "      <td>1</td>\n",
              "      <td>320</td>\n",
              "      <td>19</td>\n",
              "      <td>R17000015609</td>\n",
              "    </tr>\n",
              "    <tr>\n",
              "      <th>1</th>\n",
              "      <td>7126</td>\n",
              "      <td>Tiny Studio Apartment 94 Walk Score</td>\n",
              "      <td>17928</td>\n",
              "      <td>Sarah</td>\n",
              "      <td>NaN</td>\n",
              "      <td>West Town</td>\n",
              "      <td>41.901660</td>\n",
              "      <td>-87.680210</td>\n",
              "      <td>Entire home/apt</td>\n",
              "      <td>91</td>\n",
              "      <td>2</td>\n",
              "      <td>459</td>\n",
              "      <td>2022-08-28</td>\n",
              "      <td>2.86</td>\n",
              "      <td>1</td>\n",
              "      <td>320</td>\n",
              "      <td>51</td>\n",
              "      <td>R21000075737</td>\n",
              "    </tr>\n",
              "    <tr>\n",
              "      <th>2</th>\n",
              "      <td>10945</td>\n",
              "      <td>The Biddle House (#1)</td>\n",
              "      <td>33004</td>\n",
              "      <td>At Home Inn</td>\n",
              "      <td>NaN</td>\n",
              "      <td>Lincoln Park</td>\n",
              "      <td>41.911960</td>\n",
              "      <td>-87.639810</td>\n",
              "      <td>Entire home/apt</td>\n",
              "      <td>157</td>\n",
              "      <td>4</td>\n",
              "      <td>56</td>\n",
              "      <td>2022-08-23</td>\n",
              "      <td>0.55</td>\n",
              "      <td>9</td>\n",
              "      <td>137</td>\n",
              "      <td>23</td>\n",
              "      <td>2209984</td>\n",
              "    </tr>\n",
              "    <tr>\n",
              "      <th>3</th>\n",
              "      <td>12140</td>\n",
              "      <td>Lincoln Park Guest House</td>\n",
              "      <td>46734</td>\n",
              "      <td>Sharon And Robert</td>\n",
              "      <td>NaN</td>\n",
              "      <td>Lincoln Park</td>\n",
              "      <td>41.923570</td>\n",
              "      <td>-87.649470</td>\n",
              "      <td>Private room</td>\n",
              "      <td>329</td>\n",
              "      <td>2</td>\n",
              "      <td>13</td>\n",
              "      <td>2022-09-12</td>\n",
              "      <td>0.15</td>\n",
              "      <td>1</td>\n",
              "      <td>165</td>\n",
              "      <td>6</td>\n",
              "      <td>R20000055258</td>\n",
              "    </tr>\n",
              "    <tr>\n",
              "      <th>4</th>\n",
              "      <td>24833</td>\n",
              "      <td>Prime LincolnPark 1 Block Fullerton Express L ...</td>\n",
              "      <td>101521</td>\n",
              "      <td>Red</td>\n",
              "      <td>NaN</td>\n",
              "      <td>Lincoln Park</td>\n",
              "      <td>41.925961</td>\n",
              "      <td>-87.656364</td>\n",
              "      <td>Entire home/apt</td>\n",
              "      <td>86</td>\n",
              "      <td>32</td>\n",
              "      <td>40</td>\n",
              "      <td>2022-04-23</td>\n",
              "      <td>0.27</td>\n",
              "      <td>3</td>\n",
              "      <td>306</td>\n",
              "      <td>2</td>\n",
              "      <td>City registration pending</td>\n",
              "    </tr>\n",
              "  </tbody>\n",
              "</table>\n",
              "</div>\n",
              "      <button class=\"colab-df-convert\" onclick=\"convertToInteractive('df-189b6394-335a-40f1-aa76-bdea25f5be1a')\"\n",
              "              title=\"Convert this dataframe to an interactive table.\"\n",
              "              style=\"display:none;\">\n",
              "        \n",
              "  <svg xmlns=\"http://www.w3.org/2000/svg\" height=\"24px\"viewBox=\"0 0 24 24\"\n",
              "       width=\"24px\">\n",
              "    <path d=\"M0 0h24v24H0V0z\" fill=\"none\"/>\n",
              "    <path d=\"M18.56 5.44l.94 2.06.94-2.06 2.06-.94-2.06-.94-.94-2.06-.94 2.06-2.06.94zm-11 1L8.5 8.5l.94-2.06 2.06-.94-2.06-.94L8.5 2.5l-.94 2.06-2.06.94zm10 10l.94 2.06.94-2.06 2.06-.94-2.06-.94-.94-2.06-.94 2.06-2.06.94z\"/><path d=\"M17.41 7.96l-1.37-1.37c-.4-.4-.92-.59-1.43-.59-.52 0-1.04.2-1.43.59L10.3 9.45l-7.72 7.72c-.78.78-.78 2.05 0 2.83L4 21.41c.39.39.9.59 1.41.59.51 0 1.02-.2 1.41-.59l7.78-7.78 2.81-2.81c.8-.78.8-2.07 0-2.86zM5.41 20L4 18.59l7.72-7.72 1.47 1.35L5.41 20z\"/>\n",
              "  </svg>\n",
              "      </button>\n",
              "      \n",
              "  <style>\n",
              "    .colab-df-container {\n",
              "      display:flex;\n",
              "      flex-wrap:wrap;\n",
              "      gap: 12px;\n",
              "    }\n",
              "\n",
              "    .colab-df-convert {\n",
              "      background-color: #E8F0FE;\n",
              "      border: none;\n",
              "      border-radius: 50%;\n",
              "      cursor: pointer;\n",
              "      display: none;\n",
              "      fill: #1967D2;\n",
              "      height: 32px;\n",
              "      padding: 0 0 0 0;\n",
              "      width: 32px;\n",
              "    }\n",
              "\n",
              "    .colab-df-convert:hover {\n",
              "      background-color: #E2EBFA;\n",
              "      box-shadow: 0px 1px 2px rgba(60, 64, 67, 0.3), 0px 1px 3px 1px rgba(60, 64, 67, 0.15);\n",
              "      fill: #174EA6;\n",
              "    }\n",
              "\n",
              "    [theme=dark] .colab-df-convert {\n",
              "      background-color: #3B4455;\n",
              "      fill: #D2E3FC;\n",
              "    }\n",
              "\n",
              "    [theme=dark] .colab-df-convert:hover {\n",
              "      background-color: #434B5C;\n",
              "      box-shadow: 0px 1px 3px 1px rgba(0, 0, 0, 0.15);\n",
              "      filter: drop-shadow(0px 1px 2px rgba(0, 0, 0, 0.3));\n",
              "      fill: #FFFFFF;\n",
              "    }\n",
              "  </style>\n",
              "\n",
              "      <script>\n",
              "        const buttonEl =\n",
              "          document.querySelector('#df-189b6394-335a-40f1-aa76-bdea25f5be1a button.colab-df-convert');\n",
              "        buttonEl.style.display =\n",
              "          google.colab.kernel.accessAllowed ? 'block' : 'none';\n",
              "\n",
              "        async function convertToInteractive(key) {\n",
              "          const element = document.querySelector('#df-189b6394-335a-40f1-aa76-bdea25f5be1a');\n",
              "          const dataTable =\n",
              "            await google.colab.kernel.invokeFunction('convertToInteractive',\n",
              "                                                     [key], {});\n",
              "          if (!dataTable) return;\n",
              "\n",
              "          const docLinkHtml = 'Like what you see? Visit the ' +\n",
              "            '<a target=\"_blank\" href=https://colab.research.google.com/notebooks/data_table.ipynb>data table notebook</a>'\n",
              "            + ' to learn more about interactive tables.';\n",
              "          element.innerHTML = '';\n",
              "          dataTable['output_type'] = 'display_data';\n",
              "          await google.colab.output.renderOutput(dataTable, element);\n",
              "          const docLink = document.createElement('div');\n",
              "          docLink.innerHTML = docLinkHtml;\n",
              "          element.appendChild(docLink);\n",
              "        }\n",
              "      </script>\n",
              "    </div>\n",
              "  </div>\n",
              "  "
            ]
          },
          "metadata": {},
          "execution_count": 3
        }
      ]
    },
    {
      "cell_type": "markdown",
      "metadata": {
        "id": "6-B_qtEaYEd-"
      },
      "source": [
        "### **Q1. Quantos atributos (variáveis) e quantas entradas o nosso conjunto de dados possui? Quais os tipos das variáveis?**\n",
        "\n",
        "Nesta versão resumida do Airbnb, ela apresenta as informações através de entradas e variáveis, as entradas são as linhas temos um total 7414 a serem analisadas, juntamente com 18 variáveis que são as colunas. "
      ]
    },
    {
      "cell_type": "code",
      "metadata": {
        "id": "TFRK0tniLV-G",
        "colab": {
          "base_uri": "https://localhost:8080/",
          "height": 399
        },
        "outputId": "420d4325-3093-4902-b3c7-19d8ab073a8d"
      },
      "source": [
        "# identificar o volume de dados do DataFrame\n",
        "print(\"Entradas:\\t {}\".format(df.shape[0]))\n",
        "print(\"Variáveis:\\t {}\\n\".format(df.shape[1]))\n",
        "\n",
        "# verificar as 5 primeiras entradas do dataset\n",
        "display(df.dtypes)"
      ],
      "execution_count": null,
      "outputs": [
        {
          "output_type": "stream",
          "name": "stdout",
          "text": [
            "Entradas:\t 7414\n",
            "Variáveis:\t 18\n",
            "\n"
          ]
        },
        {
          "output_type": "display_data",
          "data": {
            "text/plain": [
              "id                                  int64\n",
              "name                               object\n",
              "host_id                             int64\n",
              "host_name                          object\n",
              "neighbourhood_group               float64\n",
              "neighbourhood                      object\n",
              "latitude                          float64\n",
              "longitude                         float64\n",
              "room_type                          object\n",
              "price                               int64\n",
              "minimum_nights                      int64\n",
              "number_of_reviews                   int64\n",
              "last_review                        object\n",
              "reviews_per_month                 float64\n",
              "calculated_host_listings_count      int64\n",
              "availability_365                    int64\n",
              "number_of_reviews_ltm               int64\n",
              "license                            object\n",
              "dtype: object"
            ]
          },
          "metadata": {}
        }
      ]
    },
    {
      "cell_type": "markdown",
      "metadata": {
        "id": "yz1urSUGW9iE"
      },
      "source": [
        "### **Q2. Qual a porcentagem de valores ausentes no *dataset*?**\n",
        "\n",
        "<p align=\"center\"><img src=\"https://media.istockphoto.com/id/1391582011/photo/red-question-mark-sitting-next-to-percentage-sign-engraved-wood-block-before-defocused.jpg?b=1&s=170667a&w=0&k=20&c=Oy3-yCxuezyH1ovFPk3MXjnXdvDt_QyaMz6wp4IMBOo=\n",
        "\"></p>\n",
        "\n",
        "A qualidade de um *dataset* está diretamente relacionada à quantidade de valores ausentes, é importante entender logo no início se esses valores nulos são significativos comparados ao total de entradas.\n",
        "\n",
        "* É possível ver que a coluna `neighbourhood_group` possui 100% dos seus dados faltantes. \n",
        "* As variáveis `reviews_per_month` e `last_review` possuem valores nulos em 17,70% das linhas, `license` apresenta 17,08%.\n",
        "* Um ponto interessante a considerar na análise da coluna license, é que existe uma medida regulatória na cidade de Chicago, onde os proprietários de imóveis que possuem casas para aluguéis de temporada em sites de reservas, devem possuir um licenciamento junto aos órgãos públicos, onde pagam uma taxa anual para obtê-lo, identificamos que 17,08% não possuem essa informação na plataforma. Proprietários de aluguel por temporada que violarem a lei enfrentarão multas entre 5.000 a 10.000 dólares, destacando-se esse item essencial para análise, tanto para quem faz a reserva quanto para quem aluga."
      ]
    },
    {
      "cell_type": "code",
      "metadata": {
        "id": "plk2FjbCXOqP",
        "colab": {
          "base_uri": "https://localhost:8080/"
        },
        "outputId": "b00b387e-234f-4934-bd00-674106ce2d36"
      },
      "source": [
        "# ordenar em ordem decrescente as variáveis por seus valores ausentes\n",
        "(df.isnull().sum() / df.shape[0]).sort_values(ascending=False)"
      ],
      "execution_count": null,
      "outputs": [
        {
          "output_type": "execute_result",
          "data": {
            "text/plain": [
              "reviews_per_month                 0.176963\n",
              "last_review                       0.176963\n",
              "license                           0.170758\n",
              "minimum_nights                    0.000000\n",
              "number_of_reviews_ltm             0.000000\n",
              "availability_365                  0.000000\n",
              "calculated_host_listings_count    0.000000\n",
              "number_of_reviews                 0.000000\n",
              "id                                0.000000\n",
              "name                              0.000000\n",
              "room_type                         0.000000\n",
              "longitude                         0.000000\n",
              "latitude                          0.000000\n",
              "neighbourhood                     0.000000\n",
              "host_name                         0.000000\n",
              "host_id                           0.000000\n",
              "price                             0.000000\n",
              "dtype: float64"
            ]
          },
          "metadata": {},
          "execution_count": 9
        }
      ]
    },
    {
      "cell_type": "markdown",
      "source": [
        "#### Limpeza dos Dados\n",
        "Notamos que a coluna `neighbourhood_group` não possui dados, por esse motivo iremos exclui-la, com o método df.drop, já as colunas `reviews_per_month`, `last_review` e `license` não iremos excluir as entradas, existe uma grande quantidade de hospedagens nessa situação, que não possuem avaliação ou licença, conforme pode ser conferido abaixo:"
      ],
      "metadata": {
        "id": "HR6QlJN7v4ip"
      }
    },
    {
      "cell_type": "code",
      "source": [
        "# excluindo valores ausentes\n",
        "df.drop(columns=['neighbourhood_group'], inplace=True)\n",
        "\n",
        "# verificando o resultado\n",
        "(df.isnull().sum()).sort_values(ascending=False)"
      ],
      "metadata": {
        "colab": {
          "base_uri": "https://localhost:8080/"
        },
        "id": "2SG-PQNRwk0c",
        "outputId": "f2efef75-03da-4e91-8133-be2d320f7907"
      },
      "execution_count": null,
      "outputs": [
        {
          "output_type": "execute_result",
          "data": {
            "text/plain": [
              "reviews_per_month                 1312\n",
              "last_review                       1312\n",
              "license                           1266\n",
              "minimum_nights                       0\n",
              "number_of_reviews_ltm                0\n",
              "availability_365                     0\n",
              "calculated_host_listings_count       0\n",
              "number_of_reviews                    0\n",
              "id                                   0\n",
              "name                                 0\n",
              "room_type                            0\n",
              "longitude                            0\n",
              "latitude                             0\n",
              "neighbourhood                        0\n",
              "host_name                            0\n",
              "host_id                              0\n",
              "price                                0\n",
              "dtype: int64"
            ]
          },
          "metadata": {},
          "execution_count": 6
        }
      ]
    },
    {
      "cell_type": "markdown",
      "metadata": {
        "id": "iHXvvHIxaoNc"
      },
      "source": [
        "### **Q3. Qual o tipo de distribuição das variáveis?** \n",
        "Para identificar a distribuição das variáveis, irei plotar o histograma. Com esses dados mais visuais é verificado a concentração de algumas variáveis (colunas), como preço, minímo de noites e número de avaliações em geral, podemos verificar que a maioria dos imóveis ficam nas faixas iniciais de cada gráfico."
      ]
    },
    {
      "cell_type": "code",
      "metadata": {
        "id": "q2wWSfeRbmBo",
        "colab": {
          "base_uri": "https://localhost:8080/",
          "height": 607
        },
        "outputId": "497a5f63-cca7-4fc4-c2a3-e2fe1e86bd18"
      },
      "source": [
        "# plotar o histograma das variáveis numéricas\n",
        "df.hist(bins=15, figsize=(15,10));"
      ],
      "execution_count": null,
      "outputs": [
        {
          "output_type": "display_data",
          "data": {
            "text/plain": [
              "<Figure size 1080x720 with 12 Axes>"
            ],
            "image/png": "[encoded data removed]"
          },
          "metadata": {
            "needs_background": "light"
          }
        }
      ]
    },
    {
      "cell_type": "markdown",
      "metadata": {
        "id": "7x4aw1j5wNmn"
      },
      "source": [
        "### **Q4.  Há outliers presentes?**\n",
        "\n",
        "Os outliers são dados que se diferenciam radicalmente dos outros, eles ficam distantes do padrão, esses geralmente causam anormalidades nos resultados obtidos pelos algoritmos e pelo sistema de análise. Como exemplo existe um castelo na plataforama com um alto custo diário para locação, ao contrário pode ter alguma residência com valor zerado ou com alguma inconsistência, nessas duas situações teremos interferências no resultado da análise.\n",
        "\n",
        "Pela distribuição do histograma, é possível verificar indícios da presença de *outliers*. Olhe por exemplo as variáveis `price`, `minimum_nights` e `calculated_host_listings_count`.\n",
        "\n",
        "Os valores não seguem uma distruição, e distorcem toda a representação gráfica. Para confirmar, há duas maneiras rápidas que auxiliam a detecção de *outliers*. São elas:\n",
        "\n",
        "* Resumo estatístico por meio do método `describe()`\n",
        "* Plotar `boxplots` para a variável.\n",
        "\n",
        "Abaixo conseguimos visualizar as mínimas, médias e máximas de cada coluna."
      ]
    },
    {
      "cell_type": "code",
      "metadata": {
        "id": "ff-8gUahLk-C",
        "colab": {
          "base_uri": "https://localhost:8080/",
          "height": 300
        },
        "outputId": "83ce516a-8691-4ccd-ebe5-ba87265f38ca"
      },
      "source": [
        "# ver o resumo estatístico das variáveis numéricas\n",
        "df[['price', 'minimum_nights', 'number_of_reviews', 'reviews_per_month',\n",
        "    'calculated_host_listings_count', 'availability_365']].describe()"
      ],
      "execution_count": null,
      "outputs": [
        {
          "output_type": "execute_result",
          "data": {
            "text/plain": [
              "              price  minimum_nights  number_of_reviews  reviews_per_month  \\\n",
              "count   7414.000000     7414.000000        7414.000000        6102.000000   \n",
              "mean     211.694767       14.580388          46.316968           1.986147   \n",
              "std      288.524481       41.305189          82.506890           1.936698   \n",
              "min        0.000000        1.000000           0.000000           0.010000   \n",
              "25%       93.000000        2.000000           2.000000           0.560000   \n",
              "50%      150.000000        2.000000          14.000000           1.600000   \n",
              "75%      237.000000       32.000000          55.000000           2.970000   \n",
              "max    10000.000000     1125.000000        2600.000000          55.710000   \n",
              "\n",
              "       calculated_host_listings_count  availability_365  \n",
              "count                     7414.000000       7414.000000  \n",
              "mean                        44.548692        200.869706  \n",
              "std                        133.163519        132.220453  \n",
              "min                          1.000000          0.000000  \n",
              "25%                          1.000000         74.000000  \n",
              "50%                          3.000000        222.000000  \n",
              "75%                         12.000000        333.000000  \n",
              "max                        525.000000        365.000000  "
            ],
            "text/html": [
              "\n",
              "  <div id=\"df-cf1e3b77-1cf3-4520-aab5-9164d5cfcb2e\">\n",
              "    <div class=\"colab-df-container\">\n",
              "      <div>\n",
              "<style scoped>\n",
              "    .dataframe tbody tr th:only-of-type {\n",
              "        vertical-align: middle;\n",
              "    }\n",
              "\n",
              "    .dataframe tbody tr th {\n",
              "        vertical-align: top;\n",
              "    }\n",
              "\n",
              "    .dataframe thead th {\n",
              "        text-align: right;\n",
              "    }\n",
              "</style>\n",
              "<table border=\"1\" class=\"dataframe\">\n",
              "  <thead>\n",
              "    <tr style=\"text-align: right;\">\n",
              "      <th></th>\n",
              "      <th>price</th>\n",
              "      <th>minimum_nights</th>\n",
              "      <th>number_of_reviews</th>\n",
              "      <th>reviews_per_month</th>\n",
              "      <th>calculated_host_listings_count</th>\n",
              "      <th>availability_365</th>\n",
              "    </tr>\n",
              "  </thead>\n",
              "  <tbody>\n",
              "    <tr>\n",
              "      <th>count</th>\n",
              "      <td>7414.000000</td>\n",
              "      <td>7414.000000</td>\n",
              "      <td>7414.000000</td>\n",
              "      <td>6102.000000</td>\n",
              "      <td>7414.000000</td>\n",
              "      <td>7414.000000</td>\n",
              "    </tr>\n",
              "    <tr>\n",
              "      <th>mean</th>\n",
              "      <td>211.694767</td>\n",
              "      <td>14.580388</td>\n",
              "      <td>46.316968</td>\n",
              "      <td>1.986147</td>\n",
              "      <td>44.548692</td>\n",
              "      <td>200.869706</td>\n",
              "    </tr>\n",
              "    <tr>\n",
              "      <th>std</th>\n",
              "      <td>288.524481</td>\n",
              "      <td>41.305189</td>\n",
              "      <td>82.506890</td>\n",
              "      <td>1.936698</td>\n",
              "      <td>133.163519</td>\n",
              "      <td>132.220453</td>\n",
              "    </tr>\n",
              "    <tr>\n",
              "      <th>min</th>\n",
              "      <td>0.000000</td>\n",
              "      <td>1.000000</td>\n",
              "      <td>0.000000</td>\n",
              "      <td>0.010000</td>\n",
              "      <td>1.000000</td>\n",
              "      <td>0.000000</td>\n",
              "    </tr>\n",
              "    <tr>\n",
              "      <th>25%</th>\n",
              "      <td>93.000000</td>\n",
              "      <td>2.000000</td>\n",
              "      <td>2.000000</td>\n",
              "      <td>0.560000</td>\n",
              "      <td>1.000000</td>\n",
              "      <td>74.000000</td>\n",
              "    </tr>\n",
              "    <tr>\n",
              "      <th>50%</th>\n",
              "      <td>150.000000</td>\n",
              "      <td>2.000000</td>\n",
              "      <td>14.000000</td>\n",
              "      <td>1.600000</td>\n",
              "      <td>3.000000</td>\n",
              "      <td>222.000000</td>\n",
              "    </tr>\n",
              "    <tr>\n",
              "      <th>75%</th>\n",
              "      <td>237.000000</td>\n",
              "      <td>32.000000</td>\n",
              "      <td>55.000000</td>\n",
              "      <td>2.970000</td>\n",
              "      <td>12.000000</td>\n",
              "      <td>333.000000</td>\n",
              "    </tr>\n",
              "    <tr>\n",
              "      <th>max</th>\n",
              "      <td>10000.000000</td>\n",
              "      <td>1125.000000</td>\n",
              "      <td>2600.000000</td>\n",
              "      <td>55.710000</td>\n",
              "      <td>525.000000</td>\n",
              "      <td>365.000000</td>\n",
              "    </tr>\n",
              "  </tbody>\n",
              "</table>\n",
              "</div>\n",
              "      <button class=\"colab-df-convert\" onclick=\"convertToInteractive('df-cf1e3b77-1cf3-4520-aab5-9164d5cfcb2e')\"\n",
              "              title=\"Convert this dataframe to an interactive table.\"\n",
              "              style=\"display:none;\">\n",
              "        \n",
              "  <svg xmlns=\"http://www.w3.org/2000/svg\" height=\"24px\"viewBox=\"0 0 24 24\"\n",
              "       width=\"24px\">\n",
              "    <path d=\"M0 0h24v24H0V0z\" fill=\"none\"/>\n",
              "    <path d=\"M18.56 5.44l.94 2.06.94-2.06 2.06-.94-2.06-.94-.94-2.06-.94 2.06-2.06.94zm-11 1L8.5 8.5l.94-2.06 2.06-.94-2.06-.94L8.5 2.5l-.94 2.06-2.06.94zm10 10l.94 2.06.94-2.06 2.06-.94-2.06-.94-.94-2.06-.94 2.06-2.06.94z\"/><path d=\"M17.41 7.96l-1.37-1.37c-.4-.4-.92-.59-1.43-.59-.52 0-1.04.2-1.43.59L10.3 9.45l-7.72 7.72c-.78.78-.78 2.05 0 2.83L4 21.41c.39.39.9.59 1.41.59.51 0 1.02-.2 1.41-.59l7.78-7.78 2.81-2.81c.8-.78.8-2.07 0-2.86zM5.41 20L4 18.59l7.72-7.72 1.47 1.35L5.41 20z\"/>\n",
              "  </svg>\n",
              "      </button>\n",
              "      \n",
              "  <style>\n",
              "    .colab-df-container {\n",
              "      display:flex;\n",
              "      flex-wrap:wrap;\n",
              "      gap: 12px;\n",
              "    }\n",
              "\n",
              "    .colab-df-convert {\n",
              "      background-color: #E8F0FE;\n",
              "      border: none;\n",
              "      border-radius: 50%;\n",
              "      cursor: pointer;\n",
              "      display: none;\n",
              "      fill: #1967D2;\n",
              "      height: 32px;\n",
              "      padding: 0 0 0 0;\n",
              "      width: 32px;\n",
              "    }\n",
              "\n",
              "    .colab-df-convert:hover {\n",
              "      background-color: #E2EBFA;\n",
              "      box-shadow: 0px 1px 2px rgba(60, 64, 67, 0.3), 0px 1px 3px 1px rgba(60, 64, 67, 0.15);\n",
              "      fill: #174EA6;\n",
              "    }\n",
              "\n",
              "    [theme=dark] .colab-df-convert {\n",
              "      background-color: #3B4455;\n",
              "      fill: #D2E3FC;\n",
              "    }\n",
              "\n",
              "    [theme=dark] .colab-df-convert:hover {\n",
              "      background-color: #434B5C;\n",
              "      box-shadow: 0px 1px 3px 1px rgba(0, 0, 0, 0.15);\n",
              "      filter: drop-shadow(0px 1px 2px rgba(0, 0, 0, 0.3));\n",
              "      fill: #FFFFFF;\n",
              "    }\n",
              "  </style>\n",
              "\n",
              "      <script>\n",
              "        const buttonEl =\n",
              "          document.querySelector('#df-cf1e3b77-1cf3-4520-aab5-9164d5cfcb2e button.colab-df-convert');\n",
              "        buttonEl.style.display =\n",
              "          google.colab.kernel.accessAllowed ? 'block' : 'none';\n",
              "\n",
              "        async function convertToInteractive(key) {\n",
              "          const element = document.querySelector('#df-cf1e3b77-1cf3-4520-aab5-9164d5cfcb2e');\n",
              "          const dataTable =\n",
              "            await google.colab.kernel.invokeFunction('convertToInteractive',\n",
              "                                                     [key], {});\n",
              "          if (!dataTable) return;\n",
              "\n",
              "          const docLinkHtml = 'Like what you see? Visit the ' +\n",
              "            '<a target=\"_blank\" href=https://colab.research.google.com/notebooks/data_table.ipynb>data table notebook</a>'\n",
              "            + ' to learn more about interactive tables.';\n",
              "          element.innerHTML = '';\n",
              "          dataTable['output_type'] = 'display_data';\n",
              "          await google.colab.output.renderOutput(dataTable, element);\n",
              "          const docLink = document.createElement('div');\n",
              "          docLink.innerHTML = docLinkHtml;\n",
              "          element.appendChild(docLink);\n",
              "        }\n",
              "      </script>\n",
              "    </div>\n",
              "  </div>\n",
              "  "
            ]
          },
          "metadata": {},
          "execution_count": 6
        }
      ]
    },
    {
      "cell_type": "markdown",
      "source": [
        "Olhando o resumo estatístico acima, podemos confirmar algumas hipóteses como:\n",
        "\n",
        "A variável `price` possui 75% do valor abaixo de 237, porém seu valor máximo é 10000.\n",
        "A quantidade mínima de noites (`minimum_nights`) está acima de 365 dias no ano."
      ],
      "metadata": {
        "id": "HieRRqdM3j_2"
      }
    },
    {
      "cell_type": "markdown",
      "source": [
        "A variação interquartil (IQR) tem como função identificar matematicamente os outliers, para calcular ele iremos usar o Q3 que seria o 75% do nosso describe, e diminuir do Q1 que seria os 25% chegando no resultado do IQR. Com o IQR iremos definir os limites inferiores e superiores de cada variável e será removido os outliers, de acordo com um corte determinado, assim conseguimos um melhor tratamento para os dados.\n",
        "\n",
        "#### Definindo limites para minimum_nights\n"
      ],
      "metadata": {
        "id": "gB_UfNeastFr"
      }
    },
    {
      "cell_type": "code",
      "source": [
        "# identificando os outliers para a variável minimum_nights\n",
        "q1_minimum_nights = df.minimum_nights.quantile(.25)\n",
        "q3_minimum_nights = df.minimum_nights.quantile(.75)\n",
        "IQR_minimum_nights = q3_minimum_nights - q1_minimum_nights\n",
        "print('IQR da variável minimum_nights: ', IQR_minimum_nights)\n",
        "\n",
        "# definindo os limites\n",
        "sup_minimum_nights = q3_minimum_nights + 1.5 * IQR_minimum_nights\n",
        "inf_minimum_nights = q1_minimum_nights - 1.5 * IQR_minimum_nights\n",
        "\n",
        "print('Limite superior de minimum_nigths: ', sup_minimum_nights)\n",
        "print('Limite inferior de minimum_nigths: ', inf_minimum_nights)"
      ],
      "metadata": {
        "colab": {
          "base_uri": "https://localhost:8080/"
        },
        "id": "7l6eLXbwsyNF",
        "outputId": "0849a14a-8d09-4ec2-c262-8dd801b9da6d"
      },
      "execution_count": null,
      "outputs": [
        {
          "output_type": "stream",
          "name": "stdout",
          "text": [
            "IQR da variável minimum_nights:  30.0\n",
            "Limite superior de minimum_nigths:  77.0\n",
            "Limite inferior de minimum_nigths:  -43.0\n"
          ]
        }
      ]
    },
    {
      "cell_type": "markdown",
      "source": [
        "#### Boxplot para minimum_nights\n",
        "Verificamos que no cálculo do IQR, na coluna `minimum_nights`, não podemos efetuar o corte com mínimo de noites em 30 dias, pois seria perdido 2329 entradas que corresponde a 31,41% do total da base, sabendo disso iremos realizar o corte em 32 dias, acima disso estão somente 166 entradas que correspondem a 2,24% do total."
      ],
      "metadata": {
        "id": "WLysESn1vlfA"
      }
    },
    {
      "cell_type": "code",
      "source": [
        "# minimum_nights\n",
        "df.minimum_nights.plot(kind='box', vert=False, figsize=(15, 3))\n",
        "plt.show()\n",
        "\n",
        "#ver quantidade de valores acima de 32 dias para minimum_nights\n",
        "print(\"minimum_nights: valores acima de 32:\")\n",
        "print(\"{} entradas\".format(len(df[df.minimum_nights > 32])))\n",
        "print(\"{:.4f}%\".format((len(df[df.minimum_nights > 32]) / df.shape[0]*100)))"
      ],
      "metadata": {
        "colab": {
          "base_uri": "https://localhost:8080/",
          "height": 263
        },
        "id": "MDmI2g16vrXS",
        "outputId": "d9f3fe6e-3ad1-469a-e9e7-f50bb355f563"
      },
      "execution_count": null,
      "outputs": [
        {
          "output_type": "display_data",
          "data": {
            "text/plain": [
              "<Figure size 1080x216 with 1 Axes>"
            ],
            "image/png": "[encoded data removed]"
          },
          "metadata": {
            "needs_background": "light"
          }
        },
        {
          "output_type": "stream",
          "name": "stdout",
          "text": [
            "minimum_nights: valores acima de 32:\n",
            "166 entradas\n",
            "2.2390%\n"
          ]
        }
      ]
    },
    {
      "cell_type": "markdown",
      "source": [
        "Definindo limites para Price"
      ],
      "metadata": {
        "id": "TVhd4lvGzk0s"
      }
    },
    {
      "cell_type": "code",
      "source": [
        "# identificando os outliers para a variável price\n",
        "q1_price = df.price.quantile(.25)\n",
        "q3_price = df.price.quantile(.75)\n",
        "IQR_price = q3_price - q1_price\n",
        "print('IQR da variável price: ', IQR_price)\n",
        "\n",
        "# definindo os limites \n",
        "sup_price = q3_price + 1.5 * IQR_price\n",
        "inf_price = q1_price - 1.5 * IQR_price\n",
        "\n",
        "print('Limite superior de price: ', sup_price)\n",
        "print('Limite inferior de price: ', inf_price)"
      ],
      "metadata": {
        "colab": {
          "base_uri": "https://localhost:8080/"
        },
        "id": "blFEuEVozo1U",
        "outputId": "7619a043-f0a2-40af-ae16-f397a3eef314"
      },
      "execution_count": null,
      "outputs": [
        {
          "output_type": "stream",
          "name": "stdout",
          "text": [
            "IQR da variável price:  144.0\n",
            "Limite superior de price:  453.0\n",
            "Limite inferior de price:  -123.0\n"
          ]
        }
      ]
    },
    {
      "cell_type": "markdown",
      "source": [
        "Boxplot para price\n",
        "\n",
        "Na variável preço, limitamos a diária até o valor de 453 doláres, verificou-se que apenas 7,85% das 7414 entradas possuem diárias acima desse valor."
      ],
      "metadata": {
        "id": "GEIcS2BOvwB_"
      }
    },
    {
      "cell_type": "code",
      "source": [
        "# price\n",
        "df.price.plot(kind='box', vert=False, figsize=(15, 3),)\n",
        "plt.show()\n",
        "\n",
        "# ver quantidade de valores acima de 453 para price\n",
        "print(\"O dataset possui {} colunas\".format(df.shape[0]))\n",
        "print(\"\\nprice: valores acima de 453.0\")\n",
        "print(\"{} entradas\".format(len(df[df.price >453.0])))\n",
        "print(\"{:.4f}%\".format((len(df[df.price > 453.0]) / df.shape[0]) *100))\n",
        "\n",
        "\n",
        "\n",
        "# df.price.plot(kind='box', vert=False, xlim=(0,1300), figsize=(15,3));"
      ],
      "metadata": {
        "colab": {
          "base_uri": "https://localhost:8080/",
          "height": 298
        },
        "id": "qoFBcSaTv0h9",
        "outputId": "4528dbfe-9248-4ab4-fe7e-50782fb8d719"
      },
      "execution_count": null,
      "outputs": [
        {
          "output_type": "display_data",
          "data": {
            "text/plain": [
              "<Figure size 1080x216 with 1 Axes>"
            ],
            "image/png": "[encoded data removed]"
          },
          "metadata": {
            "needs_background": "light"
          }
        },
        {
          "output_type": "stream",
          "name": "stdout",
          "text": [
            "O dataset possui 7414 colunas\n",
            "\n",
            "price: valores acima de 453.0\n",
            "582 entradas\n",
            "7.8500%\n"
          ]
        }
      ]
    },
    {
      "cell_type": "markdown",
      "source": [
        "#### Histogramas sem *outliers*\n",
        "Já que identificamos *outliers* nas variáveis `price` e `minimum_nights`, vamos agora limpar o *DataFrame* delas e plotar novamente o histograma.\n",
        "Com esse filtro realizado conseguimos ter uma análise mais próxima da realidade, pois a maioria dos imóveis se concentram nessas faixas selecionadas. Nessa limpeza eliminamos as entradas com `price` zeradas, e limitamos o preço em 453,00 doláres e 32 dias o minímo de diárias. "
      ],
      "metadata": {
        "id": "wzarnjUhv6Y4"
      }
    },
    {
      "cell_type": "code",
      "source": [
        "# remover os *outliers* em novo DataFrame\n",
        "df_clean = df.copy()\n",
        "df_clean.drop(df_clean[df_clean.price > 453].index, axis=0, inplace=True)\n",
        "df_clean.drop(df_clean[df_clean.price == 0.0].index, axis=0, inplace=True)\n",
        "df_clean.drop(df_clean[df_clean.minimum_nights > 32].index, axis=0, inplace=True)\n",
        "\n",
        "# plotar o histograma para as variáveis numéricas\n",
        "df_clean.hist(bins=15, figsize=(15,10));"
      ],
      "metadata": {
        "colab": {
          "base_uri": "https://localhost:8080/",
          "height": 607
        },
        "id": "y1BdOvLQv9Mc",
        "outputId": "d3d8878a-122f-4277-d15d-2aea5fb1e2f6"
      },
      "execution_count": null,
      "outputs": [
        {
          "output_type": "display_data",
          "data": {
            "text/plain": [
              "<Figure size 1080x720 with 12 Axes>"
            ],
            "image/png": "[encoded data removed]"
          },
          "metadata": {
            "needs_background": "light"
          }
        }
      ]
    },
    {
      "cell_type": "markdown",
      "source": [
        "Os gráficos ficaram mais uniformes e mais alinhados com o objetivo da análise, abaixo estão descitas as entradas de acordo com os cortes realizados."
      ],
      "metadata": {
        "id": "F07-06zbGn9S"
      }
    },
    {
      "cell_type": "code",
      "source": [
        "# verificando a distribuição estatística dos dados limpos\n",
        "df_clean.describe()"
      ],
      "metadata": {
        "colab": {
          "base_uri": "https://localhost:8080/",
          "height": 364
        },
        "id": "UqSA1QOi-rpJ",
        "outputId": "1cb48b25-463c-4d72-b704-9f3dcbb4bee1"
      },
      "execution_count": null,
      "outputs": [
        {
          "output_type": "execute_result",
          "data": {
            "text/plain": [
              "                 id       host_id  neighbourhood_group     latitude  \\\n",
              "count  6.669000e+03  6.669000e+03                  0.0  6669.000000   \n",
              "mean   1.570976e+17  1.493300e+08                  NaN    41.895282   \n",
              "std    2.753086e+17  1.420452e+08                  NaN     0.065191   \n",
              "min    2.384000e+03  2.153000e+03                  NaN    41.630450   \n",
              "25%    2.758458e+07  3.043362e+07                  NaN    41.865120   \n",
              "50%    4.539969e+07  1.074344e+08                  NaN    41.898620   \n",
              "75%    5.433059e+07  2.421561e+08                  NaN    41.939680   \n",
              "max    7.149119e+17  4.791517e+08                  NaN    42.037660   \n",
              "\n",
              "         longitude        price  minimum_nights  number_of_reviews  \\\n",
              "count  6669.000000  6669.000000     6669.000000        6669.000000   \n",
              "mean    -87.667721   160.366022       11.980207          49.360774   \n",
              "std       0.050398    95.434899       14.033764          85.578195   \n",
              "min     -87.950370    18.000000        1.000000           0.000000   \n",
              "25%     -87.691550    90.000000        2.000000           2.000000   \n",
              "50%     -87.661190   140.000000        2.000000          16.000000   \n",
              "75%     -87.633330   205.000000       32.000000          60.000000   \n",
              "max     -87.507940   453.000000       32.000000        2600.000000   \n",
              "\n",
              "       reviews_per_month  calculated_host_listings_count  availability_365  \\\n",
              "count        5592.000000                     6669.000000       6669.000000   \n",
              "mean            2.049054                       47.958165        197.208427   \n",
              "std             1.979540                      139.742431        132.657925   \n",
              "min             0.010000                        1.000000          0.000000   \n",
              "25%             0.590000                        1.000000         71.000000   \n",
              "50%             1.660000                        3.000000        209.000000   \n",
              "75%             3.010000                       11.000000        332.000000   \n",
              "max            55.710000                      525.000000        365.000000   \n",
              "\n",
              "       number_of_reviews_ltm  \n",
              "count            6669.000000  \n",
              "mean               15.038237  \n",
              "std                26.462918  \n",
              "min                 0.000000  \n",
              "25%                 0.000000  \n",
              "50%                 6.000000  \n",
              "75%                23.000000  \n",
              "max              1284.000000  "
            ],
            "text/html": [
              "\n",
              "  <div id=\"df-5f4b1df5-86dc-4c73-957c-d4140aecc9a5\">\n",
              "    <div class=\"colab-df-container\">\n",
              "      <div>\n",
              "<style scoped>\n",
              "    .dataframe tbody tr th:only-of-type {\n",
              "        vertical-align: middle;\n",
              "    }\n",
              "\n",
              "    .dataframe tbody tr th {\n",
              "        vertical-align: top;\n",
              "    }\n",
              "\n",
              "    .dataframe thead th {\n",
              "        text-align: right;\n",
              "    }\n",
              "</style>\n",
              "<table border=\"1\" class=\"dataframe\">\n",
              "  <thead>\n",
              "    <tr style=\"text-align: right;\">\n",
              "      <th></th>\n",
              "      <th>id</th>\n",
              "      <th>host_id</th>\n",
              "      <th>neighbourhood_group</th>\n",
              "      <th>latitude</th>\n",
              "      <th>longitude</th>\n",
              "      <th>price</th>\n",
              "      <th>minimum_nights</th>\n",
              "      <th>number_of_reviews</th>\n",
              "      <th>reviews_per_month</th>\n",
              "      <th>calculated_host_listings_count</th>\n",
              "      <th>availability_365</th>\n",
              "      <th>number_of_reviews_ltm</th>\n",
              "    </tr>\n",
              "  </thead>\n",
              "  <tbody>\n",
              "    <tr>\n",
              "      <th>count</th>\n",
              "      <td>6.669000e+03</td>\n",
              "      <td>6.669000e+03</td>\n",
              "      <td>0.0</td>\n",
              "      <td>6669.000000</td>\n",
              "      <td>6669.000000</td>\n",
              "      <td>6669.000000</td>\n",
              "      <td>6669.000000</td>\n",
              "      <td>6669.000000</td>\n",
              "      <td>5592.000000</td>\n",
              "      <td>6669.000000</td>\n",
              "      <td>6669.000000</td>\n",
              "      <td>6669.000000</td>\n",
              "    </tr>\n",
              "    <tr>\n",
              "      <th>mean</th>\n",
              "      <td>1.570976e+17</td>\n",
              "      <td>1.493300e+08</td>\n",
              "      <td>NaN</td>\n",
              "      <td>41.895282</td>\n",
              "      <td>-87.667721</td>\n",
              "      <td>160.366022</td>\n",
              "      <td>11.980207</td>\n",
              "      <td>49.360774</td>\n",
              "      <td>2.049054</td>\n",
              "      <td>47.958165</td>\n",
              "      <td>197.208427</td>\n",
              "      <td>15.038237</td>\n",
              "    </tr>\n",
              "    <tr>\n",
              "      <th>std</th>\n",
              "      <td>2.753086e+17</td>\n",
              "      <td>1.420452e+08</td>\n",
              "      <td>NaN</td>\n",
              "      <td>0.065191</td>\n",
              "      <td>0.050398</td>\n",
              "      <td>95.434899</td>\n",
              "      <td>14.033764</td>\n",
              "      <td>85.578195</td>\n",
              "      <td>1.979540</td>\n",
              "      <td>139.742431</td>\n",
              "      <td>132.657925</td>\n",
              "      <td>26.462918</td>\n",
              "    </tr>\n",
              "    <tr>\n",
              "      <th>min</th>\n",
              "      <td>2.384000e+03</td>\n",
              "      <td>2.153000e+03</td>\n",
              "      <td>NaN</td>\n",
              "      <td>41.630450</td>\n",
              "      <td>-87.950370</td>\n",
              "      <td>18.000000</td>\n",
              "      <td>1.000000</td>\n",
              "      <td>0.000000</td>\n",
              "      <td>0.010000</td>\n",
              "      <td>1.000000</td>\n",
              "      <td>0.000000</td>\n",
              "      <td>0.000000</td>\n",
              "    </tr>\n",
              "    <tr>\n",
              "      <th>25%</th>\n",
              "      <td>2.758458e+07</td>\n",
              "      <td>3.043362e+07</td>\n",
              "      <td>NaN</td>\n",
              "      <td>41.865120</td>\n",
              "      <td>-87.691550</td>\n",
              "      <td>90.000000</td>\n",
              "      <td>2.000000</td>\n",
              "      <td>2.000000</td>\n",
              "      <td>0.590000</td>\n",
              "      <td>1.000000</td>\n",
              "      <td>71.000000</td>\n",
              "      <td>0.000000</td>\n",
              "    </tr>\n",
              "    <tr>\n",
              "      <th>50%</th>\n",
              "      <td>4.539969e+07</td>\n",
              "      <td>1.074344e+08</td>\n",
              "      <td>NaN</td>\n",
              "      <td>41.898620</td>\n",
              "      <td>-87.661190</td>\n",
              "      <td>140.000000</td>\n",
              "      <td>2.000000</td>\n",
              "      <td>16.000000</td>\n",
              "      <td>1.660000</td>\n",
              "      <td>3.000000</td>\n",
              "      <td>209.000000</td>\n",
              "      <td>6.000000</td>\n",
              "    </tr>\n",
              "    <tr>\n",
              "      <th>75%</th>\n",
              "      <td>5.433059e+07</td>\n",
              "      <td>2.421561e+08</td>\n",
              "      <td>NaN</td>\n",
              "      <td>41.939680</td>\n",
              "      <td>-87.633330</td>\n",
              "      <td>205.000000</td>\n",
              "      <td>32.000000</td>\n",
              "      <td>60.000000</td>\n",
              "      <td>3.010000</td>\n",
              "      <td>11.000000</td>\n",
              "      <td>332.000000</td>\n",
              "      <td>23.000000</td>\n",
              "    </tr>\n",
              "    <tr>\n",
              "      <th>max</th>\n",
              "      <td>7.149119e+17</td>\n",
              "      <td>4.791517e+08</td>\n",
              "      <td>NaN</td>\n",
              "      <td>42.037660</td>\n",
              "      <td>-87.507940</td>\n",
              "      <td>453.000000</td>\n",
              "      <td>32.000000</td>\n",
              "      <td>2600.000000</td>\n",
              "      <td>55.710000</td>\n",
              "      <td>525.000000</td>\n",
              "      <td>365.000000</td>\n",
              "      <td>1284.000000</td>\n",
              "    </tr>\n",
              "  </tbody>\n",
              "</table>\n",
              "</div>\n",
              "      <button class=\"colab-df-convert\" onclick=\"convertToInteractive('df-5f4b1df5-86dc-4c73-957c-d4140aecc9a5')\"\n",
              "              title=\"Convert this dataframe to an interactive table.\"\n",
              "              style=\"display:none;\">\n",
              "        \n",
              "  <svg xmlns=\"http://www.w3.org/2000/svg\" height=\"24px\"viewBox=\"0 0 24 24\"\n",
              "       width=\"24px\">\n",
              "    <path d=\"M0 0h24v24H0V0z\" fill=\"none\"/>\n",
              "    <path d=\"M18.56 5.44l.94 2.06.94-2.06 2.06-.94-2.06-.94-.94-2.06-.94 2.06-2.06.94zm-11 1L8.5 8.5l.94-2.06 2.06-.94-2.06-.94L8.5 2.5l-.94 2.06-2.06.94zm10 10l.94 2.06.94-2.06 2.06-.94-2.06-.94-.94-2.06-.94 2.06-2.06.94z\"/><path d=\"M17.41 7.96l-1.37-1.37c-.4-.4-.92-.59-1.43-.59-.52 0-1.04.2-1.43.59L10.3 9.45l-7.72 7.72c-.78.78-.78 2.05 0 2.83L4 21.41c.39.39.9.59 1.41.59.51 0 1.02-.2 1.41-.59l7.78-7.78 2.81-2.81c.8-.78.8-2.07 0-2.86zM5.41 20L4 18.59l7.72-7.72 1.47 1.35L5.41 20z\"/>\n",
              "  </svg>\n",
              "      </button>\n",
              "      \n",
              "  <style>\n",
              "    .colab-df-container {\n",
              "      display:flex;\n",
              "      flex-wrap:wrap;\n",
              "      gap: 12px;\n",
              "    }\n",
              "\n",
              "    .colab-df-convert {\n",
              "      background-color: #E8F0FE;\n",
              "      border: none;\n",
              "      border-radius: 50%;\n",
              "      cursor: pointer;\n",
              "      display: none;\n",
              "      fill: #1967D2;\n",
              "      height: 32px;\n",
              "      padding: 0 0 0 0;\n",
              "      width: 32px;\n",
              "    }\n",
              "\n",
              "    .colab-df-convert:hover {\n",
              "      background-color: #E2EBFA;\n",
              "      box-shadow: 0px 1px 2px rgba(60, 64, 67, 0.3), 0px 1px 3px 1px rgba(60, 64, 67, 0.15);\n",
              "      fill: #174EA6;\n",
              "    }\n",
              "\n",
              "    [theme=dark] .colab-df-convert {\n",
              "      background-color: #3B4455;\n",
              "      fill: #D2E3FC;\n",
              "    }\n",
              "\n",
              "    [theme=dark] .colab-df-convert:hover {\n",
              "      background-color: #434B5C;\n",
              "      box-shadow: 0px 1px 3px 1px rgba(0, 0, 0, 0.15);\n",
              "      filter: drop-shadow(0px 1px 2px rgba(0, 0, 0, 0.3));\n",
              "      fill: #FFFFFF;\n",
              "    }\n",
              "  </style>\n",
              "\n",
              "      <script>\n",
              "        const buttonEl =\n",
              "          document.querySelector('#df-5f4b1df5-86dc-4c73-957c-d4140aecc9a5 button.colab-df-convert');\n",
              "        buttonEl.style.display =\n",
              "          google.colab.kernel.accessAllowed ? 'block' : 'none';\n",
              "\n",
              "        async function convertToInteractive(key) {\n",
              "          const element = document.querySelector('#df-5f4b1df5-86dc-4c73-957c-d4140aecc9a5');\n",
              "          const dataTable =\n",
              "            await google.colab.kernel.invokeFunction('convertToInteractive',\n",
              "                                                     [key], {});\n",
              "          if (!dataTable) return;\n",
              "\n",
              "          const docLinkHtml = 'Like what you see? Visit the ' +\n",
              "            '<a target=\"_blank\" href=https://colab.research.google.com/notebooks/data_table.ipynb>data table notebook</a>'\n",
              "            + ' to learn more about interactive tables.';\n",
              "          element.innerHTML = '';\n",
              "          dataTable['output_type'] = 'display_data';\n",
              "          await google.colab.output.renderOutput(dataTable, element);\n",
              "          const docLink = document.createElement('div');\n",
              "          docLink.innerHTML = docLinkHtml;\n",
              "          element.appendChild(docLink);\n",
              "        }\n",
              "      </script>\n",
              "    </div>\n",
              "  </div>\n",
              "  "
            ]
          },
          "metadata": {},
          "execution_count": 12
        }
      ]
    },
    {
      "cell_type": "markdown",
      "source": [
        "### **Q5. Qual a média dos preços de aluguel?**\n",
        "\n",
        "<p align=\"left\"><img src=\"https://images.unsplash.com/photo-1480074568708-e7b720bb3f09?ixlib=rb-4.0.3&ixid=MnwxMjA3fDB8MHxzZWFyY2h8MTZ8fEhPVVNFfGVufDB8fDB8fA%3D%3D&auto=format&fit=crop&w=500&q=60\n",
        "\"></p>\n",
        "A média das diárias ficaram em US$ 160,37."
      ],
      "metadata": {
        "id": "igpFQmrewFR0"
      }
    },
    {
      "cell_type": "code",
      "source": [
        "# ver a média da coluna `price``\n",
        "df_clean['price'].mean()"
      ],
      "metadata": {
        "colab": {
          "base_uri": "https://localhost:8080/"
        },
        "id": "7OcTVHf5xDfo",
        "outputId": "3146702c-f8cf-45cb-fbe8-6f5766dc1eb3"
      },
      "execution_count": null,
      "outputs": [
        {
          "output_type": "execute_result",
          "data": {
            "text/plain": [
              "160.36602189233767"
            ]
          },
          "metadata": {},
          "execution_count": 29
        }
      ]
    },
    {
      "cell_type": "markdown",
      "metadata": {
        "id": "IXn2oIo5qx-w"
      },
      "source": [
        "### **Q6. Qual a correlação existente entre as variáveis**\n",
        "Correlação significa que existe uma relação entre duas coisas. No nosso contexto, estamos buscando relação ou semelhança entre duas variáveis.\n",
        "\n",
        "Essa relação pode ser medida, e é função do coeficiente de correlação estabelecer qual a intensidade dela. Para identificar as correlações existentes entre as variáveis de interesse, vou:\n",
        "\n",
        "Criar uma matriz de correlação\n",
        "Gerar um heatmap a partir dessa matriz, usando a biblioteca seaborn."
      ]
    },
    {
      "cell_type": "code",
      "metadata": {
        "id": "x2ayzBajqxyd",
        "colab": {
          "base_uri": "https://localhost:8080/",
          "height": 238
        },
        "outputId": "b0c0e875-8864-42e4-e70d-821a04b0df9d"
      },
      "source": [
        "# criar uma matriz de correlação\n",
        "corr = df_clean[['price', 'minimum_nights', 'number_of_reviews', 'reviews_per_month',\n",
        "                 'calculated_host_listings_count', 'availability_365']].corr()\n",
        "# mostrar a matriz de correlação\n",
        "display(corr)"
      ],
      "execution_count": null,
      "outputs": [
        {
          "output_type": "display_data",
          "data": {
            "text/plain": [
              "                                   price  minimum_nights  number_of_reviews  \\\n",
              "price                           1.000000       -0.080346          -0.055810   \n",
              "minimum_nights                 -0.080346        1.000000          -0.251900   \n",
              "number_of_reviews              -0.055810       -0.251900           1.000000   \n",
              "reviews_per_month               0.065901       -0.374881           0.596256   \n",
              "calculated_host_listings_count  0.068551        0.420817          -0.175064   \n",
              "availability_365                0.049057        0.043228          -0.041504   \n",
              "\n",
              "                                reviews_per_month  \\\n",
              "price                                    0.065901   \n",
              "minimum_nights                          -0.374881   \n",
              "number_of_reviews                        0.596256   \n",
              "reviews_per_month                        1.000000   \n",
              "calculated_host_listings_count          -0.154736   \n",
              "availability_365                         0.073391   \n",
              "\n",
              "                                calculated_host_listings_count  \\\n",
              "price                                                 0.068551   \n",
              "minimum_nights                                        0.420817   \n",
              "number_of_reviews                                    -0.175064   \n",
              "reviews_per_month                                    -0.154736   \n",
              "calculated_host_listings_count                        1.000000   \n",
              "availability_365                                      0.185609   \n",
              "\n",
              "                                availability_365  \n",
              "price                                   0.049057  \n",
              "minimum_nights                          0.043228  \n",
              "number_of_reviews                      -0.041504  \n",
              "reviews_per_month                       0.073391  \n",
              "calculated_host_listings_count          0.185609  \n",
              "availability_365                        1.000000  "
            ],
            "text/html": [
              "\n",
              "  <div id=\"df-b44457b2-4bc6-4807-aadd-4cb4420285ce\">\n",
              "    <div class=\"colab-df-container\">\n",
              "      <div>\n",
              "<style scoped>\n",
              "    .dataframe tbody tr th:only-of-type {\n",
              "        vertical-align: middle;\n",
              "    }\n",
              "\n",
              "    .dataframe tbody tr th {\n",
              "        vertical-align: top;\n",
              "    }\n",
              "\n",
              "    .dataframe thead th {\n",
              "        text-align: right;\n",
              "    }\n",
              "</style>\n",
              "<table border=\"1\" class=\"dataframe\">\n",
              "  <thead>\n",
              "    <tr style=\"text-align: right;\">\n",
              "      <th></th>\n",
              "      <th>price</th>\n",
              "      <th>minimum_nights</th>\n",
              "      <th>number_of_reviews</th>\n",
              "      <th>reviews_per_month</th>\n",
              "      <th>calculated_host_listings_count</th>\n",
              "      <th>availability_365</th>\n",
              "    </tr>\n",
              "  </thead>\n",
              "  <tbody>\n",
              "    <tr>\n",
              "      <th>price</th>\n",
              "      <td>1.000000</td>\n",
              "      <td>-0.080346</td>\n",
              "      <td>-0.055810</td>\n",
              "      <td>0.065901</td>\n",
              "      <td>0.068551</td>\n",
              "      <td>0.049057</td>\n",
              "    </tr>\n",
              "    <tr>\n",
              "      <th>minimum_nights</th>\n",
              "      <td>-0.080346</td>\n",
              "      <td>1.000000</td>\n",
              "      <td>-0.251900</td>\n",
              "      <td>-0.374881</td>\n",
              "      <td>0.420817</td>\n",
              "      <td>0.043228</td>\n",
              "    </tr>\n",
              "    <tr>\n",
              "      <th>number_of_reviews</th>\n",
              "      <td>-0.055810</td>\n",
              "      <td>-0.251900</td>\n",
              "      <td>1.000000</td>\n",
              "      <td>0.596256</td>\n",
              "      <td>-0.175064</td>\n",
              "      <td>-0.041504</td>\n",
              "    </tr>\n",
              "    <tr>\n",
              "      <th>reviews_per_month</th>\n",
              "      <td>0.065901</td>\n",
              "      <td>-0.374881</td>\n",
              "      <td>0.596256</td>\n",
              "      <td>1.000000</td>\n",
              "      <td>-0.154736</td>\n",
              "      <td>0.073391</td>\n",
              "    </tr>\n",
              "    <tr>\n",
              "      <th>calculated_host_listings_count</th>\n",
              "      <td>0.068551</td>\n",
              "      <td>0.420817</td>\n",
              "      <td>-0.175064</td>\n",
              "      <td>-0.154736</td>\n",
              "      <td>1.000000</td>\n",
              "      <td>0.185609</td>\n",
              "    </tr>\n",
              "    <tr>\n",
              "      <th>availability_365</th>\n",
              "      <td>0.049057</td>\n",
              "      <td>0.043228</td>\n",
              "      <td>-0.041504</td>\n",
              "      <td>0.073391</td>\n",
              "      <td>0.185609</td>\n",
              "      <td>1.000000</td>\n",
              "    </tr>\n",
              "  </tbody>\n",
              "</table>\n",
              "</div>\n",
              "      <button class=\"colab-df-convert\" onclick=\"convertToInteractive('df-b44457b2-4bc6-4807-aadd-4cb4420285ce')\"\n",
              "              title=\"Convert this dataframe to an interactive table.\"\n",
              "              style=\"display:none;\">\n",
              "        \n",
              "  <svg xmlns=\"http://www.w3.org/2000/svg\" height=\"24px\"viewBox=\"0 0 24 24\"\n",
              "       width=\"24px\">\n",
              "    <path d=\"M0 0h24v24H0V0z\" fill=\"none\"/>\n",
              "    <path d=\"M18.56 5.44l.94 2.06.94-2.06 2.06-.94-2.06-.94-.94-2.06-.94 2.06-2.06.94zm-11 1L8.5 8.5l.94-2.06 2.06-.94-2.06-.94L8.5 2.5l-.94 2.06-2.06.94zm10 10l.94 2.06.94-2.06 2.06-.94-2.06-.94-.94-2.06-.94 2.06-2.06.94z\"/><path d=\"M17.41 7.96l-1.37-1.37c-.4-.4-.92-.59-1.43-.59-.52 0-1.04.2-1.43.59L10.3 9.45l-7.72 7.72c-.78.78-.78 2.05 0 2.83L4 21.41c.39.39.9.59 1.41.59.51 0 1.02-.2 1.41-.59l7.78-7.78 2.81-2.81c.8-.78.8-2.07 0-2.86zM5.41 20L4 18.59l7.72-7.72 1.47 1.35L5.41 20z\"/>\n",
              "  </svg>\n",
              "      </button>\n",
              "      \n",
              "  <style>\n",
              "    .colab-df-container {\n",
              "      display:flex;\n",
              "      flex-wrap:wrap;\n",
              "      gap: 12px;\n",
              "    }\n",
              "\n",
              "    .colab-df-convert {\n",
              "      background-color: #E8F0FE;\n",
              "      border: none;\n",
              "      border-radius: 50%;\n",
              "      cursor: pointer;\n",
              "      display: none;\n",
              "      fill: #1967D2;\n",
              "      height: 32px;\n",
              "      padding: 0 0 0 0;\n",
              "      width: 32px;\n",
              "    }\n",
              "\n",
              "    .colab-df-convert:hover {\n",
              "      background-color: #E2EBFA;\n",
              "      box-shadow: 0px 1px 2px rgba(60, 64, 67, 0.3), 0px 1px 3px 1px rgba(60, 64, 67, 0.15);\n",
              "      fill: #174EA6;\n",
              "    }\n",
              "\n",
              "    [theme=dark] .colab-df-convert {\n",
              "      background-color: #3B4455;\n",
              "      fill: #D2E3FC;\n",
              "    }\n",
              "\n",
              "    [theme=dark] .colab-df-convert:hover {\n",
              "      background-color: #434B5C;\n",
              "      box-shadow: 0px 1px 3px 1px rgba(0, 0, 0, 0.15);\n",
              "      filter: drop-shadow(0px 1px 2px rgba(0, 0, 0, 0.3));\n",
              "      fill: #FFFFFF;\n",
              "    }\n",
              "  </style>\n",
              "\n",
              "      <script>\n",
              "        const buttonEl =\n",
              "          document.querySelector('#df-b44457b2-4bc6-4807-aadd-4cb4420285ce button.colab-df-convert');\n",
              "        buttonEl.style.display =\n",
              "          google.colab.kernel.accessAllowed ? 'block' : 'none';\n",
              "\n",
              "        async function convertToInteractive(key) {\n",
              "          const element = document.querySelector('#df-b44457b2-4bc6-4807-aadd-4cb4420285ce');\n",
              "          const dataTable =\n",
              "            await google.colab.kernel.invokeFunction('convertToInteractive',\n",
              "                                                     [key], {});\n",
              "          if (!dataTable) return;\n",
              "\n",
              "          const docLinkHtml = 'Like what you see? Visit the ' +\n",
              "            '<a target=\"_blank\" href=https://colab.research.google.com/notebooks/data_table.ipynb>data table notebook</a>'\n",
              "            + ' to learn more about interactive tables.';\n",
              "          element.innerHTML = '';\n",
              "          dataTable['output_type'] = 'display_data';\n",
              "          await google.colab.output.renderOutput(dataTable, element);\n",
              "          const docLink = document.createElement('div');\n",
              "          docLink.innerHTML = docLinkHtml;\n",
              "          element.appendChild(docLink);\n",
              "        }\n",
              "      </script>\n",
              "    </div>\n",
              "  </div>\n",
              "  "
            ]
          },
          "metadata": {}
        }
      ]
    },
    {
      "cell_type": "code",
      "metadata": {
        "id": "91UujDr6ueqE",
        "colab": {
          "base_uri": "https://localhost:8080/",
          "height": 411
        },
        "outputId": "7fdd53f9-19f8-4366-e3d5-55fbd4dad00f"
      },
      "source": [
        "# plotar um heatmap a partir das correlações\n",
        "sns.heatmap(corr, cmap='RdBu', fmt='.2f', square=True, linecolor='white', annot=True);"
      ],
      "execution_count": null,
      "outputs": [
        {
          "output_type": "display_data",
          "data": {
            "text/plain": [
              "<Figure size 432x288 with 2 Axes>"
            ],
            "image/png": "[encoded data removed]"
          },
          "metadata": {
            "needs_background": "light"
          }
        }
      ]
    },
    {
      "cell_type": "markdown",
      "metadata": {
        "id": "7b6RMWpuHKN-"
      },
      "source": [
        "### **Q7. Qual o tipo de imóvel mais alugado no Airbnb?**\n",
        "A coluna `room_type` indica qual categoria de locação está anunciada na plataforma. No site ou aplicativo, existem opções de apartamentos/casas inteiras, aluguel de um quarto privado com casa compartilhada ou até mesmo dividir o mesmo quarto com outras pessoas.\n",
        "Vamos contar a quantidade de ocorrências de cada tipo de aluguel, usando o método value_counts()."
      ]
    },
    {
      "cell_type": "code",
      "metadata": {
        "id": "ueLPNWvPHgfB",
        "colab": {
          "base_uri": "https://localhost:8080/"
        },
        "outputId": "dbad7352-d3f2-4843-9970-884038544688"
      },
      "source": [
        "# mostrar a quantidade de cada tipo de imóvel disponível\n",
        "df_clean.room_type.value_counts()\n"
      ],
      "execution_count": null,
      "outputs": [
        {
          "output_type": "execute_result",
          "data": {
            "text/plain": [
              "Entire home/apt    4992\n",
              "Private room       1543\n",
              "Shared room          87\n",
              "Hotel room           47\n",
              "Name: room_type, dtype: int64"
            ]
          },
          "metadata": {},
          "execution_count": 32
        }
      ]
    },
    {
      "cell_type": "markdown",
      "source": [
        "O tipo de imóvel mais alugado são casa ou apartamento inteiro, correspondem a 74,85% do total, nessa modalidade você possui a disposição o imóvel todo para utilização como cozinha e sala de estar, ideal para grandes grupos e para quem procura privacidade, já que você não vai contar com a presença do proprietário do imóvel.\n",
        "\n",
        "Em seguida vem a opção quarto inteiro, onde você tem um quarto  privativo, na maioria das vezes com acesso as dependências da casa, entretanto são de uso compartilhado com outros hóspedes ou com próprio anfitrião, representam 23,14% do total reservado.\n",
        "\n",
        "Na terceira posição com 1,30% estão os quartos compartilhados, onde é  dividido o quarto com outras pessoas, e por último os clássicos hotéis que  representam 0,70% das locações analisadas.\n"
      ],
      "metadata": {
        "id": "w0p7MF2DFJ_a"
      }
    },
    {
      "cell_type": "code",
      "metadata": {
        "id": "EvwoO-XAHhIm",
        "colab": {
          "base_uri": "https://localhost:8080/"
        },
        "outputId": "0b766189-3920-40da-b701-70db5f2bcd0d"
      },
      "source": [
        "# mostrar a porcentagem de cada tipo de imóvel disponível\n",
        "df_clean.room_type.value_counts() / df_clean.shape[0]\n"
      ],
      "execution_count": null,
      "outputs": [
        {
          "output_type": "execute_result",
          "data": {
            "text/plain": [
              "Entire home/apt    0.748538\n",
              "Private room       0.231369\n",
              "Shared room        0.013045\n",
              "Hotel room         0.007048\n",
              "Name: room_type, dtype: float64"
            ]
          },
          "metadata": {},
          "execution_count": 33
        }
      ]
    },
    {
      "cell_type": "markdown",
      "source": [
        "\n",
        "\n",
        "---\n",
        "\n"
      ],
      "metadata": {
        "id": "AVHJkajdEtGl"
      }
    },
    {
      "cell_type": "markdown",
      "metadata": {
        "id": "MFa5NbnLJMcd"
      },
      "source": [
        "### **Q8. Qual a localidade mais cara de Chicago?**\n",
        "\n",
        "<p align=\"center\"><img src=\"https://images.unsplash.com/photo-1596250410216-1ac77dc208e3?ixlib=rb-4.0.3&ixid=MnwxMjA3fDB8MHxzZWFyY2h8OHx8Y2hpY2Fnb3xlbnwwfHwwfHw%3D&auto=format&fit=crop&w=500&q=60\n",
        "\"></p>\n",
        "\n",
        "Cada viajante possui um objetivo especifico na sua viagem, uns vão para desbravar a cidade, optando por ficar em lugares mais baratos, já outros prezam mais pelo conforto, ou estão em busca por uma experiência de ficar em um local exclusivo com uma bela vista da cidade. Acima temos uma linda imagem da região de Loop, que fica na parte central da cidade, na tabela abaixo estão as localidades mais caras da cidade:\n",
        "\n"
      ]
    },
    {
      "cell_type": "code",
      "metadata": {
        "id": "MD_xa143JZpi",
        "colab": {
          "base_uri": "https://localhost:8080/"
        },
        "outputId": "9e7f231b-baa6-48f2-a4e4-dc82048f58de"
      },
      "source": [
        "# ver preços por bairros, na média\n",
        "df_clean.groupby(['neighbourhood']).price.mean().sort_values(ascending=False)[:12]"
      ],
      "execution_count": null,
      "outputs": [
        {
          "output_type": "execute_result",
          "data": {
            "text/plain": [
              "neighbourhood\n",
              "Near South Side       264.176056\n",
              "Clearing              241.875000\n",
              "Loop                  224.770440\n",
              "Lincoln Park          210.012448\n",
              "Near North Side       202.423135\n",
              "Burnside              200.000000\n",
              "North Center          188.394495\n",
              "Oakland               182.444444\n",
              "Lake View             177.938069\n",
              "Washington Heights    172.750000\n",
              "Near West Side        170.069136\n",
              "West Town             167.232290\n",
              "Name: price, dtype: float64"
            ]
          },
          "metadata": {},
          "execution_count": 13
        }
      ]
    },
    {
      "cell_type": "markdown",
      "source": [
        "Chicago está dividida em 77 áreas comunitárias para fins estáticos e de planejamento. Near South Side é a região com os maiores valores, onde ficam algumas das estruturas mais famosas da cidade, como estádio e o Museum Campum que é o principal centro de convenções de Chicago, que abriga um museu, um aquário e um planetário.\n",
        "\n",
        "Clearing, que é a segunda área com valores mais caros, tem como característica de ser uma região residencial, com grandes casas, analisando no detalhe, foi verificado que possuem apenas 8 imóveis para locação, a maioria no formato de casas unifamiliares, que são casas para hospedar grandes famílias ou grupos, por serem imóveis maiores, em menores quantidades, acaba subindo a média de preços em comparação com as outras localidades.\n",
        "\n",
        "Na sequência as regiões de Loop, Lincoln Park e Near North Side, são as próximas áreas mais caras para se hospedar em Chicago, são nelas que ficam localizados os principais pontos turísticos da cidades, como parques, bares, restaurantes, entre outros.\n",
        "\n",
        "<p align=\"center\"><img src=\"https://images.unsplash.com/photo-1592251895646-a1d4a1afbe49?ixlib=rb-4.0.3&ixid=MnwxMjA3fDB8MHxzZWFyY2h8MjR8fGNoaWNhZ298ZW58MHx8MHx8&auto=format&fit=crop&w=500&q=60\n",
        "\"></p>\n",
        "\n",
        "Na 12ª posição, com média da diária no valor de 167,23 dólares é a região de West Town, a que escolhemos para passar quatro dias, mas se você pesquisar bem conseguirá encontrar valores menores nessa região, ficamos hospedados na modalidade de um quarto inteiro para duas pessoas com banheiro privativo, e pagamos uma diária de aproximadamente 86,00 dólares. Na região existe estações de metro bem próximas que facilita o deslocamento para outras áreas, além do bairro ter uma estrutura completa como restaurantes, bares e mercados.\n"
      ],
      "metadata": {
        "id": "U9RY3TrM19EE"
      }
    },
    {
      "cell_type": "code",
      "source": [
        "# ver quantidade de imóveis no Clearing\n",
        "print(df_clean[df_clean.neighbourhood == \"Clearing\"].shape)\n",
        "\n",
        "# ver as 3 entradas do Clearing\n",
        "df_clean[df_clean.neighbourhood == \"Clearing\"]"
      ],
      "metadata": {
        "colab": {
          "base_uri": "https://localhost:8080/",
          "height": 625
        },
        "id": "zT7F__KOjQD8",
        "outputId": "3dfa5a5b-5a7a-4580-feef-3aff7189c02a"
      },
      "execution_count": null,
      "outputs": [
        {
          "output_type": "stream",
          "name": "stdout",
          "text": [
            "(8, 17)\n"
          ]
        },
        {
          "output_type": "execute_result",
          "data": {
            "text/plain": [
              "                      id                                               name  \\\n",
              "3049            41643452                                    3 Bedroom House   \n",
              "3807            48096009  ✈️ 🌏 Midway Airport 2 Bedroom w/ full kitchen 🌏✈️   \n",
              "6158  643615922994248988   ✈️ 🌎Midway Airport 2 Bedroom w/ full Kitchen🌎 ✈️   \n",
              "6745  692075993209327711       Charming Private Room #2 in Chrysler Chicago   \n",
              "6926  705257233553075028  4 Bedroom comfortable Home w/Gaming & Technology!   \n",
              "6929  705319052520875351                Comfortable Rental on - 64th Street   \n",
              "6941  705858558343241323      7 beds (5 Bedroom) Home w/Garage, & GameRoom!   \n",
              "7139            43779145    Close to Midway,HWYS,DNTWN. Entire floor, patio   \n",
              "\n",
              "        host_id                 host_name neighbourhood   latitude  longitude  \\\n",
              "3049  198521417                     Pawel      Clearing  41.779090 -87.771930   \n",
              "3807  235678953                  Patricia      Clearing  41.781730 -87.740350   \n",
              "6158  235678953                  Patricia      Clearing  41.781940 -87.740260   \n",
              "6745  468880306                    Wanxiu      Clearing  41.775363 -87.750060   \n",
              "6926  136825532  FreeStand Home Solutions      Clearing  41.780720 -87.780930   \n",
              "6929  476956265                    Leslie      Clearing  41.775798 -87.772701   \n",
              "6941  136825532  FreeStand Home Solutions      Clearing  41.776034 -87.773779   \n",
              "7139  113128950                     Zyggi      Clearing  41.780140 -87.805690   \n",
              "\n",
              "            room_type  price  minimum_nights  number_of_reviews last_review  \\\n",
              "3049  Entire home/apt     89              32                  0         NaN   \n",
              "3807  Entire home/apt    216              32                 12  2022-04-23   \n",
              "6158  Entire home/apt    244               1                  2  2022-08-01   \n",
              "6745      Shared room     31              32                  3  2022-09-12   \n",
              "6926  Entire home/apt    399               2                  0         NaN   \n",
              "6929  Entire home/apt    399               2                  0         NaN   \n",
              "6941  Entire home/apt    399               2                  0         NaN   \n",
              "7139  Entire home/apt    158               4                 19  2022-09-05   \n",
              "\n",
              "      reviews_per_month  calculated_host_listings_count  availability_365  \\\n",
              "3049                NaN                               1                 0   \n",
              "3807               0.65                              11               176   \n",
              "6158               1.20                              11               251   \n",
              "6745               3.00                               1               351   \n",
              "6926                NaN                              28                90   \n",
              "6929                NaN                              19               103   \n",
              "6941                NaN                              28                90   \n",
              "7139               2.13                               1               172   \n",
              "\n",
              "      number_of_reviews_ltm                    license  \n",
              "3049                      0  City registration pending  \n",
              "3807                     10               R21000061423  \n",
              "6158                      2               R22000077481  \n",
              "6745                      3               R12345678901  \n",
              "6926                      0               R19000048100  \n",
              "6929                      0               R19000048100  \n",
              "6941                      0               R19000038100  \n",
              "7139                     19                        NaN  "
            ],
            "text/html": [
              "\n",
              "  <div id=\"df-0aecc512-3ab9-46ed-aa59-44b25f839f71\">\n",
              "    <div class=\"colab-df-container\">\n",
              "      <div>\n",
              "<style scoped>\n",
              "    .dataframe tbody tr th:only-of-type {\n",
              "        vertical-align: middle;\n",
              "    }\n",
              "\n",
              "    .dataframe tbody tr th {\n",
              "        vertical-align: top;\n",
              "    }\n",
              "\n",
              "    .dataframe thead th {\n",
              "        text-align: right;\n",
              "    }\n",
              "</style>\n",
              "<table border=\"1\" class=\"dataframe\">\n",
              "  <thead>\n",
              "    <tr style=\"text-align: right;\">\n",
              "      <th></th>\n",
              "      <th>id</th>\n",
              "      <th>name</th>\n",
              "      <th>host_id</th>\n",
              "      <th>host_name</th>\n",
              "      <th>neighbourhood</th>\n",
              "      <th>latitude</th>\n",
              "      <th>longitude</th>\n",
              "      <th>room_type</th>\n",
              "      <th>price</th>\n",
              "      <th>minimum_nights</th>\n",
              "      <th>number_of_reviews</th>\n",
              "      <th>last_review</th>\n",
              "      <th>reviews_per_month</th>\n",
              "      <th>calculated_host_listings_count</th>\n",
              "      <th>availability_365</th>\n",
              "      <th>number_of_reviews_ltm</th>\n",
              "      <th>license</th>\n",
              "    </tr>\n",
              "  </thead>\n",
              "  <tbody>\n",
              "    <tr>\n",
              "      <th>3049</th>\n",
              "      <td>41643452</td>\n",
              "      <td>3 Bedroom House</td>\n",
              "      <td>198521417</td>\n",
              "      <td>Pawel</td>\n",
              "      <td>Clearing</td>\n",
              "      <td>41.779090</td>\n",
              "      <td>-87.771930</td>\n",
              "      <td>Entire home/apt</td>\n",
              "      <td>89</td>\n",
              "      <td>32</td>\n",
              "      <td>0</td>\n",
              "      <td>NaN</td>\n",
              "      <td>NaN</td>\n",
              "      <td>1</td>\n",
              "      <td>0</td>\n",
              "      <td>0</td>\n",
              "      <td>City registration pending</td>\n",
              "    </tr>\n",
              "    <tr>\n",
              "      <th>3807</th>\n",
              "      <td>48096009</td>\n",
              "      <td>✈️ 🌏 Midway Airport 2 Bedroom w/ full kitchen 🌏✈️</td>\n",
              "      <td>235678953</td>\n",
              "      <td>Patricia</td>\n",
              "      <td>Clearing</td>\n",
              "      <td>41.781730</td>\n",
              "      <td>-87.740350</td>\n",
              "      <td>Entire home/apt</td>\n",
              "      <td>216</td>\n",
              "      <td>32</td>\n",
              "      <td>12</td>\n",
              "      <td>2022-04-23</td>\n",
              "      <td>0.65</td>\n",
              "      <td>11</td>\n",
              "      <td>176</td>\n",
              "      <td>10</td>\n",
              "      <td>R21000061423</td>\n",
              "    </tr>\n",
              "    <tr>\n",
              "      <th>6158</th>\n",
              "      <td>643615922994248988</td>\n",
              "      <td>✈️ 🌎Midway Airport 2 Bedroom w/ full Kitchen🌎 ✈️</td>\n",
              "      <td>235678953</td>\n",
              "      <td>Patricia</td>\n",
              "      <td>Clearing</td>\n",
              "      <td>41.781940</td>\n",
              "      <td>-87.740260</td>\n",
              "      <td>Entire home/apt</td>\n",
              "      <td>244</td>\n",
              "      <td>1</td>\n",
              "      <td>2</td>\n",
              "      <td>2022-08-01</td>\n",
              "      <td>1.20</td>\n",
              "      <td>11</td>\n",
              "      <td>251</td>\n",
              "      <td>2</td>\n",
              "      <td>R22000077481</td>\n",
              "    </tr>\n",
              "    <tr>\n",
              "      <th>6745</th>\n",
              "      <td>692075993209327711</td>\n",
              "      <td>Charming Private Room #2 in Chrysler Chicago</td>\n",
              "      <td>468880306</td>\n",
              "      <td>Wanxiu</td>\n",
              "      <td>Clearing</td>\n",
              "      <td>41.775363</td>\n",
              "      <td>-87.750060</td>\n",
              "      <td>Shared room</td>\n",
              "      <td>31</td>\n",
              "      <td>32</td>\n",
              "      <td>3</td>\n",
              "      <td>2022-09-12</td>\n",
              "      <td>3.00</td>\n",
              "      <td>1</td>\n",
              "      <td>351</td>\n",
              "      <td>3</td>\n",
              "      <td>R12345678901</td>\n",
              "    </tr>\n",
              "    <tr>\n",
              "      <th>6926</th>\n",
              "      <td>705257233553075028</td>\n",
              "      <td>4 Bedroom comfortable Home w/Gaming &amp; Technology!</td>\n",
              "      <td>136825532</td>\n",
              "      <td>FreeStand Home Solutions</td>\n",
              "      <td>Clearing</td>\n",
              "      <td>41.780720</td>\n",
              "      <td>-87.780930</td>\n",
              "      <td>Entire home/apt</td>\n",
              "      <td>399</td>\n",
              "      <td>2</td>\n",
              "      <td>0</td>\n",
              "      <td>NaN</td>\n",
              "      <td>NaN</td>\n",
              "      <td>28</td>\n",
              "      <td>90</td>\n",
              "      <td>0</td>\n",
              "      <td>R19000048100</td>\n",
              "    </tr>\n",
              "    <tr>\n",
              "      <th>6929</th>\n",
              "      <td>705319052520875351</td>\n",
              "      <td>Comfortable Rental on - 64th Street</td>\n",
              "      <td>476956265</td>\n",
              "      <td>Leslie</td>\n",
              "      <td>Clearing</td>\n",
              "      <td>41.775798</td>\n",
              "      <td>-87.772701</td>\n",
              "      <td>Entire home/apt</td>\n",
              "      <td>399</td>\n",
              "      <td>2</td>\n",
              "      <td>0</td>\n",
              "      <td>NaN</td>\n",
              "      <td>NaN</td>\n",
              "      <td>19</td>\n",
              "      <td>103</td>\n",
              "      <td>0</td>\n",
              "      <td>R19000048100</td>\n",
              "    </tr>\n",
              "    <tr>\n",
              "      <th>6941</th>\n",
              "      <td>705858558343241323</td>\n",
              "      <td>7 beds (5 Bedroom) Home w/Garage, &amp; GameRoom!</td>\n",
              "      <td>136825532</td>\n",
              "      <td>FreeStand Home Solutions</td>\n",
              "      <td>Clearing</td>\n",
              "      <td>41.776034</td>\n",
              "      <td>-87.773779</td>\n",
              "      <td>Entire home/apt</td>\n",
              "      <td>399</td>\n",
              "      <td>2</td>\n",
              "      <td>0</td>\n",
              "      <td>NaN</td>\n",
              "      <td>NaN</td>\n",
              "      <td>28</td>\n",
              "      <td>90</td>\n",
              "      <td>0</td>\n",
              "      <td>R19000038100</td>\n",
              "    </tr>\n",
              "    <tr>\n",
              "      <th>7139</th>\n",
              "      <td>43779145</td>\n",
              "      <td>Close to Midway,HWYS,DNTWN. Entire floor, patio</td>\n",
              "      <td>113128950</td>\n",
              "      <td>Zyggi</td>\n",
              "      <td>Clearing</td>\n",
              "      <td>41.780140</td>\n",
              "      <td>-87.805690</td>\n",
              "      <td>Entire home/apt</td>\n",
              "      <td>158</td>\n",
              "      <td>4</td>\n",
              "      <td>19</td>\n",
              "      <td>2022-09-05</td>\n",
              "      <td>2.13</td>\n",
              "      <td>1</td>\n",
              "      <td>172</td>\n",
              "      <td>19</td>\n",
              "      <td>NaN</td>\n",
              "    </tr>\n",
              "  </tbody>\n",
              "</table>\n",
              "</div>\n",
              "      <button class=\"colab-df-convert\" onclick=\"convertToInteractive('df-0aecc512-3ab9-46ed-aa59-44b25f839f71')\"\n",
              "              title=\"Convert this dataframe to an interactive table.\"\n",
              "              style=\"display:none;\">\n",
              "        \n",
              "  <svg xmlns=\"http://www.w3.org/2000/svg\" height=\"24px\"viewBox=\"0 0 24 24\"\n",
              "       width=\"24px\">\n",
              "    <path d=\"M0 0h24v24H0V0z\" fill=\"none\"/>\n",
              "    <path d=\"M18.56 5.44l.94 2.06.94-2.06 2.06-.94-2.06-.94-.94-2.06-.94 2.06-2.06.94zm-11 1L8.5 8.5l.94-2.06 2.06-.94-2.06-.94L8.5 2.5l-.94 2.06-2.06.94zm10 10l.94 2.06.94-2.06 2.06-.94-2.06-.94-.94-2.06-.94 2.06-2.06.94z\"/><path d=\"M17.41 7.96l-1.37-1.37c-.4-.4-.92-.59-1.43-.59-.52 0-1.04.2-1.43.59L10.3 9.45l-7.72 7.72c-.78.78-.78 2.05 0 2.83L4 21.41c.39.39.9.59 1.41.59.51 0 1.02-.2 1.41-.59l7.78-7.78 2.81-2.81c.8-.78.8-2.07 0-2.86zM5.41 20L4 18.59l7.72-7.72 1.47 1.35L5.41 20z\"/>\n",
              "  </svg>\n",
              "      </button>\n",
              "      \n",
              "  <style>\n",
              "    .colab-df-container {\n",
              "      display:flex;\n",
              "      flex-wrap:wrap;\n",
              "      gap: 12px;\n",
              "    }\n",
              "\n",
              "    .colab-df-convert {\n",
              "      background-color: #E8F0FE;\n",
              "      border: none;\n",
              "      border-radius: 50%;\n",
              "      cursor: pointer;\n",
              "      display: none;\n",
              "      fill: #1967D2;\n",
              "      height: 32px;\n",
              "      padding: 0 0 0 0;\n",
              "      width: 32px;\n",
              "    }\n",
              "\n",
              "    .colab-df-convert:hover {\n",
              "      background-color: #E2EBFA;\n",
              "      box-shadow: 0px 1px 2px rgba(60, 64, 67, 0.3), 0px 1px 3px 1px rgba(60, 64, 67, 0.15);\n",
              "      fill: #174EA6;\n",
              "    }\n",
              "\n",
              "    [theme=dark] .colab-df-convert {\n",
              "      background-color: #3B4455;\n",
              "      fill: #D2E3FC;\n",
              "    }\n",
              "\n",
              "    [theme=dark] .colab-df-convert:hover {\n",
              "      background-color: #434B5C;\n",
              "      box-shadow: 0px 1px 3px 1px rgba(0, 0, 0, 0.15);\n",
              "      filter: drop-shadow(0px 1px 2px rgba(0, 0, 0, 0.3));\n",
              "      fill: #FFFFFF;\n",
              "    }\n",
              "  </style>\n",
              "\n",
              "      <script>\n",
              "        const buttonEl =\n",
              "          document.querySelector('#df-0aecc512-3ab9-46ed-aa59-44b25f839f71 button.colab-df-convert');\n",
              "        buttonEl.style.display =\n",
              "          google.colab.kernel.accessAllowed ? 'block' : 'none';\n",
              "\n",
              "        async function convertToInteractive(key) {\n",
              "          const element = document.querySelector('#df-0aecc512-3ab9-46ed-aa59-44b25f839f71');\n",
              "          const dataTable =\n",
              "            await google.colab.kernel.invokeFunction('convertToInteractive',\n",
              "                                                     [key], {});\n",
              "          if (!dataTable) return;\n",
              "\n",
              "          const docLinkHtml = 'Like what you see? Visit the ' +\n",
              "            '<a target=\"_blank\" href=https://colab.research.google.com/notebooks/data_table.ipynb>data table notebook</a>'\n",
              "            + ' to learn more about interactive tables.';\n",
              "          element.innerHTML = '';\n",
              "          dataTable['output_type'] = 'display_data';\n",
              "          await google.colab.output.renderOutput(dataTable, element);\n",
              "          const docLink = document.createElement('div');\n",
              "          docLink.innerHTML = docLinkHtml;\n",
              "          element.appendChild(docLink);\n",
              "        }\n",
              "      </script>\n",
              "    </div>\n",
              "  </div>\n",
              "  "
            ]
          },
          "metadata": {},
          "execution_count": 40
        }
      ]
    },
    {
      "cell_type": "markdown",
      "source": [
        "Como são fornecidas as Latitudes e Longitudes para os imóveis, é possível plotar cada ponto. Para isso, considera-se `x=longitude` e `y=latitude`."
      ],
      "metadata": {
        "id": "C8f84aas25zy"
      }
    },
    {
      "cell_type": "code",
      "metadata": {
        "id": "UxVJqJ_3W59I",
        "colab": {
          "base_uri": "https://localhost:8080/",
          "height": 470
        },
        "outputId": "b2d33b1a-2cd3-4cad-98a3-c1d98d78b710"
      },
      "source": [
        "# plotar os imóveis pela latitude-longitude\n",
        "df_clean.plot(kind=\"scatter\", x='longitude', y='latitude', alpha=0.4, c=df_clean['price'], s=8,\n",
        "              cmap=plt.get_cmap('jet'), figsize=(12,8));"
      ],
      "execution_count": null,
      "outputs": [
        {
          "output_type": "display_data",
          "data": {
            "text/plain": [
              "<Figure size 864x576 with 2 Axes>"
            ],
            "image/png": "[encoded data removed]"
          },
          "metadata": {
            "needs_background": "light"
          }
        }
      ]
    },
    {
      "cell_type": "markdown",
      "metadata": {
        "id": "vTneAMRUYvr1"
      },
      "source": [
        "### **Q9. Qual é a média do mínimo de noites para aluguel (minimum_nights)?**\n",
        "Abaixo podemos verificar a média do minimo de noites exigidas para estadia, de acordo com a análise do resumo estátisco, foi constatado que até 50% das hospedagens exigem um mínimo de 2 noites, outro fato curioso é que 25% delas exigem uma permanência mínima de 32 dias, o que a acaba subindo a média geral para 12 dias."
      ]
    },
    {
      "cell_type": "code",
      "metadata": {
        "id": "_VzNhrEgY82N",
        "colab": {
          "base_uri": "https://localhost:8080/"
        },
        "outputId": "f6e41d00-54e6-4324-950f-54389da630c4"
      },
      "source": [
        "# ver a média da coluna `minimum_nights``\n",
        "print(\"{:.0f}\".format(df_clean.minimum_nights.mean()))"
      ],
      "execution_count": null,
      "outputs": [
        {
          "output_type": "stream",
          "name": "stdout",
          "text": [
            "12\n"
          ]
        }
      ]
    },
    {
      "cell_type": "markdown",
      "metadata": {
        "id": "GkvAg623RjoR"
      },
      "source": [
        "## Conclusões\n"
      ]
    },
    {
      "cell_type": "markdown",
      "metadata": {
        "id": "rbZ3Hsy9Ypw8"
      },
      "source": [
        "<p align=\"center\"><img src=\"https://images.unsplash.com/photo-1599492968050-f0eb8a2b3caa?ixlib=rb-4.0.3&ixid=MnwxMjA3fDB8MHxzZWFyY2h8Mjh8fGNoaWNhZ298ZW58MHx8MHx8&auto=format&fit=crop&w=500&q=60\n",
        "\"></p>\n",
        "\n",
        "\n",
        "Podemos concluir que Chicago possui uma grande quantidade de imóveis disponíveis para locação, sendo eles adaptados para todos os bolsos, apesar de ser umas das cidades com custo de vida mais caro dos Estados Unidos. \n",
        "\n",
        "Na análise dos dados foi possível notar que os outliers, tem uma influência grande na análise já que temos algumas regiões com poucos imóveis disponíveis que podem distorcer as informações estatísticas de alguns atributos. Ficou exposto também que é preferível usar menos dados de maior qualidade, do que mais dados de menor qualidades, ressaltando a importância de utilizar dados limpos.\n",
        "\n",
        "A análise foi importante também para que o viajante consiga identificar o melhor lugar para se hospedar de acordo com suas necessidades, tendo uma ideia de preços por região, com esses resultados já possível ir se organizando financeiramente com a hospedagem, caso tenha interesse em visitar a cidades.\n",
        "\n",
        "Quando for a Chicago e não for verão, lembre-se de levar um casaco quente, pois Chicago é conhecida como a cidade dos ventos, não deixe de fazer o passeio de barco no Rio Michigan, é uma experiência incrível e com muita história. \n"
      ]
    }
  ]
}
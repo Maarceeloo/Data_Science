{
  "nbformat": 4,
  "nbformat_minor": 0,
  "metadata": {
    "colab": {
      "provenance": [],
      "collapsed_sections": [
        "-eFQZydM9O9J",
        "pV1zDBbjmJnN"
      ],
      "include_colab_link": true
    },
    "kernelspec": {
      "name": "python3",
      "display_name": "Python 3"
    }
  },
  "cells": [
    {
      "cell_type": "markdown",
      "metadata": {
        "id": "view-in-github",
        "colab_type": "text"
      },
      "source": [
        "<a href=\"https://colab.research.google.com/github/Maarceeloo/Data_Science/blob/main/Panorama_of_COVID_19_in_the_World_and_in_Brazil.ipynb\" target=\"_parent\"><img src=\"https://colab.research.google.com/assets/colab-badge.svg\" alt=\"Open In Colab\"/></a>"
      ]
    },
    {
      "cell_type": "markdown",
      "metadata": {
        "id": "-eFQZydM9O9J"
      },
      "source": [
        "<img alt=\"Colaboratory logo\" width=\"15%\" src=\"https://raw.githubusercontent.com/carlosfab/escola-data-science/master/img/novo_logo_bg_claro.png\">\n",
        "\n",
        "#### **Data Science na Prática 3.0**\n",
        "*by [sigmoidal.ai](https://sigmoidal.ai)*  \n",
        "\n",
        "---\n",
        "  "
      ]
    },
    {
      "cell_type": "markdown",
      "metadata": {
        "id": "kLI0gJtzDGuQ"
      },
      "source": [
        "# Panorama of COVID-19 in the World and in Brazil\n",
        "\n",
        "The coronavirus is a virus that belongs to the family of viruses that cause respiratory infections and has been known since the 1960s. They usually cause milder infections, but SARS-CoV has a greater impact on humans, which can lead to more serious conditions. .\n",
        "\n",
        "It is transmitted through droplets expelled, when someone infected sneezes, coughs or exhales, which can cause the disease - Covid-19. Anyone who is close and breathing, for example, can be contaminated, as well as if the person touches a contaminated surface and then touches the face. Symptoms are usually fever, dry cough and tiredness. In most cases, it is possible to recover without specific treatments.\n",
        "\n",
        "<center><img alt=\"Colaboratory logo\" width=\"50%\" src=\"https://img.freepik.com/fotos-gratis/medico-usando-equipamento-de-protecao_23-2148847212.jpg?size=626&ext=jpg&ga=GA1.2.559654321.1669672138&semt=sph\"></center>\n",
        "\n",
        "The epidemic started in the city of Wuhan, China, in December 2019, but quickly spread to the world. The main theories raised included contact between a human being and an infected animal and an accident in a laboratory in China.\n",
        "\n",
        "At the end of March, the WHO released a 120-page report, developed by scientists from China and other parts of the world, which reinforced the natural origin of the epidemic. The most accepted thesis says that the virus passed from the bat to an intermediate mammal, and from there to the human being. Transmission from a bat directly to a human was also pointed out as a possible and probable hypothesis.\n",
        "\n",
        "The report also stated that the transmission of the virus to humans through food products is possible, but a remote hypothesis. The possibility that the virus accidentally escaped from the Wuhan Institute of Virology was classified as \"extremely unlikely\". According to the WHO director-general, however, the report was a start on the path of accurately determining the origin of the virus, not an end.\n",
        "\n",
        "Depending on what is discovered in new studies that are already underway, it may be possible to prevent the emergence of new pandemics.\n",
        "\n",
        "Fontes: \n",
        "https://blog.sabin.com.br/covid-19/como-surgiu-o-coronavirus/\n",
        "\n",
        "https://butantan.gov.br/covid/butantan-tira-duvida/tira-duvida-noticias/como-surgiu-o-novo-coronavirus-conheca-as-teorias-mais-aceitas-sobre-sua-origem"
      ]
    },
    {
      "cell_type": "markdown",
      "metadata": {
        "id": "0zxQHhIUDF_2"
      },
      "source": [
        "## Obtaining Data\n",
        "\n",
        "The data used was obtained from the repository on covid-19, from [OWID](https://github.com/owid/covid-19-data/tree/master/public/data) (Our World in Data ),* they monitor and update the data globally.\n",
        "\n",
        "The dataset used for the analysis will be a file. `csv`\n",
        "\n",
        "* `owid-covid-data.csv` - Data on COVID-19 (coronavirus) by Our World in Data\n",
        "\n",
        "In this COVID-19 dataset, data on confirmed cases, deaths, hospitalizations, tests, vaccines, among others, will be presented.\n",
        "\n",
        "There are several difficulties encountered in compiling all this data, since it is necessary to receive information from the responsible health agencies, with each country and even states having a different rule for disclosure, however with this initiative by World in Data, they have a fundamental role for a better monitoring of the disease.\n",
        "\n",
        "A worldwide comparison will be presented in this project, with the countries that had the highest number of confirmed cases of COVID-19 and registered deaths. Individual indicators for Brazil will also be analyzed.\n",
        "\n"
      ]
    },
    {
      "cell_type": "markdown",
      "source": [
        "### Dictionary of Variables\n",
        "\n",
        "* `iso_code` - ISO 3166-1 alpha-3 – Three letter country code. Note that regions defined by OWID (eg continents like 'Europe') contain the prefix 'OWID_'. (three-letter country codes. Note that OWID-defined regions (e.g. continents like 'Europe') contain prefix 'OWID_'.)\n",
        "\n",
        "* `continent` - Continente (Continent of the geographical location).\n",
        "\n",
        "* `location` - Geographic location. Location 'International' considers special regions (\"Diamond Princess\" and \"MS Zaandam\" cruises)\n",
        "\n",
        "* `date` - Date of observation.\n",
        "* `total_cases` - Total confirmed cases of COVID-19. Counts may include probable cases when reported. (Total confirmed cases of COVID-19. Counts can include probable cases, where reported)\n",
        "* `new_cases` - New confirmed cases of COVID-19. Counts may include probable cases when reported. In rare cases where our source reports negative daily change due to a data correction, we set this metric to NA. (New confirmed cases of COVID-19. Counts can include probable cases, where reported. In rare cases where our source reports a negative daily change due to a data correction, we set this metric to NA)\n",
        "* `new_cases_smoothed` - New confirmed cases of COVID-19 (7-day smoothing). Counts may include probable cases when reported. (New confirmed cases of COVID-19 (7-day smoothed). Counts can include probable cases, where reported)\n",
        "* `total_deaths` - Total deaths attributed to COVID-19. Counts may include probable deaths, when reported. (Total deaths attributed to COVID-19. Counts can include probable deaths, where reported)\n",
        "* `new_deaths` - New deaths attributed to COVID-19. Counts may include probable deaths, when reported. In rare cases where our source reports negative daily change due to a data correction, we set this metric to NA. (New deaths attributed to COVID-19. Counts can include probable deaths, where reported. In rare cases where our source reports a negative daily change due to a data correction, we set this metric to NA)\n",
        "* `new_deaths_smoothed` - New deaths attributed to COVID-19 (7-day smoothing). Counts may include probable deaths, when reported. (New deaths attributed to COVID-19 (7-day smoothed). Counts can include probable deaths, where reported)\n",
        "* `total_cases_per_million` - Total confirmed cases of COVID-19 per 1,000,000 people. Counts may include probable cases when reported. (Total confirmed cases of COVID-19 per 1,000,000 people. Counts can include probable cases, where reported)\n",
        "* `new_cases_per_million` - New confirmed cases of COVID-19 per 1,000,000 people. Counts may include probable cases when reported. (New confirmed cases of COVID-19 per 1,000,000 people. Counts can include probable cases, where reported)\n",
        "* `new_cases_smoothed_per_million` - New confirmed cases of COVID-19 (7-day smoothing) per 1,000,000 people. Counts may include probable cases when reported. (New confirmed cases of COVID-19 (7-day smoothed) per 1,000,000 people. Counts can include probable cases, where reported)\n",
        "* `total_deaths_per_million` - Total deaths attributed to COVID-19 per 1,000,000 people. Counts may include probable deaths, when reported. (Total deaths attributed to COVID-19 per 1,000,000 people. Counts can include probable deaths, where reported)\n",
        "* `new_deaths_per_million` - New deaths attributed to COVID-19 per 1,000,000 people. Counts may include probable deaths, when reported. (New deaths attributed to COVID-19 per 1,000,000 people. Counts can include probable deaths, where reported)\n",
        "* `new_deaths_smoothed_per_million` - New deaths attributed to COVID-19 (7-day smoothing) per 1,000,000 people. Counts may include probable deaths, when reported. (New deaths attributed to COVID-19 (7-day smoothed) per 1,000,000 people. Counts can include probable deaths, where reported)\n",
        "* `reproduction_rate` - Real-time estimate of the effective reproduction rate (R) of COVID-19. See https://github.com/crondonm/TrackingR/tree/main/Estimates-Database (Real-time estimate of the effective reproduction rate (R) of COVID-19. See https://github.com/crondonm/TrackingR /tree/main/Estimates-Database)\n",
        "* `icu_patients` - Number of COVID-19 patients in intensive care units (ICUs) on a given day. (Number of COVID-19 patients in intensive care units (ICUs) on a given day)\n",
        "* `icu_patients_per_million` - Number of COVID-19 patients in intensive care units (ICUs) on a given day per 1,000,000 people. (Number of COVID-19 patients in intensive care units (ICUs) on a given day per 1,000,000 people)\n",
        "* `hosp_patients` - Number of patients with COVID-19 admitted on a given day. (Number of COVID-19 patients in hospital on a given day)\n",
        "* `hosp_patients_per_million` - Number of COVID-19 patients hospitalized on a given day per 1,000,000 people. (Number of COVID-19 patients in hospital on a given day per 1,000,000 people)\n",
        "* `weekly_icu_admissions` - Number of newly admitted COVID-19 patients to intensive care units (ICUs) in a given week (report date and the previous 6 days). (Number of COVID-19 patients newly admitted to intensive care units (ICUs) in a given week (reporting date and the preceding 6 days))\n",
        "* `weekly_icu_admissions_per_million` - Number of newly admitted COVID-19 patients to intensive care units (ICUs) in a given week per 1,000,000 people (report date and the previous 6 days). (Number of COVID-19 patients newly admitted to intensive care units (ICUs) in a given week per 1,000,000 people (reporting date and the preceding 6 days))\n",
        "* `weekly_hosp_admissions` - Number of newly admitted COVID-19 patients to hospitals in a given week (report date and the previous 6 days). (Number of COVID-19 patients newly admitted to hospitals in a given week (reporting date and the preceeding 6 days))\n",
        "* `weekly_hosp_admissions_per_million` - Number of newly admitted COVID-19 patients to hospitals in a given week per 1,000,000 people (report date and the previous 6 days). (Number of COVID-19 patients newly admitted to hospitals in a given week per 1,000,000 people (reporting date and the preceding 6 days))\n",
        "* `total_tests` - Total COVID-19 tests performed. (Total tests for COVID-19)\n",
        "* `new_tests` - New tests for COVID-19 (calculated for consecutive days only). (New tests for COVID-19 (only calculated for consecutive days))\n",
        "* `total_tests_per_thousand` - Total tests for COVID-19 per 1,000 people. (Total tests for COVID-19 per 1,000 people)\n",
        "* `new_tests_per_thousand` - New tests for COVID-19 per 1,000 people. (New tests for COVID-19 per 1,000 people)\n",
        "* `new_tests_smoothed` - New tests for COVID-19 (7 days smoothed). For countries that do not report daily testing data, we assume that testing changed equally daily in all periods when no data was reported. This produces a complete series of daily numbers, which are averaged over a rolling 7-day window. (New tests for COVID-19 (7-day smoothed). For countries that don't report testing data on a daily basis, we assume that testing changed equally on a daily basis over any periods in which no data was reported. This produces a complete series of daily figures, which is then averaged over a rolling 7-day window)\n",
        "* `new_tests_smoothed_per_thousand` - New tests for COVID-19 (7 days smoothed) per 1000 people. (New tests for COVID-19 (7-day smoothed) per 1,000 people)\n",
        "* `positive_rate` - The share of positive tests for COVID-19, given as a rolling 7-day average (this is the inverse of tests_per_case). (The share of COVID-19 tests that are positive, given as a rolling 7-day average (this is the inverse of tests_per_case))\n",
        "* `tests_per_case` - Tests performed per new confirmed COVID-19 case, given as a 7-day rolling average (this is the inverse of Positive_rate). (Tests conducted per new confirmed case of COVID-19, given as a rolling 7-day average (this is the inverse of positive_rate))\n",
        "* `tests_units` - Units used by the site to report its test data. A country file cannot contain mixed units. All metrics related to test data use the specified test unit. Valid units are 'persons tested' (number of people tested), 'tests performed' (number of tests performed. a single person may be tested more than once on a given day), and 'samples tested' (number of samples tested .In some cases, more than one sample may be required to perform a given test.). (Units used by the location to report its testing data. A country file can't contain mixed units. All metrics concerning testing data use the specified test unit. Valid units are 'people tested' (number of people tested), 'tests performed ' (number of tests performed. a single person can be tested more than once in a given day) and 'samples tested' (number of samples tested. In some cases, more than one sample may be required to perform a given test.) )\n",
        "* `total_vaccinations` - Total number of COVID-19 vaccination doses administered. (Total number of COVID-19 vaccination doses administered)\n",
        "* `people_vaccinated` - Total number of people who received at least one dose of vaccine. (Total number of people who received at least one vaccine dose)* `date` - Date of observation.\n",
        "* `people_fully_vaccinated` - Total number of people who received all doses prescribed by the initial vaccination protocol. (Total number orf people who received all doses prescribed by the initial vaccination protocol)\n",
        "* `total_boosters` - Total number of COVID-19 vaccination booster doses administered (doses administered in excess of the number prescribed by the vaccination protocol). (Total number of COVID-19 vaccination booster doses administered (doses administered beyond the number prescribed by the vaccination protocol))\n",
        "* `new_vaccinations` - New COVID-19 vaccination doses administered (calculated for consecutive days only). (New COVID-19 vaccination doses administered (only calculated for consecutive days))\n",
        "* ` new_vaccinations_smoothed ` - New COVID-19 vaccination doses administered (7-day smoothing). For countries that do not report daily immunization data, we assume that immunization changed equally daily in all periods when no data was reported. This produces a complete series of daily numbers, which are averaged over a rolling 7-day window. (New COVID-19 vaccination doses administered (7-day smoothed). For countries that don't report vaccination data on a daily basis, we assume that vaccination changed equally on a daily basis over any periods in which no data was reported. This produces a complete series of daily figures, which is then averaged over a rolling 7-day window)\n",
        "* `total_vaccinations_per_hundred` - Total number of COVID-19 vaccination doses given per 100 people in the total population. (Total number of COVID-19 vaccination doses administered per 100 people in the total population)\n",
        "* `people_vaccinated_per_hundred` - Total number of people who received at least one dose of vaccine per 100 people in the total population. (Total number of people who received at least one vaccine dose per 100 people in the total population)\n",
        "* `people_fully_vaccinated_per_hundred` - Total number of people who received all doses prescribed by the initial vaccination protocol per 100 people in the total population. (Total number of people who received all doses prescribed by the initial vaccination protocol per 100 people in the total population)\n",
        "* `total_boosters_per_hundred` - Total number of COVID-19 vaccination booster doses given per 100 people in the total population. (Total number of COVID-19 vaccination booster doses administered per 100 people in the total population)\n",
        "* `new_vaccinations_smoothed_per_million` - New doses of COVID-19 vaccination given (smoothed over 7 days) per 1,000,000 people in the total population. (New COVID-19 vaccination doses administered (7-day smoothed) per 1,000,000 people in the total population)\n",
        "* `new_people_vaccinated_smoothed` - Daily number of people who received the first dose of vaccine (7 days smoothed). (Daily number of people receiving their first vaccine dose (7-day smoothed))\n",
        "* `new_people_vaccinated_smoothed_per_hundred` - Daily number of people who received the first dose of vaccine (7-day smoothing) per 100 people in the total population. (Daily number of people receiving their first vaccine dose (7-day smoothed) per 100 people in the total population)\n",
        "* `stringency_index` - Government Response Severity Index: composite measure based on 9 response indicators, including school closures, workplace closures, and travel bans, rescaled to a value from 0 to 100 (100 = response stricter). (Government Response Stringency Index: composite measure based on 9 response indicators including school closures, workplace closures, and travel bans, rescaled to a value from 0 to 100 (100 = strictest response))\n",
        "* `population` - Population (last values available). See https://github.com/owid/covid-19-data/blob/master/scripts/input/un/population_latest.csv for the full list of sources. (Population (latest available values). See https://github.com/owid/covid-19-data/blob/master/scripts/input/un/population_latest.csv for full list of sources)\n",
        "* `population_density` - Number of people divided by land area, measured in square kilometers, most recent year available. (Number of people divided by land area, measured in square kilometers, most recent year available)\n",
        "* `median_age` - Median age of the population, UN projection for 2020. (Median age of the population, UN projection for 2020)\n",
        "* `aged_65_older` - Share of population aged 65 and over, most recent year available. (Share of the population that is 65 years and older, most recent year available)\n",
        "* `aged_70_older` - Proportion of the population aged 70 years and older in 2015.\n",
        "* `gdp_per_capita` - Gross domestic product in purchasing power parity (constant 2011 international dollars), most recent year available. (Gross domestic product at purchasing power parity (constant 2011 international dollars), most recent year available)\n",
        "* `extreme_poverty` - Share of population living in extreme poverty, most recent year available since 2010. (Share of the population living in extreme poverty, most recent year available since 2010)\n",
        "* `cardiovasc_death_rate` - Death rate from cardiovascular disease in 2017 (annual number of deaths per 100,000 people). (Death rate from cardiovascular disease in 2017 (annual number of deaths per 100,000 people))\n",
        "* `diabetes_prevalence` - Prevalence of diabetes (% of population aged 20 to 79 years) in 2017. (Diabetes prevalence (% of population aged 20 to 79) in 2017)\n",
        "* `female_smokers` - Proportion of women who smoke, most recent year available. (Share of women who smoke, most recent year available)\n",
        "* `male_smokers` - Share of men who smoke, most recent year available. (Share of men who smoke, most recent year available)\n",
        "* `handwashing_facilities` - Share of population with basic handwashing facilities on premises, most recent year available. (Share of the population with basic handwashing facilities on premises, most recent year available)\n",
        "* `hospital_beds_per_thousand` - Hospital beds per 1,000 people, most recent year available since 2010.\n",
        "* `life_expectancy` - Life expectancy at birth in 2019.\n",
        "* `human_development_index` - A composite index measuring average performance in three basic dimensions of human development – a long and healthy life, knowledge and a decent standard of living. Values for 2019, imported from http://hdr.undp.org/en/indicators/137506. (A composite index measuring average achievement in three basic dimensions of human development—a long and healthy life, knowledge and a decent standard of living. Values for 2019, imported from http://hdr.undp.org/en/indicators/137506 )\n",
        "* `excess_mortality` - Percent difference between the reported number of weekly or monthly deaths in 2020–2021 and the projected number of deaths for the same period based on previous years. For more information, see https://github.com/owid/covid-19-data/tree/master/public/data/excess_mortality. (Percentage difference between the reported number of weekly or monthly deaths in 2020–2021 and the projected number of deaths for the same period based on previous years. For more information, see https://github.com/owid/covid-19- data/tree/master/public/data/excess_mortality)\n",
        "* `excess_mortality_cumulative` - Percent difference between the cumulative number of deaths since January 1, 2020 and the cumulative projected deaths for the same period based on previous years. For more information, see https://github.com/owid/covid-19-data/tree/master/public/data/excess_mortality. (Percentage difference between the cumulative number of deaths since 1 January 2020 and the cumulative projected deaths for the same period based on previous years. For more information, see https://github.com/owid/covid-19-data/tree/ master/public/data/excess_mortality)\n",
        "* `excess_mortality_cumulative_absolute` - Cumulative difference between the reported number of deaths since January 1, 2020 and the projected number of deaths for the same period based on previous years. For more information, see https://github.com/owid/covid-19-data/tree/master/public/data/excess_mortality. (Cumulative difference between the reported number of deaths since 1 January 2020 and the projected number of deaths for the same period based on previous years. For more information, see https://github.com/owid/covid-19-data/tree /master/public/data/excess_mortality)*\n",
        "* `excess_mortality_cumulative_per_million` - Cumulative difference between the reported number of deaths since January 1, 2020 and the projected number of deaths for the same period based on previous years, per million people. For more information, see https://github.com/owid/covid-19-data/tree/master/public/data/excess_mortality. (Cumulative difference between the reported number of deaths since 1 January 2020 and the projected number of deaths for the same period based on previous years, per million people. For more information, see https://github.com/owid/covid-19 -data/tree/master/public/data/excess_mortality)\n"
      ],
      "metadata": {
        "id": "pV1zDBbjmJnN"
      }
    },
    {
      "cell_type": "markdown",
      "source": [
        "### Importing COVID-19 data\n",
        "\n"
      ],
      "metadata": {
        "id": "aa6jOy7k9gYL"
      }
    },
    {
      "cell_type": "markdown",
      "source": [
        "To start the analysis, let's import the necessary packages."
      ],
      "metadata": {
        "id": "5WP2MydvwC8L"
      }
    },
    {
      "cell_type": "code",
      "metadata": {
        "id": "lOtEJxe0DMEb"
      },
      "source": [
        "# import the necessary libraries\n",
        "import pandas as pd\n",
        "import matplotlib.pyplot as plt\n",
        "import seaborn as sns\n",
        "\n",
        "sns.set_style()\n",
        "%matplotlib inline\n",
        "\n",
        "import warnings\n",
        "warnings.filterwarnings('ignore')\n",
        "\n",
        "# import the COVID-19 dataset into a DataFrame\n",
        "df = pd.read_csv(\"https://raw.githubusercontent.com/owid/covid-19-data/master/public/data/owid-covid-data.csv\")"
      ],
      "execution_count": null,
      "outputs": []
    },
    {
      "cell_type": "markdown",
      "metadata": {
        "id": "qb5By2nIMS6m"
      },
      "source": [
        "## Exploratory Data Analysis\n",
        "\n",
        "With the `df.shape` method, let's check the distribution of our DataFrame, it presented a total of 242695 entries and 67 variables."
      ]
    },
    {
      "cell_type": "code",
      "source": [
        "# identify the data volume of the DataFrame\n",
        "print(\"Entries:\\t {}\".format(df.shape[0]))\n",
        "print(\"Variables:\\t {}\\n\".format(df.shape[1]))\n"
      ],
      "metadata": {
        "colab": {
          "base_uri": "https://localhost:8080/"
        },
        "id": "FU3AYcgX-hSp",
        "outputId": "6c216f1e-7ca3-41fd-f017-99b7cfb05ac8"
      },
      "execution_count": null,
      "outputs": [
        {
          "output_type": "stream",
          "name": "stdout",
          "text": [
            "Entries:\t 242695\n",
            "Variables:\t 67\n",
            "\n"
          ]
        }
      ]
    },
    {
      "cell_type": "markdown",
      "source": [
        "### Initial Exploratory Analysis\n",
        "\n",
        "Now let's go a little deeper into our analysis, it will be presenting the first 5 entries and their variables."
      ],
      "metadata": {
        "id": "rBP54nzA_rsD"
      }
    },
    {
      "cell_type": "code",
      "metadata": {
        "id": "gO1fv3D1PS4k",
        "colab": {
          "base_uri": "https://localhost:8080/",
          "height": 386
        },
        "outputId": "74b349c1-5ac5-42e5-988b-b5f4af041212"
      },
      "source": [
        "# show first 5 entries\n",
        "df.head()"
      ],
      "execution_count": null,
      "outputs": [
        {
          "output_type": "execute_result",
          "data": {
            "text/plain": [
              "  iso_code continent     location        date  total_cases  new_cases  \\\n",
              "0      AFG      Asia  Afghanistan  2020-02-24          5.0        5.0   \n",
              "1      AFG      Asia  Afghanistan  2020-02-25          5.0        0.0   \n",
              "2      AFG      Asia  Afghanistan  2020-02-26          5.0        0.0   \n",
              "3      AFG      Asia  Afghanistan  2020-02-27          5.0        0.0   \n",
              "4      AFG      Asia  Afghanistan  2020-02-28          5.0        0.0   \n",
              "\n",
              "   new_cases_smoothed  total_deaths  new_deaths  new_deaths_smoothed  ...  \\\n",
              "0                 NaN           NaN         NaN                  NaN  ...   \n",
              "1                 NaN           NaN         NaN                  NaN  ...   \n",
              "2                 NaN           NaN         NaN                  NaN  ...   \n",
              "3                 NaN           NaN         NaN                  NaN  ...   \n",
              "4                 NaN           NaN         NaN                  NaN  ...   \n",
              "\n",
              "   male_smokers  handwashing_facilities  hospital_beds_per_thousand  \\\n",
              "0           NaN                  37.746                         0.5   \n",
              "1           NaN                  37.746                         0.5   \n",
              "2           NaN                  37.746                         0.5   \n",
              "3           NaN                  37.746                         0.5   \n",
              "4           NaN                  37.746                         0.5   \n",
              "\n",
              "   life_expectancy  human_development_index  population  \\\n",
              "0            64.83                    0.511  41128772.0   \n",
              "1            64.83                    0.511  41128772.0   \n",
              "2            64.83                    0.511  41128772.0   \n",
              "3            64.83                    0.511  41128772.0   \n",
              "4            64.83                    0.511  41128772.0   \n",
              "\n",
              "   excess_mortality_cumulative_absolute  excess_mortality_cumulative  \\\n",
              "0                                   NaN                          NaN   \n",
              "1                                   NaN                          NaN   \n",
              "2                                   NaN                          NaN   \n",
              "3                                   NaN                          NaN   \n",
              "4                                   NaN                          NaN   \n",
              "\n",
              "   excess_mortality  excess_mortality_cumulative_per_million  \n",
              "0               NaN                                      NaN  \n",
              "1               NaN                                      NaN  \n",
              "2               NaN                                      NaN  \n",
              "3               NaN                                      NaN  \n",
              "4               NaN                                      NaN  \n",
              "\n",
              "[5 rows x 67 columns]"
            ],
            "text/html": [
              "\n",
              "  <div id=\"df-ffb20845-1f9e-4688-88ed-d1e1b14c49fb\">\n",
              "    <div class=\"colab-df-container\">\n",
              "      <div>\n",
              "<style scoped>\n",
              "    .dataframe tbody tr th:only-of-type {\n",
              "        vertical-align: middle;\n",
              "    }\n",
              "\n",
              "    .dataframe tbody tr th {\n",
              "        vertical-align: top;\n",
              "    }\n",
              "\n",
              "    .dataframe thead th {\n",
              "        text-align: right;\n",
              "    }\n",
              "</style>\n",
              "<table border=\"1\" class=\"dataframe\">\n",
              "  <thead>\n",
              "    <tr style=\"text-align: right;\">\n",
              "      <th></th>\n",
              "      <th>iso_code</th>\n",
              "      <th>continent</th>\n",
              "      <th>location</th>\n",
              "      <th>date</th>\n",
              "      <th>total_cases</th>\n",
              "      <th>new_cases</th>\n",
              "      <th>new_cases_smoothed</th>\n",
              "      <th>total_deaths</th>\n",
              "      <th>new_deaths</th>\n",
              "      <th>new_deaths_smoothed</th>\n",
              "      <th>...</th>\n",
              "      <th>male_smokers</th>\n",
              "      <th>handwashing_facilities</th>\n",
              "      <th>hospital_beds_per_thousand</th>\n",
              "      <th>life_expectancy</th>\n",
              "      <th>human_development_index</th>\n",
              "      <th>population</th>\n",
              "      <th>excess_mortality_cumulative_absolute</th>\n",
              "      <th>excess_mortality_cumulative</th>\n",
              "      <th>excess_mortality</th>\n",
              "      <th>excess_mortality_cumulative_per_million</th>\n",
              "    </tr>\n",
              "  </thead>\n",
              "  <tbody>\n",
              "    <tr>\n",
              "      <th>0</th>\n",
              "      <td>AFG</td>\n",
              "      <td>Asia</td>\n",
              "      <td>Afghanistan</td>\n",
              "      <td>2020-02-24</td>\n",
              "      <td>5.0</td>\n",
              "      <td>5.0</td>\n",
              "      <td>NaN</td>\n",
              "      <td>NaN</td>\n",
              "      <td>NaN</td>\n",
              "      <td>NaN</td>\n",
              "      <td>...</td>\n",
              "      <td>NaN</td>\n",
              "      <td>37.746</td>\n",
              "      <td>0.5</td>\n",
              "      <td>64.83</td>\n",
              "      <td>0.511</td>\n",
              "      <td>41128772.0</td>\n",
              "      <td>NaN</td>\n",
              "      <td>NaN</td>\n",
              "      <td>NaN</td>\n",
              "      <td>NaN</td>\n",
              "    </tr>\n",
              "    <tr>\n",
              "      <th>1</th>\n",
              "      <td>AFG</td>\n",
              "      <td>Asia</td>\n",
              "      <td>Afghanistan</td>\n",
              "      <td>2020-02-25</td>\n",
              "      <td>5.0</td>\n",
              "      <td>0.0</td>\n",
              "      <td>NaN</td>\n",
              "      <td>NaN</td>\n",
              "      <td>NaN</td>\n",
              "      <td>NaN</td>\n",
              "      <td>...</td>\n",
              "      <td>NaN</td>\n",
              "      <td>37.746</td>\n",
              "      <td>0.5</td>\n",
              "      <td>64.83</td>\n",
              "      <td>0.511</td>\n",
              "      <td>41128772.0</td>\n",
              "      <td>NaN</td>\n",
              "      <td>NaN</td>\n",
              "      <td>NaN</td>\n",
              "      <td>NaN</td>\n",
              "    </tr>\n",
              "    <tr>\n",
              "      <th>2</th>\n",
              "      <td>AFG</td>\n",
              "      <td>Asia</td>\n",
              "      <td>Afghanistan</td>\n",
              "      <td>2020-02-26</td>\n",
              "      <td>5.0</td>\n",
              "      <td>0.0</td>\n",
              "      <td>NaN</td>\n",
              "      <td>NaN</td>\n",
              "      <td>NaN</td>\n",
              "      <td>NaN</td>\n",
              "      <td>...</td>\n",
              "      <td>NaN</td>\n",
              "      <td>37.746</td>\n",
              "      <td>0.5</td>\n",
              "      <td>64.83</td>\n",
              "      <td>0.511</td>\n",
              "      <td>41128772.0</td>\n",
              "      <td>NaN</td>\n",
              "      <td>NaN</td>\n",
              "      <td>NaN</td>\n",
              "      <td>NaN</td>\n",
              "    </tr>\n",
              "    <tr>\n",
              "      <th>3</th>\n",
              "      <td>AFG</td>\n",
              "      <td>Asia</td>\n",
              "      <td>Afghanistan</td>\n",
              "      <td>2020-02-27</td>\n",
              "      <td>5.0</td>\n",
              "      <td>0.0</td>\n",
              "      <td>NaN</td>\n",
              "      <td>NaN</td>\n",
              "      <td>NaN</td>\n",
              "      <td>NaN</td>\n",
              "      <td>...</td>\n",
              "      <td>NaN</td>\n",
              "      <td>37.746</td>\n",
              "      <td>0.5</td>\n",
              "      <td>64.83</td>\n",
              "      <td>0.511</td>\n",
              "      <td>41128772.0</td>\n",
              "      <td>NaN</td>\n",
              "      <td>NaN</td>\n",
              "      <td>NaN</td>\n",
              "      <td>NaN</td>\n",
              "    </tr>\n",
              "    <tr>\n",
              "      <th>4</th>\n",
              "      <td>AFG</td>\n",
              "      <td>Asia</td>\n",
              "      <td>Afghanistan</td>\n",
              "      <td>2020-02-28</td>\n",
              "      <td>5.0</td>\n",
              "      <td>0.0</td>\n",
              "      <td>NaN</td>\n",
              "      <td>NaN</td>\n",
              "      <td>NaN</td>\n",
              "      <td>NaN</td>\n",
              "      <td>...</td>\n",
              "      <td>NaN</td>\n",
              "      <td>37.746</td>\n",
              "      <td>0.5</td>\n",
              "      <td>64.83</td>\n",
              "      <td>0.511</td>\n",
              "      <td>41128772.0</td>\n",
              "      <td>NaN</td>\n",
              "      <td>NaN</td>\n",
              "      <td>NaN</td>\n",
              "      <td>NaN</td>\n",
              "    </tr>\n",
              "  </tbody>\n",
              "</table>\n",
              "<p>5 rows × 67 columns</p>\n",
              "</div>\n",
              "      <button class=\"colab-df-convert\" onclick=\"convertToInteractive('df-ffb20845-1f9e-4688-88ed-d1e1b14c49fb')\"\n",
              "              title=\"Convert this dataframe to an interactive table.\"\n",
              "              style=\"display:none;\">\n",
              "        \n",
              "  <svg xmlns=\"http://www.w3.org/2000/svg\" height=\"24px\"viewBox=\"0 0 24 24\"\n",
              "       width=\"24px\">\n",
              "    <path d=\"M0 0h24v24H0V0z\" fill=\"none\"/>\n",
              "    <path d=\"M18.56 5.44l.94 2.06.94-2.06 2.06-.94-2.06-.94-.94-2.06-.94 2.06-2.06.94zm-11 1L8.5 8.5l.94-2.06 2.06-.94-2.06-.94L8.5 2.5l-.94 2.06-2.06.94zm10 10l.94 2.06.94-2.06 2.06-.94-2.06-.94-.94-2.06-.94 2.06-2.06.94z\"/><path d=\"M17.41 7.96l-1.37-1.37c-.4-.4-.92-.59-1.43-.59-.52 0-1.04.2-1.43.59L10.3 9.45l-7.72 7.72c-.78.78-.78 2.05 0 2.83L4 21.41c.39.39.9.59 1.41.59.51 0 1.02-.2 1.41-.59l7.78-7.78 2.81-2.81c.8-.78.8-2.07 0-2.86zM5.41 20L4 18.59l7.72-7.72 1.47 1.35L5.41 20z\"/>\n",
              "  </svg>\n",
              "      </button>\n",
              "      \n",
              "  <style>\n",
              "    .colab-df-container {\n",
              "      display:flex;\n",
              "      flex-wrap:wrap;\n",
              "      gap: 12px;\n",
              "    }\n",
              "\n",
              "    .colab-df-convert {\n",
              "      background-color: #E8F0FE;\n",
              "      border: none;\n",
              "      border-radius: 50%;\n",
              "      cursor: pointer;\n",
              "      display: none;\n",
              "      fill: #1967D2;\n",
              "      height: 32px;\n",
              "      padding: 0 0 0 0;\n",
              "      width: 32px;\n",
              "    }\n",
              "\n",
              "    .colab-df-convert:hover {\n",
              "      background-color: #E2EBFA;\n",
              "      box-shadow: 0px 1px 2px rgba(60, 64, 67, 0.3), 0px 1px 3px 1px rgba(60, 64, 67, 0.15);\n",
              "      fill: #174EA6;\n",
              "    }\n",
              "\n",
              "    [theme=dark] .colab-df-convert {\n",
              "      background-color: #3B4455;\n",
              "      fill: #D2E3FC;\n",
              "    }\n",
              "\n",
              "    [theme=dark] .colab-df-convert:hover {\n",
              "      background-color: #434B5C;\n",
              "      box-shadow: 0px 1px 3px 1px rgba(0, 0, 0, 0.15);\n",
              "      filter: drop-shadow(0px 1px 2px rgba(0, 0, 0, 0.3));\n",
              "      fill: #FFFFFF;\n",
              "    }\n",
              "  </style>\n",
              "\n",
              "      <script>\n",
              "        const buttonEl =\n",
              "          document.querySelector('#df-ffb20845-1f9e-4688-88ed-d1e1b14c49fb button.colab-df-convert');\n",
              "        buttonEl.style.display =\n",
              "          google.colab.kernel.accessAllowed ? 'block' : 'none';\n",
              "\n",
              "        async function convertToInteractive(key) {\n",
              "          const element = document.querySelector('#df-ffb20845-1f9e-4688-88ed-d1e1b14c49fb');\n",
              "          const dataTable =\n",
              "            await google.colab.kernel.invokeFunction('convertToInteractive',\n",
              "                                                     [key], {});\n",
              "          if (!dataTable) return;\n",
              "\n",
              "          const docLinkHtml = 'Like what you see? Visit the ' +\n",
              "            '<a target=\"_blank\" href=https://colab.research.google.com/notebooks/data_table.ipynb>data table notebook</a>'\n",
              "            + ' to learn more about interactive tables.';\n",
              "          element.innerHTML = '';\n",
              "          dataTable['output_type'] = 'display_data';\n",
              "          await google.colab.output.renderOutput(dataTable, element);\n",
              "          const docLink = document.createElement('div');\n",
              "          docLink.innerHTML = docLinkHtml;\n",
              "          element.appendChild(docLink);\n",
              "        }\n",
              "      </script>\n",
              "    </div>\n",
              "  </div>\n",
              "  "
            ]
          },
          "metadata": {},
          "execution_count": 3
        }
      ]
    },
    {
      "cell_type": "markdown",
      "source": [
        "Analyzing our DataFrame better, we notice that the `location` column has information by country and also by continent. The main objective of our study is to present a comparison between countries with confirmed cases and the number of deaths. Therefore, we divided the Data Frame into two parts, one for the continent and the other for the country.\n",
        "\n",
        "In the final sum of the DataFrame, continent and country remain with 242695 entries and 67 variables."
      ],
      "metadata": {
        "id": "H-TWlwOE0Ga8"
      }
    },
    {
      "cell_type": "code",
      "source": [
        "# separating the dataframe between entries with and without OWID\n",
        "continent = df[df.iso_code.str.startswith('OWID_')]\n",
        "country = pd.concat([df, continent, continent]).drop_duplicates(keep=False)"
      ],
      "metadata": {
        "id": "jEZFY-rFsZUq"
      },
      "execution_count": null,
      "outputs": []
    },
    {
      "cell_type": "code",
      "source": [
        "# identify the data volume of the DataFrame\n",
        "print('Dataset dimensions - continent')\n",
        "print(\"Entries:\\t {}\".format(continent.shape[0]))\n",
        "print(\"Variables:\\t {}\\n\".format(continent.shape[1]))\n",
        "\n",
        "print('Dataset dimensions - country')\n",
        "print(\"Entries:\\t {}\".format(country.shape[0]))\n",
        "print(\"Variables:\\t {}\\n\".format(country.shape[1]))"
      ],
      "metadata": {
        "colab": {
          "base_uri": "https://localhost:8080/"
        },
        "id": "cjqhXP5hwHMY",
        "outputId": "be22ae05-53c5-40b3-fc6b-65980a57f976"
      },
      "execution_count": null,
      "outputs": [
        {
          "output_type": "stream",
          "name": "stdout",
          "text": [
            "Dataset dimensions - continent\n",
            "Entries:\t 19368\n",
            "Variables:\t 67\n",
            "\n",
            "Dataset dimensions - country\n",
            "Entries:\t 223327\n",
            "Variables:\t 67\n",
            "\n"
          ]
        }
      ]
    },
    {
      "cell_type": "markdown",
      "source": [
        "**Columns**\n",
        "\n",
        "The file has a large number of columns, there are 67 in total, all of which are described below:"
      ],
      "metadata": {
        "id": "ROqO7H64AQIK"
      }
    },
    {
      "cell_type": "code",
      "source": [
        "# extract and print column numbers\n",
        "df.columns"
      ],
      "metadata": {
        "colab": {
          "base_uri": "https://localhost:8080/"
        },
        "id": "A-R-k7wy_3ZC",
        "outputId": "7eaf5a12-33fb-4acc-c7c4-7e6011fcfac3"
      },
      "execution_count": null,
      "outputs": [
        {
          "output_type": "execute_result",
          "data": {
            "text/plain": [
              "Index(['iso_code', 'continent', 'location', 'date', 'total_cases', 'new_cases',\n",
              "       'new_cases_smoothed', 'total_deaths', 'new_deaths',\n",
              "       'new_deaths_smoothed', 'total_cases_per_million',\n",
              "       'new_cases_per_million', 'new_cases_smoothed_per_million',\n",
              "       'total_deaths_per_million', 'new_deaths_per_million',\n",
              "       'new_deaths_smoothed_per_million', 'reproduction_rate', 'icu_patients',\n",
              "       'icu_patients_per_million', 'hosp_patients',\n",
              "       'hosp_patients_per_million', 'weekly_icu_admissions',\n",
              "       'weekly_icu_admissions_per_million', 'weekly_hosp_admissions',\n",
              "       'weekly_hosp_admissions_per_million', 'total_tests', 'new_tests',\n",
              "       'total_tests_per_thousand', 'new_tests_per_thousand',\n",
              "       'new_tests_smoothed', 'new_tests_smoothed_per_thousand',\n",
              "       'positive_rate', 'tests_per_case', 'tests_units', 'total_vaccinations',\n",
              "       'people_vaccinated', 'people_fully_vaccinated', 'total_boosters',\n",
              "       'new_vaccinations', 'new_vaccinations_smoothed',\n",
              "       'total_vaccinations_per_hundred', 'people_vaccinated_per_hundred',\n",
              "       'people_fully_vaccinated_per_hundred', 'total_boosters_per_hundred',\n",
              "       'new_vaccinations_smoothed_per_million',\n",
              "       'new_people_vaccinated_smoothed',\n",
              "       'new_people_vaccinated_smoothed_per_hundred', 'stringency_index',\n",
              "       'population_density', 'median_age', 'aged_65_older', 'aged_70_older',\n",
              "       'gdp_per_capita', 'extreme_poverty', 'cardiovasc_death_rate',\n",
              "       'diabetes_prevalence', 'female_smokers', 'male_smokers',\n",
              "       'handwashing_facilities', 'hospital_beds_per_thousand',\n",
              "       'life_expectancy', 'human_development_index', 'population',\n",
              "       'excess_mortality_cumulative_absolute', 'excess_mortality_cumulative',\n",
              "       'excess_mortality', 'excess_mortality_cumulative_per_million'],\n",
              "      dtype='object')"
            ]
          },
          "metadata": {},
          "execution_count": 7
        }
      ]
    },
    {
      "cell_type": "markdown",
      "source": [
        "**Data Type**\n",
        "\n",
        "Below we identify the types of variables with the `dtype` command, most are of type float with only five of type object."
      ],
      "metadata": {
        "id": "G_v72uCHAxgr"
      }
    },
    {
      "cell_type": "code",
      "source": [
        "# view all lines of the df\n",
        "pd.set_option('display.max_rows', None)\n",
        "\n",
        "# types of variables\n",
        "display(df.dtypes)"
      ],
      "metadata": {
        "colab": {
          "base_uri": "https://localhost:8080/",
          "height": 1000
        },
        "id": "nZdf4XHVGOqT",
        "outputId": "08ee9701-6eb8-46a4-b986-882e02226f23"
      },
      "execution_count": null,
      "outputs": [
        {
          "output_type": "display_data",
          "data": {
            "text/plain": [
              "iso_code                                       object\n",
              "continent                                      object\n",
              "location                                       object\n",
              "date                                           object\n",
              "total_cases                                   float64\n",
              "new_cases                                     float64\n",
              "new_cases_smoothed                            float64\n",
              "total_deaths                                  float64\n",
              "new_deaths                                    float64\n",
              "new_deaths_smoothed                           float64\n",
              "total_cases_per_million                       float64\n",
              "new_cases_per_million                         float64\n",
              "new_cases_smoothed_per_million                float64\n",
              "total_deaths_per_million                      float64\n",
              "new_deaths_per_million                        float64\n",
              "new_deaths_smoothed_per_million               float64\n",
              "reproduction_rate                             float64\n",
              "icu_patients                                  float64\n",
              "icu_patients_per_million                      float64\n",
              "hosp_patients                                 float64\n",
              "hosp_patients_per_million                     float64\n",
              "weekly_icu_admissions                         float64\n",
              "weekly_icu_admissions_per_million             float64\n",
              "weekly_hosp_admissions                        float64\n",
              "weekly_hosp_admissions_per_million            float64\n",
              "total_tests                                   float64\n",
              "new_tests                                     float64\n",
              "total_tests_per_thousand                      float64\n",
              "new_tests_per_thousand                        float64\n",
              "new_tests_smoothed                            float64\n",
              "new_tests_smoothed_per_thousand               float64\n",
              "positive_rate                                 float64\n",
              "tests_per_case                                float64\n",
              "tests_units                                    object\n",
              "total_vaccinations                            float64\n",
              "people_vaccinated                             float64\n",
              "people_fully_vaccinated                       float64\n",
              "total_boosters                                float64\n",
              "new_vaccinations                              float64\n",
              "new_vaccinations_smoothed                     float64\n",
              "total_vaccinations_per_hundred                float64\n",
              "people_vaccinated_per_hundred                 float64\n",
              "people_fully_vaccinated_per_hundred           float64\n",
              "total_boosters_per_hundred                    float64\n",
              "new_vaccinations_smoothed_per_million         float64\n",
              "new_people_vaccinated_smoothed                float64\n",
              "new_people_vaccinated_smoothed_per_hundred    float64\n",
              "stringency_index                              float64\n",
              "population_density                            float64\n",
              "median_age                                    float64\n",
              "aged_65_older                                 float64\n",
              "aged_70_older                                 float64\n",
              "gdp_per_capita                                float64\n",
              "extreme_poverty                               float64\n",
              "cardiovasc_death_rate                         float64\n",
              "diabetes_prevalence                           float64\n",
              "female_smokers                                float64\n",
              "male_smokers                                  float64\n",
              "handwashing_facilities                        float64\n",
              "hospital_beds_per_thousand                    float64\n",
              "life_expectancy                               float64\n",
              "human_development_index                       float64\n",
              "population                                    float64\n",
              "excess_mortality_cumulative_absolute          float64\n",
              "excess_mortality_cumulative                   float64\n",
              "excess_mortality                              float64\n",
              "excess_mortality_cumulative_per_million       float64\n",
              "dtype: object"
            ]
          },
          "metadata": {}
        }
      ]
    },
    {
      "cell_type": "markdown",
      "source": [
        "**Missing Values**\n",
        "\n",
        "It is possible to notice a large percentage of missing values, this step is important because when we do not have enough information for analysis, it is best to remove these variables. In this study we will compare the total number of confirmed cases and the total number of deaths, these have respectively 5.77% and 13.76% of missing data, which is an adequate number given the amount of information we have."
      ],
      "metadata": {
        "id": "QvSl9ZWsBCX6"
      }
    },
    {
      "cell_type": "code",
      "source": [
        "# sort in descending order the variables by their missing values, in percentage\n",
        "(df.isnull().sum()/df.shape[0]).sort_values(ascending=False)"
      ],
      "metadata": {
        "colab": {
          "base_uri": "https://localhost:8080/"
        },
        "id": "3azK12rWHLPP",
        "outputId": "27f92337-c822-44c3-f9bb-56d4f159a6b6"
      },
      "execution_count": null,
      "outputs": [
        {
          "output_type": "execute_result",
          "data": {
            "text/plain": [
              "excess_mortality_cumulative_per_million       0.966678\n",
              "excess_mortality_cumulative                   0.966678\n",
              "excess_mortality_cumulative_absolute          0.966678\n",
              "excess_mortality                              0.966559\n",
              "weekly_icu_admissions                         0.966435\n",
              "weekly_icu_admissions_per_million             0.966435\n",
              "weekly_hosp_admissions                        0.919669\n",
              "weekly_hosp_admissions_per_million            0.919669\n",
              "icu_patients                                  0.864633\n",
              "icu_patients_per_million                      0.864633\n",
              "hosp_patients_per_million                     0.852296\n",
              "hosp_patients                                 0.852296\n",
              "total_boosters                                0.842844\n",
              "total_boosters_per_hundred                    0.842844\n",
              "new_vaccinations                              0.764532\n",
              "people_fully_vaccinated                       0.739344\n",
              "people_fully_vaccinated_per_hundred           0.739344\n",
              "people_vaccinated_per_hundred                 0.728387\n",
              "people_vaccinated                             0.728387\n",
              "total_vaccinations_per_hundred                0.715932\n",
              "total_vaccinations                            0.715932\n",
              "new_tests_per_thousand                        0.689310\n",
              "new_tests                                     0.689310\n",
              "total_tests_per_thousand                      0.672894\n",
              "total_tests                                   0.672894\n",
              "tests_per_case                                0.611249\n",
              "positive_rate                                 0.604743\n",
              "handwashing_facilities                        0.604075\n",
              "new_tests_smoothed_per_thousand               0.571623\n",
              "new_tests_smoothed                            0.571623\n",
              "tests_units                                   0.559991\n",
              "extreme_poverty                               0.476264\n",
              "new_people_vaccinated_smoothed_per_hundred    0.406840\n",
              "new_people_vaccinated_smoothed                0.406840\n",
              "new_vaccinations_smoothed                     0.405756\n",
              "new_vaccinations_smoothed_per_million         0.405756\n",
              "male_smokers                                  0.399262\n",
              "female_smokers                                0.390927\n",
              "hospital_beds_per_thousand                    0.284130\n",
              "reproduction_rate                             0.264192\n",
              "stringency_index                              0.258015\n",
              "human_development_index                       0.215274\n",
              "aged_65_older                                 0.202678\n",
              "aged_70_older                                 0.198393\n",
              "cardiovasc_death_rate                         0.196461\n",
              "gdp_per_capita                                0.196077\n",
              "median_age                                    0.194178\n",
              "diabetes_prevalence                           0.154643\n",
              "new_deaths_smoothed_per_million               0.147032\n",
              "new_deaths_smoothed                           0.142813\n",
              "new_deaths_per_million                        0.142166\n",
              "total_deaths_per_million                      0.141853\n",
              "new_deaths                                    0.137926\n",
              "total_deaths                                  0.137613\n",
              "population_density                            0.128845\n",
              "life_expectancy                               0.082701\n",
              "new_cases_smoothed_per_million                0.067987\n",
              "new_cases_smoothed                            0.063714\n",
              "new_cases_per_million                         0.063067\n",
              "total_cases_per_million                       0.061950\n",
              "new_cases                                     0.058773\n",
              "total_cases                                   0.057657\n",
              "continent                                     0.056235\n",
              "population                                    0.004293\n",
              "date                                          0.000000\n",
              "location                                      0.000000\n",
              "iso_code                                      0.000000\n",
              "dtype: float64"
            ]
          },
          "metadata": {},
          "execution_count": 9
        }
      ]
    },
    {
      "cell_type": "markdown",
      "source": [
        "### Viewing Data\n",
        "\n",
        "<center><img alt=\"Colaboratory logo\" width=\"50%\" src=\"https://images.unsplash.com/photo-1584931423298-c576fda54bd2?ixlib=rb-4.0.3&ixid=MnwxMjA3fDB8MHxzZWFyY2h8OHx8Y292aWQlMjAxOXxlbnwwfHwwfHw%3D&auto=format&fit=crop&w=500&q=60\"></center>\n",
        "\n",
        "This part of the project is intended for data visualization, either through graphics or through the DataFrame itself.\n",
        "\n",
        "Let's start the comparative analysis between countries, using the `country.copy()` data frame as a basis.\n",
        "\n",
        "The *date* column is in *object* format, it is necessary to transform it to *datetime* format for better analysis."
      ],
      "metadata": {
        "id": "bp9grWvKD6Jl"
      }
    },
    {
      "cell_type": "code",
      "source": [
        "# creating a dataset checkpoint\n",
        "df_clean = country.copy()\n",
        "\n",
        "# transform date column into datetime format\n",
        "df.date = pd.to_datetime(df.date)"
      ],
      "metadata": {
        "id": "Pk7C77EIICpl"
      },
      "execution_count": null,
      "outputs": []
    },
    {
      "cell_type": "markdown",
      "source": [
        "With the `df.date` method it is possible to verify the last update of the file, which was on 2022-12-14, we will use this date for the following analyses."
      ],
      "metadata": {
        "id": "HsIhw6ucEFZl"
      }
    },
    {
      "cell_type": "code",
      "source": [
        "df.date.max()"
      ],
      "metadata": {
        "colab": {
          "base_uri": "https://localhost:8080/"
        },
        "id": "dIFyKsiWE4dV",
        "outputId": "6a64c2f4-a372-4199-b923-c11c3fe1d662"
      },
      "execution_count": null,
      "outputs": [
        {
          "output_type": "execute_result",
          "data": {
            "text/plain": [
              "Timestamp('2022-12-14 00:00:00')"
            ]
          },
          "metadata": {},
          "execution_count": 11
        }
      ]
    },
    {
      "cell_type": "markdown",
      "source": [
        "**Countries with more cases**\n",
        "\n",
        "With an updated base date of 2022-12-14, we check below the 10 countries with the most cases:\n",
        "\n",
        "1. United States - 99.682.155 confirmed cases;\n",
        "2. India - 44.676.670 confirmed cases;\n",
        "3. France - 38.722.874 confirmed cases;\n",
        "4. Germany - 36.905.873 confirmed cases;\n",
        "5. Brazil - 35.751.411 confirmed cases;\n",
        "6. South Korea - 27.995.726 confirmed cases;\n",
        "7. Japan - 26.521.902 confirmed cases;\n",
        "8. Italy - 24.709.404 confirmed cases;\n",
        "9. United Kingdom - 24.053.576 confirmed cases;\n",
        "10. Russia - 21.377.974 confirmed cases;\n",
        "\n",
        "\n"
      ],
      "metadata": {
        "id": "ML3oBMQTB4MJ"
      }
    },
    {
      "cell_type": "code",
      "source": [
        "# countries with the most cases for the most recent date (2022-12-14)\n",
        "top10_cases = df_clean.loc[df_clean.date == '2022-12-14'].sort_values(by=\"total_cases\", ascending=False)[0:10]\n",
        "top10_cases = top10_cases[['iso_code', 'location', 'date', 'total_cases', 'total_deaths']]\n",
        "top10_cases"
      ],
      "metadata": {
        "colab": {
          "base_uri": "https://localhost:8080/",
          "height": 363
        },
        "id": "DWAZ8Wca43mc",
        "outputId": "9b593072-21d0-49a2-89ab-a9245ab644d9"
      },
      "execution_count": null,
      "outputs": [
        {
          "output_type": "execute_result",
          "data": {
            "text/plain": [
              "       iso_code        location        date  total_cases  total_deaths\n",
              "229147      USA   United States  2022-12-14   99682155.0     1086199.0\n",
              "99816       IND           India  2022-12-14   44676670.0      530663.0\n",
              "76905       FRA          France  2022-12-14   38722874.0      160191.0\n",
              "81997       DEU         Germany  2022-12-14   36905873.0      159594.0\n",
              "30562       BRA          Brazil  2022-12-14   35751411.0      691449.0\n",
              "203377      KOR     South Korea  2022-12-14   27995726.0       31232.0\n",
              "110096      JPN           Japan  2022-12-14   26521902.0       52295.0\n",
              "108029      ITA           Italy  2022-12-14   24709404.0      182419.0\n",
              "228089      GBR  United Kingdom  2022-12-14   24053576.0      212766.0\n",
              "180134      RUS          Russia  2022-12-14   21377974.0      384861.0"
            ],
            "text/html": [
              "\n",
              "  <div id=\"df-128361cf-f710-4392-9b0f-1daf76662ea6\">\n",
              "    <div class=\"colab-df-container\">\n",
              "      <div>\n",
              "<style scoped>\n",
              "    .dataframe tbody tr th:only-of-type {\n",
              "        vertical-align: middle;\n",
              "    }\n",
              "\n",
              "    .dataframe tbody tr th {\n",
              "        vertical-align: top;\n",
              "    }\n",
              "\n",
              "    .dataframe thead th {\n",
              "        text-align: right;\n",
              "    }\n",
              "</style>\n",
              "<table border=\"1\" class=\"dataframe\">\n",
              "  <thead>\n",
              "    <tr style=\"text-align: right;\">\n",
              "      <th></th>\n",
              "      <th>iso_code</th>\n",
              "      <th>location</th>\n",
              "      <th>date</th>\n",
              "      <th>total_cases</th>\n",
              "      <th>total_deaths</th>\n",
              "    </tr>\n",
              "  </thead>\n",
              "  <tbody>\n",
              "    <tr>\n",
              "      <th>229147</th>\n",
              "      <td>USA</td>\n",
              "      <td>United States</td>\n",
              "      <td>2022-12-14</td>\n",
              "      <td>99682155.0</td>\n",
              "      <td>1086199.0</td>\n",
              "    </tr>\n",
              "    <tr>\n",
              "      <th>99816</th>\n",
              "      <td>IND</td>\n",
              "      <td>India</td>\n",
              "      <td>2022-12-14</td>\n",
              "      <td>44676670.0</td>\n",
              "      <td>530663.0</td>\n",
              "    </tr>\n",
              "    <tr>\n",
              "      <th>76905</th>\n",
              "      <td>FRA</td>\n",
              "      <td>France</td>\n",
              "      <td>2022-12-14</td>\n",
              "      <td>38722874.0</td>\n",
              "      <td>160191.0</td>\n",
              "    </tr>\n",
              "    <tr>\n",
              "      <th>81997</th>\n",
              "      <td>DEU</td>\n",
              "      <td>Germany</td>\n",
              "      <td>2022-12-14</td>\n",
              "      <td>36905873.0</td>\n",
              "      <td>159594.0</td>\n",
              "    </tr>\n",
              "    <tr>\n",
              "      <th>30562</th>\n",
              "      <td>BRA</td>\n",
              "      <td>Brazil</td>\n",
              "      <td>2022-12-14</td>\n",
              "      <td>35751411.0</td>\n",
              "      <td>691449.0</td>\n",
              "    </tr>\n",
              "    <tr>\n",
              "      <th>203377</th>\n",
              "      <td>KOR</td>\n",
              "      <td>South Korea</td>\n",
              "      <td>2022-12-14</td>\n",
              "      <td>27995726.0</td>\n",
              "      <td>31232.0</td>\n",
              "    </tr>\n",
              "    <tr>\n",
              "      <th>110096</th>\n",
              "      <td>JPN</td>\n",
              "      <td>Japan</td>\n",
              "      <td>2022-12-14</td>\n",
              "      <td>26521902.0</td>\n",
              "      <td>52295.0</td>\n",
              "    </tr>\n",
              "    <tr>\n",
              "      <th>108029</th>\n",
              "      <td>ITA</td>\n",
              "      <td>Italy</td>\n",
              "      <td>2022-12-14</td>\n",
              "      <td>24709404.0</td>\n",
              "      <td>182419.0</td>\n",
              "    </tr>\n",
              "    <tr>\n",
              "      <th>228089</th>\n",
              "      <td>GBR</td>\n",
              "      <td>United Kingdom</td>\n",
              "      <td>2022-12-14</td>\n",
              "      <td>24053576.0</td>\n",
              "      <td>212766.0</td>\n",
              "    </tr>\n",
              "    <tr>\n",
              "      <th>180134</th>\n",
              "      <td>RUS</td>\n",
              "      <td>Russia</td>\n",
              "      <td>2022-12-14</td>\n",
              "      <td>21377974.0</td>\n",
              "      <td>384861.0</td>\n",
              "    </tr>\n",
              "  </tbody>\n",
              "</table>\n",
              "</div>\n",
              "      <button class=\"colab-df-convert\" onclick=\"convertToInteractive('df-128361cf-f710-4392-9b0f-1daf76662ea6')\"\n",
              "              title=\"Convert this dataframe to an interactive table.\"\n",
              "              style=\"display:none;\">\n",
              "        \n",
              "  <svg xmlns=\"http://www.w3.org/2000/svg\" height=\"24px\"viewBox=\"0 0 24 24\"\n",
              "       width=\"24px\">\n",
              "    <path d=\"M0 0h24v24H0V0z\" fill=\"none\"/>\n",
              "    <path d=\"M18.56 5.44l.94 2.06.94-2.06 2.06-.94-2.06-.94-.94-2.06-.94 2.06-2.06.94zm-11 1L8.5 8.5l.94-2.06 2.06-.94-2.06-.94L8.5 2.5l-.94 2.06-2.06.94zm10 10l.94 2.06.94-2.06 2.06-.94-2.06-.94-.94-2.06-.94 2.06-2.06.94z\"/><path d=\"M17.41 7.96l-1.37-1.37c-.4-.4-.92-.59-1.43-.59-.52 0-1.04.2-1.43.59L10.3 9.45l-7.72 7.72c-.78.78-.78 2.05 0 2.83L4 21.41c.39.39.9.59 1.41.59.51 0 1.02-.2 1.41-.59l7.78-7.78 2.81-2.81c.8-.78.8-2.07 0-2.86zM5.41 20L4 18.59l7.72-7.72 1.47 1.35L5.41 20z\"/>\n",
              "  </svg>\n",
              "      </button>\n",
              "      \n",
              "  <style>\n",
              "    .colab-df-container {\n",
              "      display:flex;\n",
              "      flex-wrap:wrap;\n",
              "      gap: 12px;\n",
              "    }\n",
              "\n",
              "    .colab-df-convert {\n",
              "      background-color: #E8F0FE;\n",
              "      border: none;\n",
              "      border-radius: 50%;\n",
              "      cursor: pointer;\n",
              "      display: none;\n",
              "      fill: #1967D2;\n",
              "      height: 32px;\n",
              "      padding: 0 0 0 0;\n",
              "      width: 32px;\n",
              "    }\n",
              "\n",
              "    .colab-df-convert:hover {\n",
              "      background-color: #E2EBFA;\n",
              "      box-shadow: 0px 1px 2px rgba(60, 64, 67, 0.3), 0px 1px 3px 1px rgba(60, 64, 67, 0.15);\n",
              "      fill: #174EA6;\n",
              "    }\n",
              "\n",
              "    [theme=dark] .colab-df-convert {\n",
              "      background-color: #3B4455;\n",
              "      fill: #D2E3FC;\n",
              "    }\n",
              "\n",
              "    [theme=dark] .colab-df-convert:hover {\n",
              "      background-color: #434B5C;\n",
              "      box-shadow: 0px 1px 3px 1px rgba(0, 0, 0, 0.15);\n",
              "      filter: drop-shadow(0px 1px 2px rgba(0, 0, 0, 0.3));\n",
              "      fill: #FFFFFF;\n",
              "    }\n",
              "  </style>\n",
              "\n",
              "      <script>\n",
              "        const buttonEl =\n",
              "          document.querySelector('#df-128361cf-f710-4392-9b0f-1daf76662ea6 button.colab-df-convert');\n",
              "        buttonEl.style.display =\n",
              "          google.colab.kernel.accessAllowed ? 'block' : 'none';\n",
              "\n",
              "        async function convertToInteractive(key) {\n",
              "          const element = document.querySelector('#df-128361cf-f710-4392-9b0f-1daf76662ea6');\n",
              "          const dataTable =\n",
              "            await google.colab.kernel.invokeFunction('convertToInteractive',\n",
              "                                                     [key], {});\n",
              "          if (!dataTable) return;\n",
              "\n",
              "          const docLinkHtml = 'Like what you see? Visit the ' +\n",
              "            '<a target=\"_blank\" href=https://colab.research.google.com/notebooks/data_table.ipynb>data table notebook</a>'\n",
              "            + ' to learn more about interactive tables.';\n",
              "          element.innerHTML = '';\n",
              "          dataTable['output_type'] = 'display_data';\n",
              "          await google.colab.output.renderOutput(dataTable, element);\n",
              "          const docLink = document.createElement('div');\n",
              "          docLink.innerHTML = docLinkHtml;\n",
              "          element.appendChild(docLink);\n",
              "        }\n",
              "      </script>\n",
              "    </div>\n",
              "  </div>\n",
              "  "
            ]
          },
          "metadata": {},
          "execution_count": 12
        }
      ]
    },
    {
      "cell_type": "markdown",
      "source": [
        "**Chart of countries with more cases**\n",
        "\n",
        "For a better visualization, according to the numbers presented, we plotted a bar chart with the 10 countries with the most confirmed cases."
      ],
      "metadata": {
        "id": "ZnVqDTbX7B0X"
      }
    },
    {
      "cell_type": "code",
      "source": [
        "# bar chart for total cases\n",
        "fig, ax = plt.subplots(figsize=(13,7),dpi=75)\n",
        "n_plots=10\n",
        "palette_cases = sns.color_palette(\"pastel6\", n_colors=n_plots)\n",
        "palette_cases.reverse()\n",
        "with palette_cases:\n",
        "   ax = sns.barplot(y='location' ,x='total_cases', data= top10_cases,ax=ax)\n",
        "\n",
        "# removing spines from graphics\n",
        "   ax.spines['right'].set_visible(False)\n",
        "   ax.spines['left'].set_visible(False)\n",
        "   ax.spines['top'].set_visible(False)\n",
        "   ax.spines['bottom'].set_visible(False)\n",
        "\n",
        "#remove titles\n",
        "   ax.set_ylabel('')\n",
        "   ax.set_xlabel('')\n",
        "\n",
        "# remove xticks and xticklabels\n",
        "   ax.set_xticklabels(labels=[], visible=False)\n",
        "   ax.set_xticks(ticks=[])\n",
        "\n",
        "#add labels\n",
        "   initialx=0\n",
        "   for p in ax.patches:\n",
        "     ax.text(p.get_width(),initialx+p.get_height()/8,'{:1.0f}'.format(p.get_width()))\n",
        "     initialx+=1\n",
        " \n",
        "# plot title\n",
        "   plt.text(-2, -1.2, 'Countries with the highest number of COVID-19 cases in the world',\n",
        "           fontsize=18,\n",
        "           color=\"#141314\",\n",
        "           weight='bold')\n",
        "   \n",
        "\n",
        "   plt.show()"
      ],
      "metadata": {
        "colab": {
          "base_uri": "https://localhost:8080/",
          "height": 471
        },
        "id": "XHfLZys-Nkcu",
        "outputId": "5740f5ab-fe9e-44c2-c640-44f6514c736c"
      },
      "execution_count": null,
      "outputs": [
        {
          "output_type": "display_data",
          "data": {
            "text/plain": [
              "<Figure size 975x525 with 1 Axes>"
            ],
            "image/png": "[encoded data removed]"
          },
          "metadata": {
            "needs_background": "light"
          }
        }
      ]
    },
    {
      "cell_type": "markdown",
      "source": [
        "**Countries with the most deaths**\n",
        "\n",
        "With the same base date, we check below the 10 countries with the most registered deaths:\n",
        "\n",
        "1. United States - 1.086.199 deaths;\n",
        "2. Brazil - 691.449 deaths;\n",
        "3. India - 530.663 deaths;\n",
        "4. Russia - 384.861 deaths;\n",
        "5. Mexico - 330.729 deaths;\n",
        "6. Peru - 217.704 deaths;\n",
        "7. United Kingdom - 212.766 deaths;\n",
        "8. Italy - 182.419 deaths;\n",
        "9. Indonesia - 160.311 deaths;\n",
        "10. France - 160.191 deaths;"
      ],
      "metadata": {
        "id": "8xWp4nDOFxhX"
      }
    },
    {
      "cell_type": "code",
      "source": [
        "# countries with the most deaths for the most recent date (2022-12-14)\n",
        "top10_deaths = df_clean.loc[df_clean.date == '2022-12-14'].sort_values(by=\"total_deaths\", ascending=False)[0:10]\n",
        "top10_deaths = top10_deaths[['iso_code', 'location', 'date', 'total_cases', 'total_deaths']]\n",
        "top10_deaths"
      ],
      "metadata": {
        "colab": {
          "base_uri": "https://localhost:8080/",
          "height": 363
        },
        "id": "Dz9lvI1b6Jsm",
        "outputId": "1418f6ea-32a3-4db1-d196-9c62801140ad"
      },
      "execution_count": null,
      "outputs": [
        {
          "output_type": "execute_result",
          "data": {
            "text/plain": [
              "       iso_code        location        date  total_cases  total_deaths\n",
              "229147      USA   United States  2022-12-14   99682155.0     1086199.0\n",
              "30562       BRA          Brazil  2022-12-14   35751411.0      691449.0\n",
              "99816       IND           India  2022-12-14   44676670.0      530663.0\n",
              "180134      RUS          Russia  2022-12-14   21377974.0      384861.0\n",
              "139679      MEX          Mexico  2022-12-14    7169653.0      330729.0\n",
              "172676      PER            Peru  2022-12-14    4390355.0      217738.0\n",
              "228089      GBR  United Kingdom  2022-12-14   24053576.0      212766.0\n",
              "108029      ITA           Italy  2022-12-14   24709404.0      182419.0\n",
              "100834      IDN       Indonesia  2022-12-14    6704268.0      160311.0\n",
              "76905       FRA          France  2022-12-14   38722874.0      160191.0"
            ],
            "text/html": [
              "\n",
              "  <div id=\"df-2de17d6e-8373-4654-a838-185ef80cd040\">\n",
              "    <div class=\"colab-df-container\">\n",
              "      <div>\n",
              "<style scoped>\n",
              "    .dataframe tbody tr th:only-of-type {\n",
              "        vertical-align: middle;\n",
              "    }\n",
              "\n",
              "    .dataframe tbody tr th {\n",
              "        vertical-align: top;\n",
              "    }\n",
              "\n",
              "    .dataframe thead th {\n",
              "        text-align: right;\n",
              "    }\n",
              "</style>\n",
              "<table border=\"1\" class=\"dataframe\">\n",
              "  <thead>\n",
              "    <tr style=\"text-align: right;\">\n",
              "      <th></th>\n",
              "      <th>iso_code</th>\n",
              "      <th>location</th>\n",
              "      <th>date</th>\n",
              "      <th>total_cases</th>\n",
              "      <th>total_deaths</th>\n",
              "    </tr>\n",
              "  </thead>\n",
              "  <tbody>\n",
              "    <tr>\n",
              "      <th>229147</th>\n",
              "      <td>USA</td>\n",
              "      <td>United States</td>\n",
              "      <td>2022-12-14</td>\n",
              "      <td>99682155.0</td>\n",
              "      <td>1086199.0</td>\n",
              "    </tr>\n",
              "    <tr>\n",
              "      <th>30562</th>\n",
              "      <td>BRA</td>\n",
              "      <td>Brazil</td>\n",
              "      <td>2022-12-14</td>\n",
              "      <td>35751411.0</td>\n",
              "      <td>691449.0</td>\n",
              "    </tr>\n",
              "    <tr>\n",
              "      <th>99816</th>\n",
              "      <td>IND</td>\n",
              "      <td>India</td>\n",
              "      <td>2022-12-14</td>\n",
              "      <td>44676670.0</td>\n",
              "      <td>530663.0</td>\n",
              "    </tr>\n",
              "    <tr>\n",
              "      <th>180134</th>\n",
              "      <td>RUS</td>\n",
              "      <td>Russia</td>\n",
              "      <td>2022-12-14</td>\n",
              "      <td>21377974.0</td>\n",
              "      <td>384861.0</td>\n",
              "    </tr>\n",
              "    <tr>\n",
              "      <th>139679</th>\n",
              "      <td>MEX</td>\n",
              "      <td>Mexico</td>\n",
              "      <td>2022-12-14</td>\n",
              "      <td>7169653.0</td>\n",
              "      <td>330729.0</td>\n",
              "    </tr>\n",
              "    <tr>\n",
              "      <th>172676</th>\n",
              "      <td>PER</td>\n",
              "      <td>Peru</td>\n",
              "      <td>2022-12-14</td>\n",
              "      <td>4390355.0</td>\n",
              "      <td>217738.0</td>\n",
              "    </tr>\n",
              "    <tr>\n",
              "      <th>228089</th>\n",
              "      <td>GBR</td>\n",
              "      <td>United Kingdom</td>\n",
              "      <td>2022-12-14</td>\n",
              "      <td>24053576.0</td>\n",
              "      <td>212766.0</td>\n",
              "    </tr>\n",
              "    <tr>\n",
              "      <th>108029</th>\n",
              "      <td>ITA</td>\n",
              "      <td>Italy</td>\n",
              "      <td>2022-12-14</td>\n",
              "      <td>24709404.0</td>\n",
              "      <td>182419.0</td>\n",
              "    </tr>\n",
              "    <tr>\n",
              "      <th>100834</th>\n",
              "      <td>IDN</td>\n",
              "      <td>Indonesia</td>\n",
              "      <td>2022-12-14</td>\n",
              "      <td>6704268.0</td>\n",
              "      <td>160311.0</td>\n",
              "    </tr>\n",
              "    <tr>\n",
              "      <th>76905</th>\n",
              "      <td>FRA</td>\n",
              "      <td>France</td>\n",
              "      <td>2022-12-14</td>\n",
              "      <td>38722874.0</td>\n",
              "      <td>160191.0</td>\n",
              "    </tr>\n",
              "  </tbody>\n",
              "</table>\n",
              "</div>\n",
              "      <button class=\"colab-df-convert\" onclick=\"convertToInteractive('df-2de17d6e-8373-4654-a838-185ef80cd040')\"\n",
              "              title=\"Convert this dataframe to an interactive table.\"\n",
              "              style=\"display:none;\">\n",
              "        \n",
              "  <svg xmlns=\"http://www.w3.org/2000/svg\" height=\"24px\"viewBox=\"0 0 24 24\"\n",
              "       width=\"24px\">\n",
              "    <path d=\"M0 0h24v24H0V0z\" fill=\"none\"/>\n",
              "    <path d=\"M18.56 5.44l.94 2.06.94-2.06 2.06-.94-2.06-.94-.94-2.06-.94 2.06-2.06.94zm-11 1L8.5 8.5l.94-2.06 2.06-.94-2.06-.94L8.5 2.5l-.94 2.06-2.06.94zm10 10l.94 2.06.94-2.06 2.06-.94-2.06-.94-.94-2.06-.94 2.06-2.06.94z\"/><path d=\"M17.41 7.96l-1.37-1.37c-.4-.4-.92-.59-1.43-.59-.52 0-1.04.2-1.43.59L10.3 9.45l-7.72 7.72c-.78.78-.78 2.05 0 2.83L4 21.41c.39.39.9.59 1.41.59.51 0 1.02-.2 1.41-.59l7.78-7.78 2.81-2.81c.8-.78.8-2.07 0-2.86zM5.41 20L4 18.59l7.72-7.72 1.47 1.35L5.41 20z\"/>\n",
              "  </svg>\n",
              "      </button>\n",
              "      \n",
              "  <style>\n",
              "    .colab-df-container {\n",
              "      display:flex;\n",
              "      flex-wrap:wrap;\n",
              "      gap: 12px;\n",
              "    }\n",
              "\n",
              "    .colab-df-convert {\n",
              "      background-color: #E8F0FE;\n",
              "      border: none;\n",
              "      border-radius: 50%;\n",
              "      cursor: pointer;\n",
              "      display: none;\n",
              "      fill: #1967D2;\n",
              "      height: 32px;\n",
              "      padding: 0 0 0 0;\n",
              "      width: 32px;\n",
              "    }\n",
              "\n",
              "    .colab-df-convert:hover {\n",
              "      background-color: #E2EBFA;\n",
              "      box-shadow: 0px 1px 2px rgba(60, 64, 67, 0.3), 0px 1px 3px 1px rgba(60, 64, 67, 0.15);\n",
              "      fill: #174EA6;\n",
              "    }\n",
              "\n",
              "    [theme=dark] .colab-df-convert {\n",
              "      background-color: #3B4455;\n",
              "      fill: #D2E3FC;\n",
              "    }\n",
              "\n",
              "    [theme=dark] .colab-df-convert:hover {\n",
              "      background-color: #434B5C;\n",
              "      box-shadow: 0px 1px 3px 1px rgba(0, 0, 0, 0.15);\n",
              "      filter: drop-shadow(0px 1px 2px rgba(0, 0, 0, 0.3));\n",
              "      fill: #FFFFFF;\n",
              "    }\n",
              "  </style>\n",
              "\n",
              "      <script>\n",
              "        const buttonEl =\n",
              "          document.querySelector('#df-2de17d6e-8373-4654-a838-185ef80cd040 button.colab-df-convert');\n",
              "        buttonEl.style.display =\n",
              "          google.colab.kernel.accessAllowed ? 'block' : 'none';\n",
              "\n",
              "        async function convertToInteractive(key) {\n",
              "          const element = document.querySelector('#df-2de17d6e-8373-4654-a838-185ef80cd040');\n",
              "          const dataTable =\n",
              "            await google.colab.kernel.invokeFunction('convertToInteractive',\n",
              "                                                     [key], {});\n",
              "          if (!dataTable) return;\n",
              "\n",
              "          const docLinkHtml = 'Like what you see? Visit the ' +\n",
              "            '<a target=\"_blank\" href=https://colab.research.google.com/notebooks/data_table.ipynb>data table notebook</a>'\n",
              "            + ' to learn more about interactive tables.';\n",
              "          element.innerHTML = '';\n",
              "          dataTable['output_type'] = 'display_data';\n",
              "          await google.colab.output.renderOutput(dataTable, element);\n",
              "          const docLink = document.createElement('div');\n",
              "          docLink.innerHTML = docLinkHtml;\n",
              "          element.appendChild(docLink);\n",
              "        }\n",
              "      </script>\n",
              "    </div>\n",
              "  </div>\n",
              "  "
            ]
          },
          "metadata": {},
          "execution_count": 14
        }
      ]
    },
    {
      "cell_type": "markdown",
      "source": [
        "**Bar chart of countries with the most deaths**\n",
        "\n",
        "For a better visualization, according to the numbers presented, we plotted a bar graph with the 10 countries with the most registered deaths."
      ],
      "metadata": {
        "id": "V44tAgP6GUca"
      }
    },
    {
      "cell_type": "code",
      "source": [
        "# bar graph for total kills\n",
        "top10_total_deaths = df_clean.loc[df_clean.date == '2022-12-14', ['location', 'total_deaths']].sort_values(by=\"total_deaths\", ascending=False)[0:10]\n",
        "\n",
        "fig, ax = plt.subplots(figsize=(15,10))\n",
        "\n",
        "ax.bar('location', 'total_deaths', data=top10_total_deaths)\n",
        "\n",
        "plt.tight_layout()"
      ],
      "metadata": {
        "colab": {
          "base_uri": "https://localhost:8080/",
          "height": 729
        },
        "id": "LiVVqRVWNHTF",
        "outputId": "79866379-3bf5-403b-ae8d-3971a815188b"
      },
      "execution_count": null,
      "outputs": [
        {
          "output_type": "display_data",
          "data": {
            "text/plain": [
              "<Figure size 1080x720 with 1 Axes>"
            ],
            "image/png": "[encoded data removed]"
          },
          "metadata": {
            "needs_background": "light"
          }
        }
      ]
    },
    {
      "cell_type": "markdown",
      "source": [
        "In this analysis, we noticed that the United States, Brazil, India, France, Italy, United Kingdom and Russia are among the 10 countries with the most cases and the most deaths in the world. Germany, South Korea and Japan, on the other hand, are not in the top 10 with the highest number of deaths, these places are occupied by Mexico, Peru and Indonesia."
      ],
      "metadata": {
        "id": "tODoXoQ5I8GE"
      }
    },
    {
      "cell_type": "markdown",
      "source": [
        "### How is the virus progressing?\n",
        "\n",
        "One of the biggest concerns of health organizations is the progression of the number of cases and deaths in the world.\n",
        "\n",
        "One of the best ways to visualize evolution over time is the line graph. Therefore, let's plot a line graph to demonstrate the evolution of deaths in the world."
      ],
      "metadata": {
        "id": "XPoIuXeBPPQO"
      }
    },
    {
      "cell_type": "code",
      "source": [
        "# plot a line graph to see evolution of total COVID-19 cases\n",
        "df.loc[df.location == \"World\", \"total_deaths\"].reset_index(drop=True).plot(figsize=(10,8))"
      ],
      "metadata": {
        "colab": {
          "base_uri": "https://localhost:8080/",
          "height": 511
        },
        "id": "5-UU_BQWN9hh",
        "outputId": "78183b1e-ffe2-420e-c291-588d80deaa67"
      },
      "execution_count": null,
      "outputs": [
        {
          "output_type": "execute_result",
          "data": {
            "text/plain": [
              "<matplotlib.axes._subplots.AxesSubplot at 0x7f66f2d202b0>"
            ]
          },
          "metadata": {},
          "execution_count": 16
        },
        {
          "output_type": "display_data",
          "data": {
            "text/plain": [
              "<Figure size 720x576 with 1 Axes>"
            ],
            "image/png": "[encoded data removed]"
          },
          "metadata": {
            "needs_background": "light"
          }
        }
      ]
    },
    {
      "cell_type": "markdown",
      "source": [
        "**Dispersion chart of the number of deaths by per capita income**\n",
        "\n",
        "A scatter plot was plotted considering *gdp_per_capita* (that is, the countries' GDP) by the total number of deaths.\n",
        "\n",
        "GDP per capita is the GDP of the country, state or municipality divided by the number of inhabitants, which generates an estimate of how much wealth each person produced in the year, disregarding social inequality.\n",
        "\n",
        "We note that in this analysis we had countries with a higher per capita GDP such as the United States, which has the highest number of deaths, on the other hand, Indonesia, which has a lower per capita GDP and was also in the top 10, based on these data we cannot justify the ratio of GDP per capita to the number of deaths, as they occurred in several different groups."
      ],
      "metadata": {
        "id": "VxtdeLAiGevz"
      }
    },
    {
      "cell_type": "code",
      "source": [
        "# plotting the dispersion of the number of deaths by per capita income\n",
        "plt.figure(figsize = (16, 8))\n",
        "sns.scatterplot(data=df_clean, x='gdp_per_capita', y='total_deaths')\n",
        "plt.xlabel(\"GDP per Capita\", size = 14)\n",
        "plt.ylabel(\"Total deaths\", size = 14)\n",
        "plt.show()"
      ],
      "metadata": {
        "colab": {
          "base_uri": "https://localhost:8080/",
          "height": 512
        },
        "id": "8spPtd3nW8_d",
        "outputId": "7ba253d5-37d8-453c-b801-7d0e75c1d7ee"
      },
      "execution_count": null,
      "outputs": [
        {
          "output_type": "display_data",
          "data": {
            "text/plain": [
              "<Figure size 1152x576 with 1 Axes>"
            ],
            "image/png": "[encoded data removed]"
          },
          "metadata": {
            "needs_background": "light"
          }
        }
      ]
    },
    {
      "cell_type": "markdown",
      "metadata": {
        "id": "SViA5VZ7DYLA"
      },
      "source": [
        "### Exploratory Analysis for Brazil\n",
        "\n",
        "In this second stage of the analysis, we are going to delve a little deeper into the COVID-19 data in Brazil.\n",
        "\n",
        "\n",
        "\n",
        "* Identify when the first death was recorded in Brazil\n",
        "* Identify how many days it took for us to register the first death, considering the first case of COVID-19 registered.\n",
        "* Plot line graphs on linear and logarithmic scales for total cases and total deaths.\n",
        "\n",
        "In the DataFrame, only the first 5 entries that have Brazil in the location will be displayed.\n",
        "\n",
        "\n",
        "\n",
        "\n"
      ]
    },
    {
      "cell_type": "code",
      "metadata": {
        "id": "UDQA502_hAwI",
        "colab": {
          "base_uri": "https://localhost:8080/",
          "height": 386
        },
        "outputId": "3c27f940-02e6-4b48-86c1-5354dc7778d2"
      },
      "source": [
        "# DataFrame with data from Brazil\n",
        "df_brazil = df.loc[df.location == \"Brazil\"].copy()\n",
        "\n",
        "df_brazil.head()"
      ],
      "execution_count": null,
      "outputs": [
        {
          "output_type": "execute_result",
          "data": {
            "text/plain": [
              "      iso_code      continent location       date  total_cases  new_cases  \\\n",
              "29540      BRA  South America   Brazil 2020-02-26          1.0        1.0   \n",
              "29541      BRA  South America   Brazil 2020-02-27          1.0        0.0   \n",
              "29542      BRA  South America   Brazil 2020-02-28          1.0        0.0   \n",
              "29543      BRA  South America   Brazil 2020-02-29          2.0        1.0   \n",
              "29544      BRA  South America   Brazil 2020-03-01          2.0        0.0   \n",
              "\n",
              "       new_cases_smoothed  total_deaths  new_deaths  new_deaths_smoothed  ...  \\\n",
              "29540                 NaN           NaN         NaN                  NaN  ...   \n",
              "29541                 NaN           NaN         NaN                  NaN  ...   \n",
              "29542                 NaN           NaN         NaN                  NaN  ...   \n",
              "29543                 NaN           NaN         NaN                  NaN  ...   \n",
              "29544                 NaN           NaN         NaN                  NaN  ...   \n",
              "\n",
              "       male_smokers  handwashing_facilities  hospital_beds_per_thousand  \\\n",
              "29540          17.9                     NaN                         2.2   \n",
              "29541          17.9                     NaN                         2.2   \n",
              "29542          17.9                     NaN                         2.2   \n",
              "29543          17.9                     NaN                         2.2   \n",
              "29544          17.9                     NaN                         2.2   \n",
              "\n",
              "       life_expectancy  human_development_index   population  \\\n",
              "29540            75.88                    0.765  215313504.0   \n",
              "29541            75.88                    0.765  215313504.0   \n",
              "29542            75.88                    0.765  215313504.0   \n",
              "29543            75.88                    0.765  215313504.0   \n",
              "29544            75.88                    0.765  215313504.0   \n",
              "\n",
              "       excess_mortality_cumulative_absolute  excess_mortality_cumulative  \\\n",
              "29540                                   NaN                          NaN   \n",
              "29541                                   NaN                          NaN   \n",
              "29542                                   NaN                          NaN   \n",
              "29543                                2427.8                         1.14   \n",
              "29544                                   NaN                          NaN   \n",
              "\n",
              "       excess_mortality  excess_mortality_cumulative_per_million  \n",
              "29540               NaN                                      NaN  \n",
              "29541               NaN                                      NaN  \n",
              "29542               NaN                                      NaN  \n",
              "29543              3.12                                11.275651  \n",
              "29544               NaN                                      NaN  \n",
              "\n",
              "[5 rows x 67 columns]"
            ],
            "text/html": [
              "\n",
              "  <div id=\"df-122378a6-71c3-49d1-9c7b-29ec5a35511a\">\n",
              "    <div class=\"colab-df-container\">\n",
              "      <div>\n",
              "<style scoped>\n",
              "    .dataframe tbody tr th:only-of-type {\n",
              "        vertical-align: middle;\n",
              "    }\n",
              "\n",
              "    .dataframe tbody tr th {\n",
              "        vertical-align: top;\n",
              "    }\n",
              "\n",
              "    .dataframe thead th {\n",
              "        text-align: right;\n",
              "    }\n",
              "</style>\n",
              "<table border=\"1\" class=\"dataframe\">\n",
              "  <thead>\n",
              "    <tr style=\"text-align: right;\">\n",
              "      <th></th>\n",
              "      <th>iso_code</th>\n",
              "      <th>continent</th>\n",
              "      <th>location</th>\n",
              "      <th>date</th>\n",
              "      <th>total_cases</th>\n",
              "      <th>new_cases</th>\n",
              "      <th>new_cases_smoothed</th>\n",
              "      <th>total_deaths</th>\n",
              "      <th>new_deaths</th>\n",
              "      <th>new_deaths_smoothed</th>\n",
              "      <th>...</th>\n",
              "      <th>male_smokers</th>\n",
              "      <th>handwashing_facilities</th>\n",
              "      <th>hospital_beds_per_thousand</th>\n",
              "      <th>life_expectancy</th>\n",
              "      <th>human_development_index</th>\n",
              "      <th>population</th>\n",
              "      <th>excess_mortality_cumulative_absolute</th>\n",
              "      <th>excess_mortality_cumulative</th>\n",
              "      <th>excess_mortality</th>\n",
              "      <th>excess_mortality_cumulative_per_million</th>\n",
              "    </tr>\n",
              "  </thead>\n",
              "  <tbody>\n",
              "    <tr>\n",
              "      <th>29540</th>\n",
              "      <td>BRA</td>\n",
              "      <td>South America</td>\n",
              "      <td>Brazil</td>\n",
              "      <td>2020-02-26</td>\n",
              "      <td>1.0</td>\n",
              "      <td>1.0</td>\n",
              "      <td>NaN</td>\n",
              "      <td>NaN</td>\n",
              "      <td>NaN</td>\n",
              "      <td>NaN</td>\n",
              "      <td>...</td>\n",
              "      <td>17.9</td>\n",
              "      <td>NaN</td>\n",
              "      <td>2.2</td>\n",
              "      <td>75.88</td>\n",
              "      <td>0.765</td>\n",
              "      <td>215313504.0</td>\n",
              "      <td>NaN</td>\n",
              "      <td>NaN</td>\n",
              "      <td>NaN</td>\n",
              "      <td>NaN</td>\n",
              "    </tr>\n",
              "    <tr>\n",
              "      <th>29541</th>\n",
              "      <td>BRA</td>\n",
              "      <td>South America</td>\n",
              "      <td>Brazil</td>\n",
              "      <td>2020-02-27</td>\n",
              "      <td>1.0</td>\n",
              "      <td>0.0</td>\n",
              "      <td>NaN</td>\n",
              "      <td>NaN</td>\n",
              "      <td>NaN</td>\n",
              "      <td>NaN</td>\n",
              "      <td>...</td>\n",
              "      <td>17.9</td>\n",
              "      <td>NaN</td>\n",
              "      <td>2.2</td>\n",
              "      <td>75.88</td>\n",
              "      <td>0.765</td>\n",
              "      <td>215313504.0</td>\n",
              "      <td>NaN</td>\n",
              "      <td>NaN</td>\n",
              "      <td>NaN</td>\n",
              "      <td>NaN</td>\n",
              "    </tr>\n",
              "    <tr>\n",
              "      <th>29542</th>\n",
              "      <td>BRA</td>\n",
              "      <td>South America</td>\n",
              "      <td>Brazil</td>\n",
              "      <td>2020-02-28</td>\n",
              "      <td>1.0</td>\n",
              "      <td>0.0</td>\n",
              "      <td>NaN</td>\n",
              "      <td>NaN</td>\n",
              "      <td>NaN</td>\n",
              "      <td>NaN</td>\n",
              "      <td>...</td>\n",
              "      <td>17.9</td>\n",
              "      <td>NaN</td>\n",
              "      <td>2.2</td>\n",
              "      <td>75.88</td>\n",
              "      <td>0.765</td>\n",
              "      <td>215313504.0</td>\n",
              "      <td>NaN</td>\n",
              "      <td>NaN</td>\n",
              "      <td>NaN</td>\n",
              "      <td>NaN</td>\n",
              "    </tr>\n",
              "    <tr>\n",
              "      <th>29543</th>\n",
              "      <td>BRA</td>\n",
              "      <td>South America</td>\n",
              "      <td>Brazil</td>\n",
              "      <td>2020-02-29</td>\n",
              "      <td>2.0</td>\n",
              "      <td>1.0</td>\n",
              "      <td>NaN</td>\n",
              "      <td>NaN</td>\n",
              "      <td>NaN</td>\n",
              "      <td>NaN</td>\n",
              "      <td>...</td>\n",
              "      <td>17.9</td>\n",
              "      <td>NaN</td>\n",
              "      <td>2.2</td>\n",
              "      <td>75.88</td>\n",
              "      <td>0.765</td>\n",
              "      <td>215313504.0</td>\n",
              "      <td>2427.8</td>\n",
              "      <td>1.14</td>\n",
              "      <td>3.12</td>\n",
              "      <td>11.275651</td>\n",
              "    </tr>\n",
              "    <tr>\n",
              "      <th>29544</th>\n",
              "      <td>BRA</td>\n",
              "      <td>South America</td>\n",
              "      <td>Brazil</td>\n",
              "      <td>2020-03-01</td>\n",
              "      <td>2.0</td>\n",
              "      <td>0.0</td>\n",
              "      <td>NaN</td>\n",
              "      <td>NaN</td>\n",
              "      <td>NaN</td>\n",
              "      <td>NaN</td>\n",
              "      <td>...</td>\n",
              "      <td>17.9</td>\n",
              "      <td>NaN</td>\n",
              "      <td>2.2</td>\n",
              "      <td>75.88</td>\n",
              "      <td>0.765</td>\n",
              "      <td>215313504.0</td>\n",
              "      <td>NaN</td>\n",
              "      <td>NaN</td>\n",
              "      <td>NaN</td>\n",
              "      <td>NaN</td>\n",
              "    </tr>\n",
              "  </tbody>\n",
              "</table>\n",
              "<p>5 rows × 67 columns</p>\n",
              "</div>\n",
              "      <button class=\"colab-df-convert\" onclick=\"convertToInteractive('df-122378a6-71c3-49d1-9c7b-29ec5a35511a')\"\n",
              "              title=\"Convert this dataframe to an interactive table.\"\n",
              "              style=\"display:none;\">\n",
              "        \n",
              "  <svg xmlns=\"http://www.w3.org/2000/svg\" height=\"24px\"viewBox=\"0 0 24 24\"\n",
              "       width=\"24px\">\n",
              "    <path d=\"M0 0h24v24H0V0z\" fill=\"none\"/>\n",
              "    <path d=\"M18.56 5.44l.94 2.06.94-2.06 2.06-.94-2.06-.94-.94-2.06-.94 2.06-2.06.94zm-11 1L8.5 8.5l.94-2.06 2.06-.94-2.06-.94L8.5 2.5l-.94 2.06-2.06.94zm10 10l.94 2.06.94-2.06 2.06-.94-2.06-.94-.94-2.06-.94 2.06-2.06.94z\"/><path d=\"M17.41 7.96l-1.37-1.37c-.4-.4-.92-.59-1.43-.59-.52 0-1.04.2-1.43.59L10.3 9.45l-7.72 7.72c-.78.78-.78 2.05 0 2.83L4 21.41c.39.39.9.59 1.41.59.51 0 1.02-.2 1.41-.59l7.78-7.78 2.81-2.81c.8-.78.8-2.07 0-2.86zM5.41 20L4 18.59l7.72-7.72 1.47 1.35L5.41 20z\"/>\n",
              "  </svg>\n",
              "      </button>\n",
              "      \n",
              "  <style>\n",
              "    .colab-df-container {\n",
              "      display:flex;\n",
              "      flex-wrap:wrap;\n",
              "      gap: 12px;\n",
              "    }\n",
              "\n",
              "    .colab-df-convert {\n",
              "      background-color: #E8F0FE;\n",
              "      border: none;\n",
              "      border-radius: 50%;\n",
              "      cursor: pointer;\n",
              "      display: none;\n",
              "      fill: #1967D2;\n",
              "      height: 32px;\n",
              "      padding: 0 0 0 0;\n",
              "      width: 32px;\n",
              "    }\n",
              "\n",
              "    .colab-df-convert:hover {\n",
              "      background-color: #E2EBFA;\n",
              "      box-shadow: 0px 1px 2px rgba(60, 64, 67, 0.3), 0px 1px 3px 1px rgba(60, 64, 67, 0.15);\n",
              "      fill: #174EA6;\n",
              "    }\n",
              "\n",
              "    [theme=dark] .colab-df-convert {\n",
              "      background-color: #3B4455;\n",
              "      fill: #D2E3FC;\n",
              "    }\n",
              "\n",
              "    [theme=dark] .colab-df-convert:hover {\n",
              "      background-color: #434B5C;\n",
              "      box-shadow: 0px 1px 3px 1px rgba(0, 0, 0, 0.15);\n",
              "      filter: drop-shadow(0px 1px 2px rgba(0, 0, 0, 0.3));\n",
              "      fill: #FFFFFF;\n",
              "    }\n",
              "  </style>\n",
              "\n",
              "      <script>\n",
              "        const buttonEl =\n",
              "          document.querySelector('#df-122378a6-71c3-49d1-9c7b-29ec5a35511a button.colab-df-convert');\n",
              "        buttonEl.style.display =\n",
              "          google.colab.kernel.accessAllowed ? 'block' : 'none';\n",
              "\n",
              "        async function convertToInteractive(key) {\n",
              "          const element = document.querySelector('#df-122378a6-71c3-49d1-9c7b-29ec5a35511a');\n",
              "          const dataTable =\n",
              "            await google.colab.kernel.invokeFunction('convertToInteractive',\n",
              "                                                     [key], {});\n",
              "          if (!dataTable) return;\n",
              "\n",
              "          const docLinkHtml = 'Like what you see? Visit the ' +\n",
              "            '<a target=\"_blank\" href=https://colab.research.google.com/notebooks/data_table.ipynb>data table notebook</a>'\n",
              "            + ' to learn more about interactive tables.';\n",
              "          element.innerHTML = '';\n",
              "          dataTable['output_type'] = 'display_data';\n",
              "          await google.colab.output.renderOutput(dataTable, element);\n",
              "          const docLink = document.createElement('div');\n",
              "          docLink.innerHTML = docLinkHtml;\n",
              "          element.appendChild(docLink);\n",
              "        }\n",
              "      </script>\n",
              "    </div>\n",
              "  </div>\n",
              "  "
            ]
          },
          "metadata": {},
          "execution_count": 24
        }
      ]
    },
    {
      "cell_type": "markdown",
      "source": [
        "In order to have a dimension of our Data Frame, we execute the `shape` method, in the total of the file there are 1023 entries and 67 variables."
      ],
      "metadata": {
        "id": "NvX7OI1SdCWB"
      }
    },
    {
      "cell_type": "code",
      "source": [
        "# Brazil DataFrame Shape\n",
        "df_brazil.shape"
      ],
      "metadata": {
        "colab": {
          "base_uri": "https://localhost:8080/"
        },
        "id": "ZM4CiTiirs4X",
        "outputId": "531c8397-c8f1-4ab9-eed3-ffd4dfcbd48a"
      },
      "execution_count": null,
      "outputs": [
        {
          "output_type": "execute_result",
          "data": {
            "text/plain": [
              "(1023, 67)"
            ]
          },
          "metadata": {},
          "execution_count": 25
        }
      ]
    },
    {
      "cell_type": "markdown",
      "source": [
        "The update date remains the same on December 14, 2022."
      ],
      "metadata": {
        "id": "Q2JeHY4ed3Im"
      }
    },
    {
      "cell_type": "code",
      "source": [
        "df_brazil.date.max()"
      ],
      "metadata": {
        "colab": {
          "base_uri": "https://localhost:8080/"
        },
        "id": "ZmybeeY3iWmK",
        "outputId": "ce11c5f2-3945-45c5-fa99-8f5aa46f8a44"
      },
      "execution_count": null,
      "outputs": [
        {
          "output_type": "execute_result",
          "data": {
            "text/plain": [
              "Timestamp('2022-12-14 00:00:00')"
            ]
          },
          "metadata": {},
          "execution_count": 26
        }
      ]
    },
    {
      "cell_type": "markdown",
      "source": [
        "**First case in Brazil**\n",
        "\n",
        "The first confirmed case of COVID-19 in Brazil was on **February 26, 2020.**\n"
      ],
      "metadata": {
        "id": "1UTrHUdHeE8j"
      }
    },
    {
      "cell_type": "code",
      "source": [
        "# first case registered in Brazil\n",
        "df_brasil.loc[df_brasil['new_cases'] == 1].head(1)"
      ],
      "metadata": {
        "colab": {
          "base_uri": "https://localhost:8080/",
          "height": 191
        },
        "id": "H0LmyXq37ciz",
        "outputId": "bed8cfba-adbb-4dd8-89df-8d97bfad96c4"
      },
      "execution_count": null,
      "outputs": [
        {
          "output_type": "execute_result",
          "data": {
            "text/plain": [
              "      iso_code      continent location       date  total_cases  new_cases  \\\n",
              "29540      BRA  South America   Brazil 2020-02-26          1.0        1.0   \n",
              "\n",
              "       new_cases_smoothed  total_deaths  new_deaths  new_deaths_smoothed  ...  \\\n",
              "29540                 NaN           NaN         NaN                  NaN  ...   \n",
              "\n",
              "       male_smokers  handwashing_facilities  hospital_beds_per_thousand  \\\n",
              "29540          17.9                     NaN                         2.2   \n",
              "\n",
              "       life_expectancy  human_development_index   population  \\\n",
              "29540            75.88                    0.765  215313504.0   \n",
              "\n",
              "       excess_mortality_cumulative_absolute  excess_mortality_cumulative  \\\n",
              "29540                                   NaN                          NaN   \n",
              "\n",
              "       excess_mortality  excess_mortality_cumulative_per_million  \n",
              "29540               NaN                                      NaN  \n",
              "\n",
              "[1 rows x 67 columns]"
            ],
            "text/html": [
              "\n",
              "  <div id=\"df-7cbe0557-0297-4a2c-aba2-f172bfcc7d65\">\n",
              "    <div class=\"colab-df-container\">\n",
              "      <div>\n",
              "<style scoped>\n",
              "    .dataframe tbody tr th:only-of-type {\n",
              "        vertical-align: middle;\n",
              "    }\n",
              "\n",
              "    .dataframe tbody tr th {\n",
              "        vertical-align: top;\n",
              "    }\n",
              "\n",
              "    .dataframe thead th {\n",
              "        text-align: right;\n",
              "    }\n",
              "</style>\n",
              "<table border=\"1\" class=\"dataframe\">\n",
              "  <thead>\n",
              "    <tr style=\"text-align: right;\">\n",
              "      <th></th>\n",
              "      <th>iso_code</th>\n",
              "      <th>continent</th>\n",
              "      <th>location</th>\n",
              "      <th>date</th>\n",
              "      <th>total_cases</th>\n",
              "      <th>new_cases</th>\n",
              "      <th>new_cases_smoothed</th>\n",
              "      <th>total_deaths</th>\n",
              "      <th>new_deaths</th>\n",
              "      <th>new_deaths_smoothed</th>\n",
              "      <th>...</th>\n",
              "      <th>male_smokers</th>\n",
              "      <th>handwashing_facilities</th>\n",
              "      <th>hospital_beds_per_thousand</th>\n",
              "      <th>life_expectancy</th>\n",
              "      <th>human_development_index</th>\n",
              "      <th>population</th>\n",
              "      <th>excess_mortality_cumulative_absolute</th>\n",
              "      <th>excess_mortality_cumulative</th>\n",
              "      <th>excess_mortality</th>\n",
              "      <th>excess_mortality_cumulative_per_million</th>\n",
              "    </tr>\n",
              "  </thead>\n",
              "  <tbody>\n",
              "    <tr>\n",
              "      <th>29540</th>\n",
              "      <td>BRA</td>\n",
              "      <td>South America</td>\n",
              "      <td>Brazil</td>\n",
              "      <td>2020-02-26</td>\n",
              "      <td>1.0</td>\n",
              "      <td>1.0</td>\n",
              "      <td>NaN</td>\n",
              "      <td>NaN</td>\n",
              "      <td>NaN</td>\n",
              "      <td>NaN</td>\n",
              "      <td>...</td>\n",
              "      <td>17.9</td>\n",
              "      <td>NaN</td>\n",
              "      <td>2.2</td>\n",
              "      <td>75.88</td>\n",
              "      <td>0.765</td>\n",
              "      <td>215313504.0</td>\n",
              "      <td>NaN</td>\n",
              "      <td>NaN</td>\n",
              "      <td>NaN</td>\n",
              "      <td>NaN</td>\n",
              "    </tr>\n",
              "  </tbody>\n",
              "</table>\n",
              "<p>1 rows × 67 columns</p>\n",
              "</div>\n",
              "      <button class=\"colab-df-convert\" onclick=\"convertToInteractive('df-7cbe0557-0297-4a2c-aba2-f172bfcc7d65')\"\n",
              "              title=\"Convert this dataframe to an interactive table.\"\n",
              "              style=\"display:none;\">\n",
              "        \n",
              "  <svg xmlns=\"http://www.w3.org/2000/svg\" height=\"24px\"viewBox=\"0 0 24 24\"\n",
              "       width=\"24px\">\n",
              "    <path d=\"M0 0h24v24H0V0z\" fill=\"none\"/>\n",
              "    <path d=\"M18.56 5.44l.94 2.06.94-2.06 2.06-.94-2.06-.94-.94-2.06-.94 2.06-2.06.94zm-11 1L8.5 8.5l.94-2.06 2.06-.94-2.06-.94L8.5 2.5l-.94 2.06-2.06.94zm10 10l.94 2.06.94-2.06 2.06-.94-2.06-.94-.94-2.06-.94 2.06-2.06.94z\"/><path d=\"M17.41 7.96l-1.37-1.37c-.4-.4-.92-.59-1.43-.59-.52 0-1.04.2-1.43.59L10.3 9.45l-7.72 7.72c-.78.78-.78 2.05 0 2.83L4 21.41c.39.39.9.59 1.41.59.51 0 1.02-.2 1.41-.59l7.78-7.78 2.81-2.81c.8-.78.8-2.07 0-2.86zM5.41 20L4 18.59l7.72-7.72 1.47 1.35L5.41 20z\"/>\n",
              "  </svg>\n",
              "      </button>\n",
              "      \n",
              "  <style>\n",
              "    .colab-df-container {\n",
              "      display:flex;\n",
              "      flex-wrap:wrap;\n",
              "      gap: 12px;\n",
              "    }\n",
              "\n",
              "    .colab-df-convert {\n",
              "      background-color: #E8F0FE;\n",
              "      border: none;\n",
              "      border-radius: 50%;\n",
              "      cursor: pointer;\n",
              "      display: none;\n",
              "      fill: #1967D2;\n",
              "      height: 32px;\n",
              "      padding: 0 0 0 0;\n",
              "      width: 32px;\n",
              "    }\n",
              "\n",
              "    .colab-df-convert:hover {\n",
              "      background-color: #E2EBFA;\n",
              "      box-shadow: 0px 1px 2px rgba(60, 64, 67, 0.3), 0px 1px 3px 1px rgba(60, 64, 67, 0.15);\n",
              "      fill: #174EA6;\n",
              "    }\n",
              "\n",
              "    [theme=dark] .colab-df-convert {\n",
              "      background-color: #3B4455;\n",
              "      fill: #D2E3FC;\n",
              "    }\n",
              "\n",
              "    [theme=dark] .colab-df-convert:hover {\n",
              "      background-color: #434B5C;\n",
              "      box-shadow: 0px 1px 3px 1px rgba(0, 0, 0, 0.15);\n",
              "      filter: drop-shadow(0px 1px 2px rgba(0, 0, 0, 0.3));\n",
              "      fill: #FFFFFF;\n",
              "    }\n",
              "  </style>\n",
              "\n",
              "      <script>\n",
              "        const buttonEl =\n",
              "          document.querySelector('#df-7cbe0557-0297-4a2c-aba2-f172bfcc7d65 button.colab-df-convert');\n",
              "        buttonEl.style.display =\n",
              "          google.colab.kernel.accessAllowed ? 'block' : 'none';\n",
              "\n",
              "        async function convertToInteractive(key) {\n",
              "          const element = document.querySelector('#df-7cbe0557-0297-4a2c-aba2-f172bfcc7d65');\n",
              "          const dataTable =\n",
              "            await google.colab.kernel.invokeFunction('convertToInteractive',\n",
              "                                                     [key], {});\n",
              "          if (!dataTable) return;\n",
              "\n",
              "          const docLinkHtml = 'Like what you see? Visit the ' +\n",
              "            '<a target=\"_blank\" href=https://colab.research.google.com/notebooks/data_table.ipynb>data table notebook</a>'\n",
              "            + ' to learn more about interactive tables.';\n",
              "          element.innerHTML = '';\n",
              "          dataTable['output_type'] = 'display_data';\n",
              "          await google.colab.output.renderOutput(dataTable, element);\n",
              "          const docLink = document.createElement('div');\n",
              "          docLink.innerHTML = docLinkHtml;\n",
              "          element.appendChild(docLink);\n",
              "        }\n",
              "      </script>\n",
              "    </div>\n",
              "  </div>\n",
              "  "
            ]
          },
          "metadata": {},
          "execution_count": 27
        }
      ]
    },
    {
      "cell_type": "markdown",
      "source": [
        "**First death in Brazil**\n",
        "\n",
        "The first death from COVID-19 in Brazil was on **March 17, 2020**, on that date there were already 321 confirmed cases."
      ],
      "metadata": {
        "id": "LjGivbbVGlAo"
      }
    },
    {
      "cell_type": "code",
      "source": [
        "# first death registered in Brazil\n",
        "df_brasil.loc[df_brasil['new_deaths'] == 1].head(1)"
      ],
      "metadata": {
        "colab": {
          "base_uri": "https://localhost:8080/",
          "height": 191
        },
        "id": "pFFuTp-9j8mt",
        "outputId": "633d1c68-8d65-4d1a-ca02-f68948bd97e3"
      },
      "execution_count": null,
      "outputs": [
        {
          "output_type": "execute_result",
          "data": {
            "text/plain": [
              "      iso_code      continent location       date  total_cases  new_cases  \\\n",
              "29560      BRA  South America   Brazil 2020-03-17        321.0      121.0   \n",
              "\n",
              "       new_cases_smoothed  total_deaths  new_deaths  new_deaths_smoothed  ...  \\\n",
              "29560              41.429           1.0         1.0                  NaN  ...   \n",
              "\n",
              "       male_smokers  handwashing_facilities  hospital_beds_per_thousand  \\\n",
              "29560          17.9                     NaN                         2.2   \n",
              "\n",
              "       life_expectancy  human_development_index   population  \\\n",
              "29560            75.88                    0.765  215313504.0   \n",
              "\n",
              "       excess_mortality_cumulative_absolute  excess_mortality_cumulative  \\\n",
              "29560                                   NaN                          NaN   \n",
              "\n",
              "       excess_mortality  excess_mortality_cumulative_per_million  \n",
              "29560               NaN                                      NaN  \n",
              "\n",
              "[1 rows x 67 columns]"
            ],
            "text/html": [
              "\n",
              "  <div id=\"df-500f2d05-7e9a-4fca-a909-936efd855171\">\n",
              "    <div class=\"colab-df-container\">\n",
              "      <div>\n",
              "<style scoped>\n",
              "    .dataframe tbody tr th:only-of-type {\n",
              "        vertical-align: middle;\n",
              "    }\n",
              "\n",
              "    .dataframe tbody tr th {\n",
              "        vertical-align: top;\n",
              "    }\n",
              "\n",
              "    .dataframe thead th {\n",
              "        text-align: right;\n",
              "    }\n",
              "</style>\n",
              "<table border=\"1\" class=\"dataframe\">\n",
              "  <thead>\n",
              "    <tr style=\"text-align: right;\">\n",
              "      <th></th>\n",
              "      <th>iso_code</th>\n",
              "      <th>continent</th>\n",
              "      <th>location</th>\n",
              "      <th>date</th>\n",
              "      <th>total_cases</th>\n",
              "      <th>new_cases</th>\n",
              "      <th>new_cases_smoothed</th>\n",
              "      <th>total_deaths</th>\n",
              "      <th>new_deaths</th>\n",
              "      <th>new_deaths_smoothed</th>\n",
              "      <th>...</th>\n",
              "      <th>male_smokers</th>\n",
              "      <th>handwashing_facilities</th>\n",
              "      <th>hospital_beds_per_thousand</th>\n",
              "      <th>life_expectancy</th>\n",
              "      <th>human_development_index</th>\n",
              "      <th>population</th>\n",
              "      <th>excess_mortality_cumulative_absolute</th>\n",
              "      <th>excess_mortality_cumulative</th>\n",
              "      <th>excess_mortality</th>\n",
              "      <th>excess_mortality_cumulative_per_million</th>\n",
              "    </tr>\n",
              "  </thead>\n",
              "  <tbody>\n",
              "    <tr>\n",
              "      <th>29560</th>\n",
              "      <td>BRA</td>\n",
              "      <td>South America</td>\n",
              "      <td>Brazil</td>\n",
              "      <td>2020-03-17</td>\n",
              "      <td>321.0</td>\n",
              "      <td>121.0</td>\n",
              "      <td>41.429</td>\n",
              "      <td>1.0</td>\n",
              "      <td>1.0</td>\n",
              "      <td>NaN</td>\n",
              "      <td>...</td>\n",
              "      <td>17.9</td>\n",
              "      <td>NaN</td>\n",
              "      <td>2.2</td>\n",
              "      <td>75.88</td>\n",
              "      <td>0.765</td>\n",
              "      <td>215313504.0</td>\n",
              "      <td>NaN</td>\n",
              "      <td>NaN</td>\n",
              "      <td>NaN</td>\n",
              "      <td>NaN</td>\n",
              "    </tr>\n",
              "  </tbody>\n",
              "</table>\n",
              "<p>1 rows × 67 columns</p>\n",
              "</div>\n",
              "      <button class=\"colab-df-convert\" onclick=\"convertToInteractive('df-500f2d05-7e9a-4fca-a909-936efd855171')\"\n",
              "              title=\"Convert this dataframe to an interactive table.\"\n",
              "              style=\"display:none;\">\n",
              "        \n",
              "  <svg xmlns=\"http://www.w3.org/2000/svg\" height=\"24px\"viewBox=\"0 0 24 24\"\n",
              "       width=\"24px\">\n",
              "    <path d=\"M0 0h24v24H0V0z\" fill=\"none\"/>\n",
              "    <path d=\"M18.56 5.44l.94 2.06.94-2.06 2.06-.94-2.06-.94-.94-2.06-.94 2.06-2.06.94zm-11 1L8.5 8.5l.94-2.06 2.06-.94-2.06-.94L8.5 2.5l-.94 2.06-2.06.94zm10 10l.94 2.06.94-2.06 2.06-.94-2.06-.94-.94-2.06-.94 2.06-2.06.94z\"/><path d=\"M17.41 7.96l-1.37-1.37c-.4-.4-.92-.59-1.43-.59-.52 0-1.04.2-1.43.59L10.3 9.45l-7.72 7.72c-.78.78-.78 2.05 0 2.83L4 21.41c.39.39.9.59 1.41.59.51 0 1.02-.2 1.41-.59l7.78-7.78 2.81-2.81c.8-.78.8-2.07 0-2.86zM5.41 20L4 18.59l7.72-7.72 1.47 1.35L5.41 20z\"/>\n",
              "  </svg>\n",
              "      </button>\n",
              "      \n",
              "  <style>\n",
              "    .colab-df-container {\n",
              "      display:flex;\n",
              "      flex-wrap:wrap;\n",
              "      gap: 12px;\n",
              "    }\n",
              "\n",
              "    .colab-df-convert {\n",
              "      background-color: #E8F0FE;\n",
              "      border: none;\n",
              "      border-radius: 50%;\n",
              "      cursor: pointer;\n",
              "      display: none;\n",
              "      fill: #1967D2;\n",
              "      height: 32px;\n",
              "      padding: 0 0 0 0;\n",
              "      width: 32px;\n",
              "    }\n",
              "\n",
              "    .colab-df-convert:hover {\n",
              "      background-color: #E2EBFA;\n",
              "      box-shadow: 0px 1px 2px rgba(60, 64, 67, 0.3), 0px 1px 3px 1px rgba(60, 64, 67, 0.15);\n",
              "      fill: #174EA6;\n",
              "    }\n",
              "\n",
              "    [theme=dark] .colab-df-convert {\n",
              "      background-color: #3B4455;\n",
              "      fill: #D2E3FC;\n",
              "    }\n",
              "\n",
              "    [theme=dark] .colab-df-convert:hover {\n",
              "      background-color: #434B5C;\n",
              "      box-shadow: 0px 1px 3px 1px rgba(0, 0, 0, 0.15);\n",
              "      filter: drop-shadow(0px 1px 2px rgba(0, 0, 0, 0.3));\n",
              "      fill: #FFFFFF;\n",
              "    }\n",
              "  </style>\n",
              "\n",
              "      <script>\n",
              "        const buttonEl =\n",
              "          document.querySelector('#df-500f2d05-7e9a-4fca-a909-936efd855171 button.colab-df-convert');\n",
              "        buttonEl.style.display =\n",
              "          google.colab.kernel.accessAllowed ? 'block' : 'none';\n",
              "\n",
              "        async function convertToInteractive(key) {\n",
              "          const element = document.querySelector('#df-500f2d05-7e9a-4fca-a909-936efd855171');\n",
              "          const dataTable =\n",
              "            await google.colab.kernel.invokeFunction('convertToInteractive',\n",
              "                                                     [key], {});\n",
              "          if (!dataTable) return;\n",
              "\n",
              "          const docLinkHtml = 'Like what you see? Visit the ' +\n",
              "            '<a target=\"_blank\" href=https://colab.research.google.com/notebooks/data_table.ipynb>data table notebook</a>'\n",
              "            + ' to learn more about interactive tables.';\n",
              "          element.innerHTML = '';\n",
              "          dataTable['output_type'] = 'display_data';\n",
              "          await google.colab.output.renderOutput(dataTable, element);\n",
              "          const docLink = document.createElement('div');\n",
              "          docLink.innerHTML = docLinkHtml;\n",
              "          element.appendChild(docLink);\n",
              "        }\n",
              "      </script>\n",
              "    </div>\n",
              "  </div>\n",
              "  "
            ]
          },
          "metadata": {},
          "execution_count": 28
        }
      ]
    },
    {
      "cell_type": "markdown",
      "source": [
        "**Comparison of the first case with the first death**\n",
        "\n",
        "After the first confirmed case of COVID-19, it took **20 days** for the first death to occur."
      ],
      "metadata": {
        "id": "BumyMfNQGzYl"
      }
    },
    {
      "cell_type": "code",
      "source": [
        "# calculating time from first case to first death\n",
        "from datetime import date\n",
        "delta = df_brazil.date.loc[29560] - df_brazil.date.loc[29540]\n",
        "print('{} days passed between the first case and the first death in Brazil.'.format(delta.days))"
      ],
      "metadata": {
        "colab": {
          "base_uri": "https://localhost:8080/"
        },
        "id": "EZx06fM5kww_",
        "outputId": "7d34219a-c2d5-459a-fb15-b29b0b98a7a9"
      },
      "execution_count": null,
      "outputs": [
        {
          "output_type": "stream",
          "name": "stdout",
          "text": [
            "20 days passed between the first case and the first death in Brazil.\n"
          ]
        }
      ]
    },
    {
      "cell_type": "markdown",
      "source": [
        "**Chart with evolution of cases and deaths in Brazil**\n",
        "\n",
        "By plotting the line graph of cases and deaths in Brazil, we identified that they continue to rise, on a smaller scale compared to the beginning of the pandemic and at the height of the disease."
      ],
      "metadata": {
        "id": "s_JDxKjhgyqR"
      }
    },
    {
      "cell_type": "code",
      "source": [
        "# Plot line graphs on linear and logarithmic scales for total cases and total deaths.\n",
        "x = list(range(1023))\n",
        "z = df_brasil['total_cases']\n",
        "z2 = df_brasil['total_deaths']\n",
        "\n",
        "fig, ((ax1, ax2), (ax3, ax4)) = plt.subplots(nrows=2, ncols=2, figsize=(9, 7))\n",
        "ax1.set_title('Cases in Brazil')\n",
        "ax1.set_xlabel('Days')\n",
        "ax1.set_ylabel('Cases')\n",
        "ax1.plot(x, z)\n",
        "\n",
        "ax2.set_title('Cases in Brazil (Logarithmic scale)')\n",
        "ax2.set_xlabel('Days')\n",
        "ax2.set_ylabel('Cases')\n",
        "ax2.set_yscale('log')\n",
        "ax2.plot(x, z)\n",
        "\n",
        "ax3.set_title('Deaths in Brazil')\n",
        "ax3.set_xlabel('Days')\n",
        "ax3.set_ylabel('Deaths')\n",
        "ax3.plot(x, z2)\n",
        "\n",
        "ax4.set_title('Deaths in Brazil (Logarithmic scale)')\n",
        "ax4.set_xlabel('Days')\n",
        "ax4.set_ylabel('Deaths')\n",
        "ax4.set_yscale('log')\n",
        "ax4.plot(x, z2)\n",
        "plt.tight_layout()"
      ],
      "metadata": {
        "colab": {
          "base_uri": "https://localhost:8080/",
          "height": 513
        },
        "id": "w_b4XA4XlOpG",
        "outputId": "943ff483-2e54-49b3-af56-dd16c151fb49"
      },
      "execution_count": null,
      "outputs": [
        {
          "output_type": "display_data",
          "data": {
            "text/plain": [
              "<Figure size 648x504 with 4 Axes>"
            ],
            "image/png": "[encoded data removed]"
          },
          "metadata": {
            "needs_background": "light"
          }
        }
      ]
    },
    {
      "cell_type": "markdown",
      "source": [
        "**Total deaths worldwide**\n",
        "\n",
        "Below is the total number of deaths caused by COVID-19 in the world, until 2022-12-14, 6.658.669 deaths were counted."
      ],
      "metadata": {
        "id": "3gfy_GfFpvuV"
      }
    },
    {
      "cell_type": "code",
      "source": [
        "# total deaths in the world\n",
        "df.loc[df.date == '2022-12-14'].sort_values(by=\"total_deaths\", ascending=False)[0:1]"
      ],
      "metadata": {
        "colab": {
          "base_uri": "https://localhost:8080/",
          "height": 191
        },
        "id": "FSqiUfaseqm8",
        "outputId": "7d3a3990-56e8-406d-cf8c-aae8c91be304"
      },
      "execution_count": null,
      "outputs": [
        {
          "output_type": "execute_result",
          "data": {
            "text/plain": [
              "        iso_code continent location       date  total_cases  new_cases  \\\n",
              "239713  OWID_WRL       NaN    World 2022-12-14  651004601.0   673549.0   \n",
              "\n",
              "        new_cases_smoothed  total_deaths  new_deaths  new_deaths_smoothed  \\\n",
              "239713            578631.0     6658669.0      2396.0             1712.429   \n",
              "\n",
              "        ...  male_smokers  handwashing_facilities  hospital_beds_per_thousand  \\\n",
              "239713  ...        34.635                   60.13                       2.705   \n",
              "\n",
              "        life_expectancy  human_development_index    population  \\\n",
              "239713            72.58                    0.737  7.975105e+09   \n",
              "\n",
              "        excess_mortality_cumulative_absolute  excess_mortality_cumulative  \\\n",
              "239713                                   NaN                          NaN   \n",
              "\n",
              "        excess_mortality  excess_mortality_cumulative_per_million  \n",
              "239713               NaN                                      NaN  \n",
              "\n",
              "[1 rows x 67 columns]"
            ],
            "text/html": [
              "\n",
              "  <div id=\"df-28ba1a14-e97e-4a96-a32c-1c3871080e6f\">\n",
              "    <div class=\"colab-df-container\">\n",
              "      <div>\n",
              "<style scoped>\n",
              "    .dataframe tbody tr th:only-of-type {\n",
              "        vertical-align: middle;\n",
              "    }\n",
              "\n",
              "    .dataframe tbody tr th {\n",
              "        vertical-align: top;\n",
              "    }\n",
              "\n",
              "    .dataframe thead th {\n",
              "        text-align: right;\n",
              "    }\n",
              "</style>\n",
              "<table border=\"1\" class=\"dataframe\">\n",
              "  <thead>\n",
              "    <tr style=\"text-align: right;\">\n",
              "      <th></th>\n",
              "      <th>iso_code</th>\n",
              "      <th>continent</th>\n",
              "      <th>location</th>\n",
              "      <th>date</th>\n",
              "      <th>total_cases</th>\n",
              "      <th>new_cases</th>\n",
              "      <th>new_cases_smoothed</th>\n",
              "      <th>total_deaths</th>\n",
              "      <th>new_deaths</th>\n",
              "      <th>new_deaths_smoothed</th>\n",
              "      <th>...</th>\n",
              "      <th>male_smokers</th>\n",
              "      <th>handwashing_facilities</th>\n",
              "      <th>hospital_beds_per_thousand</th>\n",
              "      <th>life_expectancy</th>\n",
              "      <th>human_development_index</th>\n",
              "      <th>population</th>\n",
              "      <th>excess_mortality_cumulative_absolute</th>\n",
              "      <th>excess_mortality_cumulative</th>\n",
              "      <th>excess_mortality</th>\n",
              "      <th>excess_mortality_cumulative_per_million</th>\n",
              "    </tr>\n",
              "  </thead>\n",
              "  <tbody>\n",
              "    <tr>\n",
              "      <th>239713</th>\n",
              "      <td>OWID_WRL</td>\n",
              "      <td>NaN</td>\n",
              "      <td>World</td>\n",
              "      <td>2022-12-14</td>\n",
              "      <td>651004601.0</td>\n",
              "      <td>673549.0</td>\n",
              "      <td>578631.0</td>\n",
              "      <td>6658669.0</td>\n",
              "      <td>2396.0</td>\n",
              "      <td>1712.429</td>\n",
              "      <td>...</td>\n",
              "      <td>34.635</td>\n",
              "      <td>60.13</td>\n",
              "      <td>2.705</td>\n",
              "      <td>72.58</td>\n",
              "      <td>0.737</td>\n",
              "      <td>7.975105e+09</td>\n",
              "      <td>NaN</td>\n",
              "      <td>NaN</td>\n",
              "      <td>NaN</td>\n",
              "      <td>NaN</td>\n",
              "    </tr>\n",
              "  </tbody>\n",
              "</table>\n",
              "<p>1 rows × 67 columns</p>\n",
              "</div>\n",
              "      <button class=\"colab-df-convert\" onclick=\"convertToInteractive('df-28ba1a14-e97e-4a96-a32c-1c3871080e6f')\"\n",
              "              title=\"Convert this dataframe to an interactive table.\"\n",
              "              style=\"display:none;\">\n",
              "        \n",
              "  <svg xmlns=\"http://www.w3.org/2000/svg\" height=\"24px\"viewBox=\"0 0 24 24\"\n",
              "       width=\"24px\">\n",
              "    <path d=\"M0 0h24v24H0V0z\" fill=\"none\"/>\n",
              "    <path d=\"M18.56 5.44l.94 2.06.94-2.06 2.06-.94-2.06-.94-.94-2.06-.94 2.06-2.06.94zm-11 1L8.5 8.5l.94-2.06 2.06-.94-2.06-.94L8.5 2.5l-.94 2.06-2.06.94zm10 10l.94 2.06.94-2.06 2.06-.94-2.06-.94-.94-2.06-.94 2.06-2.06.94z\"/><path d=\"M17.41 7.96l-1.37-1.37c-.4-.4-.92-.59-1.43-.59-.52 0-1.04.2-1.43.59L10.3 9.45l-7.72 7.72c-.78.78-.78 2.05 0 2.83L4 21.41c.39.39.9.59 1.41.59.51 0 1.02-.2 1.41-.59l7.78-7.78 2.81-2.81c.8-.78.8-2.07 0-2.86zM5.41 20L4 18.59l7.72-7.72 1.47 1.35L5.41 20z\"/>\n",
              "  </svg>\n",
              "      </button>\n",
              "      \n",
              "  <style>\n",
              "    .colab-df-container {\n",
              "      display:flex;\n",
              "      flex-wrap:wrap;\n",
              "      gap: 12px;\n",
              "    }\n",
              "\n",
              "    .colab-df-convert {\n",
              "      background-color: #E8F0FE;\n",
              "      border: none;\n",
              "      border-radius: 50%;\n",
              "      cursor: pointer;\n",
              "      display: none;\n",
              "      fill: #1967D2;\n",
              "      height: 32px;\n",
              "      padding: 0 0 0 0;\n",
              "      width: 32px;\n",
              "    }\n",
              "\n",
              "    .colab-df-convert:hover {\n",
              "      background-color: #E2EBFA;\n",
              "      box-shadow: 0px 1px 2px rgba(60, 64, 67, 0.3), 0px 1px 3px 1px rgba(60, 64, 67, 0.15);\n",
              "      fill: #174EA6;\n",
              "    }\n",
              "\n",
              "    [theme=dark] .colab-df-convert {\n",
              "      background-color: #3B4455;\n",
              "      fill: #D2E3FC;\n",
              "    }\n",
              "\n",
              "    [theme=dark] .colab-df-convert:hover {\n",
              "      background-color: #434B5C;\n",
              "      box-shadow: 0px 1px 3px 1px rgba(0, 0, 0, 0.15);\n",
              "      filter: drop-shadow(0px 1px 2px rgba(0, 0, 0, 0.3));\n",
              "      fill: #FFFFFF;\n",
              "    }\n",
              "  </style>\n",
              "\n",
              "      <script>\n",
              "        const buttonEl =\n",
              "          document.querySelector('#df-28ba1a14-e97e-4a96-a32c-1c3871080e6f button.colab-df-convert');\n",
              "        buttonEl.style.display =\n",
              "          google.colab.kernel.accessAllowed ? 'block' : 'none';\n",
              "\n",
              "        async function convertToInteractive(key) {\n",
              "          const element = document.querySelector('#df-28ba1a14-e97e-4a96-a32c-1c3871080e6f');\n",
              "          const dataTable =\n",
              "            await google.colab.kernel.invokeFunction('convertToInteractive',\n",
              "                                                     [key], {});\n",
              "          if (!dataTable) return;\n",
              "\n",
              "          const docLinkHtml = 'Like what you see? Visit the ' +\n",
              "            '<a target=\"_blank\" href=https://colab.research.google.com/notebooks/data_table.ipynb>data table notebook</a>'\n",
              "            + ' to learn more about interactive tables.';\n",
              "          element.innerHTML = '';\n",
              "          dataTable['output_type'] = 'display_data';\n",
              "          await google.colab.output.renderOutput(dataTable, element);\n",
              "          const docLink = document.createElement('div');\n",
              "          docLink.innerHTML = docLinkHtml;\n",
              "          element.appendChild(docLink);\n",
              "        }\n",
              "      </script>\n",
              "    </div>\n",
              "  </div>\n",
              "  "
            ]
          },
          "metadata": {},
          "execution_count": 31
        }
      ]
    },
    {
      "cell_type": "markdown",
      "source": [
        "**Waffle chart comparing deaths in Brazil with deaths in the world**\n",
        "\n",
        "To finalize the analysis a waffle graph will be plotted, waffle graphs do not come with the `matplotlib` library. In this case we install the `pywaffle` package, as it integrates perfectly with `matplotlib`."
      ],
      "metadata": {
        "id": "UrZVKNuwrWlH"
      }
    },
    {
      "cell_type": "code",
      "source": [
        "# install pywaffle\n",
        "!pip install pywaffle -q"
      ],
      "metadata": {
        "colab": {
          "base_uri": "https://localhost:8080/"
        },
        "id": "QUO0c7867feF",
        "outputId": "970fa087-99ac-4488-a6e6-02d862f72ea3"
      },
      "execution_count": null,
      "outputs": [
        {
          "output_type": "stream",
          "name": "stdout",
          "text": [
            "\u001b[K     |████████████████████████████████| 25.1 MB 2.8 MB/s \n",
            "\u001b[?25h"
          ]
        }
      ]
    },
    {
      "cell_type": "code",
      "source": [
        "# import the necessary libraries\n",
        "import matplotlib.pyplot as plt\n",
        "from pywaffle import Waffle"
      ],
      "metadata": {
        "id": "g7WzCgoH_VaU"
      },
      "execution_count": null,
      "outputs": []
    },
    {
      "cell_type": "markdown",
      "source": [
        "With the graph plotted, it is possible to have a better idea of the number of deaths that occurred in Brazil, compared to the total deaths in the world, the deaths that occurred in Brazil represent 10.38% of the deaths that occurred in the world."
      ],
      "metadata": {
        "id": "Gk2oFQCut1eC"
      }
    },
    {
      "cell_type": "code",
      "source": [
        "# Plot Waffle Chart\n",
        "covid_today = df.loc[df['date'] == df['date'].max(),['location', 'total_deaths','total_cases']].sort_values(by='total_deaths', ascending=False)[:1]\n",
        "total_deaths = int(covid_today.loc[covid_today.index[-1],'total_deaths'])\n",
        "deaths_covid_brazil = int(df_brazil['total_deaths'].max())\n",
        "data = {'Deaths in the World':total_deaths, 'Deaths in Brazil':deaths_covid_brazil}\n",
        "\n",
        "fig = plt.figure(\n",
        "    FigureClass=Waffle, \n",
        "    rows= 4, \n",
        "    columns = 10,\n",
        "    title={'label':'Deaths in the World X Deaths in Brazil'},\n",
        "    values={'Deaths in the World (except Brazil)': 5967220,                        \n",
        "                        'deaths in Brazil': 691449}, \n",
        "    colors=(\"#232066\", \"#983D3D\"),\n",
        "    legend={'loc': 'upper left', 'bbox_to_anchor': (1.0, 1.1)},\n",
        "    icon_size=30, \n",
        "    icon_legend=True\n",
        "    )\n",
        "\n",
        "fig.set_tight_layout(False)\n",
        "plt.show();\n",
        "\n",
        "percentage_deaths = round((deaths_covid_brazil * 100) / total_deaths, 2)\n",
        "\n",
        "display(\"Deaths from COVID-19 in Brazil represent \"  + \n",
        "             str(percentage_deaths) + '% of all deaths in the world.'\"\")"
      ],
      "metadata": {
        "colab": {
          "base_uri": "https://localhost:8080/",
          "height": 195
        },
        "id": "kfbee8sojltA",
        "outputId": "831be4cb-ff7b-406e-d286-1915535a0270"
      },
      "execution_count": null,
      "outputs": [
        {
          "output_type": "display_data",
          "data": {
            "text/plain": [
              "<Waffle size 432x288 with 1 Axes>"
            ],
            "image/png": "[encoded data removed]"
          },
          "metadata": {
            "needs_background": "light"
          }
        },
        {
          "output_type": "display_data",
          "data": {
            "text/plain": [
              "'Deaths from COVID-19 in Brazil represent 10.38% of all deaths in the world.'"
            ],
            "application/vnd.google.colaboratory.intrinsic+json": {
              "type": "string"
            }
          },
          "metadata": {}
        }
      ]
    },
    {
      "cell_type": "markdown",
      "metadata": {
        "id": "LCsiXvM3BcsO"
      },
      "source": [
        "## Conclusion\n",
        "\n",
        "<center><img alt=\"Colaboratory logo\" width=\"50%\" src=\"https://images.unsplash.com/photo-1605289982774-9a6fef564df8?ixlib=rb-4.0.3&ixid=MnwxMjA3fDB8MHxzZWFyY2h8NHx8Y292aWQlMjAxOXxlbnwwfHwwfHw%3D&auto=format&fit=crop&w=500&q=60\"></center>\n",
        "\n",
        "An extremely important detail to note is that this data is measured daily, and this dataset will go out of date \"quickly\".\n",
        "\n",
        "However, taking into account the context of the analyzed data, it is worth noting that:\n",
        "\n",
        "* The United States is the country with the highest number of cases and deaths, with a large difference with the next placed;\n",
        "* Germany, South Korea and Japan are among the countries with the most cases, however they do not enter the list of those with the most deaths, indicating that they do a good job in treating the contaminated;\n",
        "* Brazil is the fifth country with the most confirmed cases, but rises to second position in the number of deaths;\n",
        "* We note that death cases in the world continue to grow, however more moderately, compared to the beginning and peak of the pandemic;\n",
        "* The highest number of deaths by per capita income is approximately US$ 55,000.00, due to the large concentration of deaths in the United States;\n",
        "* In Brazil, the first death occurred on March 17, 2020, after approximately 2 years and 10 months this number increased to 691,449 deaths;\n",
        "* Based on the project’s base date (2022-12-14), we analyzed an increase in cases and deaths in Brazil, according to the World Health Organization, with the results released on 11/30/2022, indicating a 113% increase in deaths in the last seven days of November.\n",
        "* Deaths from COVID-19 in Brazil represent 10.38% of all deaths in the world\n",
        "\n",
        "Data analysis is a great alternative for us to be able to understand the current pandemic scenario, as it clearly presents us with up-to-date information. This was an analysis to verify the number of cases and deaths, and it may be more in-depth according to the purpose of the research.\n",
        "\n",
        "\n"
      ]
    }
  ]
}